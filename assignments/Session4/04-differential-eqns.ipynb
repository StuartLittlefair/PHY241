{
 "cells": [
  {
   "cell_type": "markdown",
   "metadata": {
    "collapsed": false
   },
   "source": [
    "###### The cell below loads the visual style of the notebook when run."
   ]
  },
  {
   "cell_type": "code",
   "execution_count": 1,
   "metadata": {
    "collapsed": false
   },
   "outputs": [
    {
     "data": {
      "text/html": [
       "<link href='http://fonts.googleapis.com/css?family=Crimson+Text' rel='stylesheet' type='text/css'>\n",
       "<link href='http://fonts.googleapis.com/css?family=Kameron' rel='stylesheet' type='text/css'>\n",
       "<link href='http://fonts.googleapis.com/css?family=Lato:200,300,400' rel='stylesheet' type='text/css'>\n",
       "<link href='http://fonts.googleapis.com/css?family=Source+Code+Pro' rel='stylesheet' type='text/css'>\n",
       "<style>\n",
       "\n",
       "@font-face {\n",
       "    font-family: \"Computer Modern\";\n",
       "    src: url('http://mirrors.ctan.org/fonts/cm-unicode/fonts/otf/cmunss.otf');\n",
       "}\n",
       "\n",
       "#notebook_panel { /* main background */\n",
       "    background: rgb(245,245,245);\n",
       "}\n",
       "\n",
       "\n",
       "div #notebook { /* centre the content */\n",
       "    background: #fff; /* white background for content */\n",
       "    margin: auto;\n",
       "    padding-left: 0em;\n",
       "}\n",
       "\n",
       "\n",
       "#notebook li { /* More space between bullet points */\n",
       "    margin-top:0.8em;\n",
       "}\n",
       "\n",
       "/* draw border around running cells */\n",
       "div.cell.border-box-sizing.code_cell.running { \n",
       "    border: 1px solid #111;\n",
       "}\n",
       "\n",
       "/* Put a solid color box around each cell and its output, visually linking them*/\n",
       "div.cell.code_cell {\n",
       "    background-color: rgb(256,256,256); \n",
       "    border-radius: 0px; \n",
       "    /* width: 105ex; */\n",
       "    padding: 0.5em;\n",
       "    margin-left:1em;\n",
       "    margin-top: 1em;\n",
       "}\n",
       "\n",
       "div.input_area {\n",
       "    border-color: rgba(0,0,0,0.10);\n",
       "    background: rbga(0,0,0,0.5);\n",
       "}\n",
       "\n",
       "/*\n",
       "div.text_cell {\n",
       "    max-width: 105ex; /* instead of 100%, */\n",
       "}\n",
       "*/\n",
       "\n",
       "div.text_cell_render {\n",
       "    font-family: \"Crimson Text\";\n",
       "    font-size: 12pt;\n",
       "    line-height: 145%; /* added for some line spacing of text. */\n",
       "}\n",
       "\n",
       "div.text_cell_render h1,\n",
       "div.text_cell_render h2,\n",
       "div.text_cell_render h3,\n",
       "div.text_cell_render h4,\n",
       "div.text_cell_render h5,\n",
       "div.text_cell_render h6 {\n",
       "    font-family: 'Kameron';\n",
       "    font-weight: 300;\n",
       "}\n",
       "\n",
       "div.text_cell_render h1 {\n",
       "    font-size: 24pt;\n",
       "}\n",
       "\n",
       "div.text_cell_render h2 {\n",
       "    font-size: 18pt;\n",
       "}\n",
       "\n",
       "div.text_cell_render h3 {\n",
       "    font-size: 14pt;\n",
       "}\n",
       "\n",
       ".rendered_html pre,\n",
       ".rendered_html code {\n",
       "    font-size: medium;\n",
       "    background-color: rgba(246,246,246,1);\n",
       "    padding: 2px;\n",
       "}\n",
       "\n",
       ".rendered_html ol {\n",
       "    list-style:decimal;\n",
       "    margin: 1em 2em;\n",
       "}\n",
       "\n",
       ".CodeMirror pre{\n",
       "        font-family: 'Source Code Pro', Consolas, monocco, monospace;\n",
       "}\n",
       "\n",
       "/* Make space between the fa icon and the rest of the header */\n",
       ".panel-heading h1 span,\n",
       ".panel-heading h2 span,\n",
       ".panel-heading h3 span,\n",
       ".panel-heading h4 span,\n",
       ".panel-heading h5 span,\n",
       ".panel-heading h6 span {\n",
       "    padding-right: 10px;\n",
       "}\n",
       "\n",
       ".fa {\n",
       "    padding: 5px;\n",
       "    }\n",
       "   \n",
       "kbd {\n",
       "    padding:0.1em 0.6em;\n",
       "    border:1px solid #ccc;\n",
       "    font-size:11px;\n",
       "    font-family:Arial,Helvetica,sans-serif;\n",
       "    background-color:#f7f7f7;\n",
       "    color:#333;\n",
       "    -moz-box-shadow:0 1px 0px rgba(0, 0, 0, 0.2),0 0 0 2px #ffffff inset;\n",
       "    -webkit-box-shadow:0 1px 0px rgba(0, 0, 0, 0.2),0 0 0 2px #ffffff inset;\n",
       "    box-shadow:0 1px 0px rgba(0, 0, 0, 0.2),0 0 0 2px #ffffff inset;\n",
       "    -moz-border-radius:3px;\n",
       "    -webkit-border-radius:3px;\n",
       "    border-radius:3px;\n",
       "    display:inline-block;\n",
       "    margin:0 0.1em;\n",
       "    text-shadow:0 1px 0 #fff;\n",
       "    line-height:1.4;\n",
       "    white-space:nowrap;\n",
       "}\n",
       "\n",
       "</style>\n",
       "<script>\n",
       "    MathJax.Hub.Config({\n",
       "                        TeX: {\n",
       "                           extensions: [\"AMSmath.js\"],\n",
       "                           equationNumbers: { autoNumber: \"AMS\", useLabelIds: true}\n",
       "                           },\n",
       "                tex2jax: {\n",
       "                    inlineMath: [ ['$','$'], [\"\\\\(\",\"\\\\)\"] ],\n",
       "                    displayMath: [ ['$$','$$'], [\"\\\\[\",\"\\\\]\"] ]\n",
       "                },\n",
       "                displayAlign: 'center', // Change this to 'center' to center equations.\n",
       "                \"HTML-CSS\": {\n",
       "                    styles: {'.MathJax_Display': {\"margin\": 4}}\n",
       "                }\n",
       "        });\n",
       "</script>"
      ]
     },
     "execution_count": 1,
     "metadata": {
     },
     "output_type": "execute_result"
    }
   ],
   "source": [
    "from IPython.core.display import HTML\n",
    "css_file = '../../styles/styles.css'\n",
    "HTML(open(css_file, \"r\").read())"
   ]
  },
  {
   "cell_type": "markdown",
   "metadata": {
    "collapsed": false
   },
   "source": [
    "# Solving Differential Equations"
   ]
  },
  {
   "cell_type": "markdown",
   "metadata": {
    "collapsed": false
   },
   "source": [
    "<section class=\"objectives panel panel-warning\">\n",
    "<div class=\"panel-heading\">\n",
    "<h2><span class=\"fa fa-certificate\"></span>Learning Objectives</h2>\n",
    "</div>\n",
    "</section>\n",
    "\n",
    "> * Learn how to solve simple differential equations using\n",
    "     - Euler's Method\n",
    "     - SciPy"
   ]
  },
  {
   "cell_type": "markdown",
   "metadata": {
    "collapsed": false
   },
   "source": [
    "<div class=\"alert alert-info\">\n",
    "<h4>\n",
    "As a not-so-subtle hint, the material in this lecture may come in handy when you need to solve the Lane-Emden equations of stellar structure in the PHY213 Labs!</h4>\n",
    "</div>\n",
    "\n",
    "\n",
    "## Ordinary Differential Equations\n",
    "\n",
    "Ordinary differential equations are ones that can be written in the form\n",
    "\n",
    "$$\n",
    "\\frac{d{\\mathbf X}}{dt} = {\\mathbf f}({\\mathbf X}, t),\n",
    "$$\n",
    "\n",
    "where the bold typeface indicates a vector. \n",
    "\n",
    "A simple example is an object falling straight down under gravity. This object obeys the second-order differential equation\n",
    "\n",
    "$$\\frac{d^2y}{dt^2} = -g.$$\n",
    "\n",
    "This doesn't look like the equation above for an ordinary differential equation. However, we can break this into two, coupled, equations:\n",
    "\n",
    "$$\n",
    "\\begin{align*}\n",
    "\\frac{dy}{dt} &= v_y \\\\ \n",
    "\\frac{d v_y}{dt} &= -g.\n",
    "\\end{align*}\n",
    "$$\n",
    "\n",
    "This can be written in the above vector form if\n",
    "\n",
    "$$\n",
    "{\\mathbf X} = \\begin{bmatrix}y \\\\ v_y \\end{bmatrix}\n",
    "$$\n",
    "\n",
    "and \n",
    "\n",
    "$$\n",
    "{\\mathbf f}({\\mathbf X}, t) = \\frac{d{\\mathbf X}}{dt} = \\begin{bmatrix}v_y \\\\ -g \\end{bmatrix}\n",
    "$$\n",
    "\n",
    "Of course, this very simple example doesn't need a computer to solve it! The analytical solution is $y = ut + \\frac{1}{2}at^2$. However - we're going to use it as our example for how to solve a differential equation with a computer anyway. For one thing, we can easily check our answer, but we can also solve more difficult ODEs once we understand the method.\n",
    "\n",
    "---"
   ]
  },
  {
   "cell_type": "markdown",
   "metadata": {
    "collapsed": false
   },
   "source": [
    "## How to solve ODEs numerically.\n",
    "\n",
    "The simple and intuitive way to solve an ODE is to use what is known as Euler's Method. To see how this works, let's consider the formal definition of $\\frac{dy}{dt}$:\n",
    "\n",
    "$$\\frac{dy}{dt} = \\lim_{\\tau\\to0} \\, \\frac{y(t+\\tau) - y(t)}{\\tau}$$\n",
    "\n",
    "If we wanted to estimate $\\frac{dy}{dt}$ on a computer, we could use some very small, but finite value of $\\tau$:\n",
    "\n",
    "$$\\frac{dy}{dt} \\approx \\frac{y(t+\\tau) - y(t)}{\\tau}.$$\n",
    "\n",
    "We can re-arrange this equation, and note that $\\frac{dy}{dt} = v_y$, to get\n",
    "\n",
    "$$y(t+\\tau) \\approx y(t) + v_y \\tau.$$\n",
    "\n",
    "We can find $v_y(t+\\tau)$ using the same method with the equation $\\frac{dv_y}{dt} = -g$:\n",
    "\n",
    "$$v_y(t+\\tau) \\approx  v_y(t) - g\\tau.$$\n",
    "\n",
    "With a bit of thought, this suggests an iterative method for finding both $v_y(t)$ and $y(t)$. Starting with some known conditions at $t=0$, we can compute the velocity a small time later, $v_y(\\tau)$, using the equation above. We can then use this to find $y(\\tau)$. Now, we can use these values and repeat the process to find $v_y$ and $y$ for the next time step, and so on for as long as we desire. This is Euler's Method.\n",
    "\n",
    "In fact, you've already used this approach in the first year, where you calculated [orbits](http://nbviewer.ipython.org/github/StuartLittlefair/python-teaching/blob/master/PHY116/Orbits.ipynb) in Python. Hopefully then, this approach should seem familiar!\n",
    "\n",
    "Below, we'll look at a concrete (hah!) example and solve the equation for an object falling from the roof of the Arts Tower. First, we'll define our initial conditions, and choose a small timestep, $\\tau$."
   ]
  },
  {
   "cell_type": "code",
   "execution_count": 0,
   "metadata": {
    "collapsed": true
   },
   "outputs": [
   ],
   "source": [
    "# initial conditions\n",
    "y   = 78.0  # height of the art's tower, in metres\n",
    "vy  =  0.0  # starting at rest\n",
    "tau = 0.01 # timestep of 0.01 seconds\n",
    "g   = 9.8 # acceleration due to gravity!"
   ]
  },
  {
   "cell_type": "markdown",
   "metadata": {
    "collapsed": false
   },
   "source": [
    "Now we'll increment a single timestep, just to see how it's done..."
   ]
  },
  {
   "cell_type": "code",
   "execution_count": 0,
   "metadata": {
    "collapsed": false
   },
   "outputs": [
   ],
   "source": [
    "# calculate the values at the next timestep\n",
    "vy_next = vy - g*tau\n",
    "y_next  = y + vy*tau\n",
    "\n",
    "# update the current values to be the new ones\n",
    "vy = vy_next\n",
    "y  = y_next"
   ]
  },
  {
   "cell_type": "markdown",
   "metadata": {
    "collapsed": false
   },
   "source": [
    "If we wanted to keep going we could put the code above in a loop. However, if we want to plot $y$ against $t$ we'll need to store all the values we calculate as we go along. *Read the code below carefully and pay close attention to the comments*! It creates some empty lists to store $y$ and $t$, and loops until our object hits the ground ($y=0$), filling the lists as we go:"
   ]
  },
  {
   "cell_type": "code",
   "execution_count": 0,
   "metadata": {
    "collapsed": true
   },
   "outputs": [
   ],
   "source": [
    "# create empty lists to store the height and time\n",
    "y_values = []\n",
    "t_values = []\n",
    "\n",
    "# create a variable to store current time\n",
    "t_now = tau\n",
    "\n",
    "# loop until y=0 (we hit the ground!)\n",
    "while (y >= 0):\n",
    "    \n",
    "    # update our time variable\n",
    "    t_now = t_now + tau\n",
    "    \n",
    "    # calculate values after small timestep\n",
    "    vy_next = vy - g*tau\n",
    "    y_next  = y + vy*tau\n",
    "\n",
    "    # update the old values to be the new ones\n",
    "    vy = vy_next\n",
    "    y  = y_next\n",
    "    \n",
    "    # store these values in lists\n",
    "    y_values.append(y)\n",
    "    t_values.append(t_now)\n",
    "    \n",
    "# loop is over. we'll convert our Python lists to NumPy arrays\n",
    "# This makes numerical calculations easier...\n",
    "import numpy as np\n",
    "y_values = np.array(y_values)\n",
    "t_values = np.array(t_values)"
   ]
  },
  {
   "cell_type": "markdown",
   "metadata": {
    "collapsed": false
   },
   "source": [
    "<section class=\"challenge panel panel-success\"> \n",
    "<div class=\"panel-heading\">\n",
    "<h2><span class=\"fa fa-pencil\"></span>Checking our work</h2>\n",
    "</div>\n",
    "</section>\n",
    "\n",
    "> So we're done - but how do we know if it worked? What we should do is plot $y$ vs $t$ and see how our numerically calculated answer compares to the true solution for an object dropped from rest $y = y_0 + \\frac{1}{2} at^2$. \n",
    "\n",
    "> Complete the code cell below to produce this plot. \n"
   ]
  },
  {
   "cell_type": "code",
   "execution_count": 0,
   "metadata": {
    "collapsed": false
   },
   "outputs": [
   ],
   "source": [
    "# matplotlib import\n",
    "%matplotlib inline\n",
    "import matplotlib.pyplot as plt\n",
    "\n",
    "\n",
    "def fall(t_values, initial_height=78.0):\n",
    "    \"\"\"Calculate the height of an object falling from rest\n",
    "    \n",
    "       Use the analytical formula y = y0 + 0.5*a*t**2 to\n",
    "       calculate the height of an object falling from rest\n",
    "       as a function of time.\n",
    "    \n",
    "       Args:\n",
    "           t_values (array): an array of time values at which to calculate height\n",
    "           initial_height (float): an optional initial height. Default is 78m\n",
    "    \"\"\"\n",
    "    # REPLACE THE LINE BELOW WITH THE CORRECT FORMULA TO RETURN HEIGHT (hint: t_values is a numpy array)\n",
    "    return 1.0\n",
    "\n",
    "# use the function above to calculate values\n",
    "y_formula = fall(t_values)\n",
    "\n",
    "# plot the two and compare\n",
    "fig, axis = plt.subplots(figsize=(9,5))\n",
    "\n",
    "# plot numerical solution with thin line\n",
    "axis.plot(t_values,y_values,label='numerical',lw=1)\n",
    "\n",
    "# plot the analytical solution with a thick dashed line\n",
    "axis.plot(t_values,y_formula,ls='--',lw=3,label='analytical')\n",
    "\n",
    "# draw a legend\n",
    "axis.legend()\n",
    "\n",
    "# label axes and show\n",
    "axis.set_xlabel('Time (seconds)')\n",
    "axis.set_ylabel('Height (meters)')\n",
    "plt.show()"
   ]
  },
  {
   "cell_type": "markdown",
   "metadata": {
    "collapsed": false
   },
   "source": [
    "We can see that Euler's method worked. However, it was totally uneccessary, since there's an analytical solution in this case. Let's look at another example that **can't** be solved analytically - the simple pendulum.\n",
    "\n",
    "## Example 2: The Simple Pendulum\n",
    "\n",
    "A simple pendulum of length $l$ is described by the differential equation\n",
    "\n",
    "$$\\frac{d^2\\theta}{dt^2} = -\\frac{g}{l} \\sin \\theta,$$\n",
    "\n",
    "where $\\theta(t)$ is the angular displacement as a function of time. To solve this numerically the first step is, once again, to convert this second order equation into two coupled first order equations:\n",
    "\n",
    "$$\\begin{align*}\n",
    "\\frac{d\\theta}{dt} &= \\omega(t) \\\\\n",
    "\\frac{d\\omega}{dt} &= -\\frac{g}{l}\\sin \\theta.\n",
    "\\end{align*}\n",
    "$$\n",
    "\n",
    "The corresponding Euler equations are:\n",
    "\n",
    "$$\\begin{align*}\n",
    "\\omega_{n+1} &= \\omega_n- \\frac{g}{l} \\sin( \\theta_n ) \\tau \\\\\n",
    "\\theta_{n+1} &= \\theta_n + \\omega_n \\tau.\n",
    "\\end{align*}\n",
    "$$\n",
    "\n",
    "The code below solves the simple pendulum equation using Euler's method. I've started the pendulum from rest with an initial displacement of 10$^{\\circ}$. The pendulum is a nice long 10m. **Again, read the code and the comments carefully to make sure you understand**."
   ]
  },
  {
   "cell_type": "code",
   "execution_count": 0,
   "metadata": {
    "collapsed": false
   },
   "outputs": [
   ],
   "source": [
    "### INITIAL CONDITIONS\n",
    "# initial displacement, theta\n",
    "theta = np.radians(10) # 10 degrees in radians - remember, np.sin needs an angle in radians\n",
    "omega = 0.0 # omega=0 (start at rest)\n",
    "tau = 0.1 # timestep of 0.1s\n",
    "t_now = 0.0 # start at t=0s\n",
    "\n",
    "l = 10.0 # length of pendulum\n",
    "g = 9.8  # gravity\n",
    "\n",
    "# lists to store result. Initialise with starting values\n",
    "theta_values = [theta]\n",
    "t_values = [t_now]\n",
    "\n",
    "# solve motions for 35s\n",
    "while t_now < 35:\n",
    "\n",
    "    # time after timestep\n",
    "    t_now = t_now + tau\n",
    "\n",
    "    # calculate values after timestep\n",
    "    theta_new = theta + omega*tau\n",
    "    omega_new = omega - g * np.sin(theta) * tau / l\n",
    "\n",
    "    # update current values\n",
    "    theta = theta_new\n",
    "    omega = omega_new\n",
    "\n",
    "    # store in lists\n",
    "    theta_values.append(theta)\n",
    "    t_values.append(t_now)\n",
    "\n",
    "# finished loop\n",
    "# convert lists to arrays\n",
    "t_values = np.array(t_values)\n",
    "theta_values = np.array(theta_values)\n",
    "\n",
    "# convert theta back to degrees\n",
    "theta_values = np.degrees(theta_values)\n",
    "\n",
    "# plot!\n",
    "fig, axis = plt.subplots(figsize=(9,5))\n",
    "axis.plot(t_values,theta_values)\n",
    "# label axes and show\n",
    "axis.set_xlabel('Time (seconds)')\n",
    "axis.set_ylabel('Angle (degrees)')\n",
    "axis.axis('tight')\n",
    "plt.show()"
   ]
  },
  {
   "cell_type": "markdown",
   "metadata": {
    "collapsed": false
   },
   "source": [
    "<section class=\"challenge panel panel-success\"> \n",
    "<div class=\"panel-heading\">\n",
    "<h2><span class=\"fa fa-pencil\"></span>A matter of energy</h2>\n",
    "</div>\n",
    "</section>\n",
    "\n",
    "> Looking at the plot above, something is clearly going wrong! A pendulum shouldn't describe larger oscillations as time goes by without being forced. We can get a handle on what is going on by seeing what is happening to the pendulum's ernergy!\n",
    "\n",
    "> Modify the code above$^1$ to add a subplot of the energy per unit mass of the pendulum as a function of time. The total energy per unit mass of a pendulum can be written as\n",
    "\n",
    "> $$E/m = \\frac{1}{2} l^2 \\omega^2 + gl (1-\\cos\\theta).$$\n",
    "\n",
    "> Run the resulting code for time steps of 0.1, 0.01 and 0.001 seconds. By what fraction does the energy change given these three time steps? Did the result improve with smaller time steps? Did the program take significantly longer for the smaller time steps?\n",
    "\n",
    "> Write your answers to these question in the markdown cell below.\n",
    "\n",
    "> $^1$ it's a good idea to duplicate the original code cell and make changes in the duplicate"
   ]
  },
  {
   "cell_type": "markdown",
   "metadata": {
    "collapsed": false
   },
   "source": [
    "### Write your answers here."
   ]
  },
  {
   "cell_type": "markdown",
   "metadata": {
    "collapsed": false
   },
   "source": [
    "---\n",
    "\n",
    "### Truncation Error\n",
    "\n",
    "Clearly the code for the pendulum above is incorrect at some level since the results violate the law of energy conservation! The reason for the behaviour above is the approximation we made in using a finite timestep. The equation we used\n",
    "\n",
    "$$\\frac{dy}{dt} \\approx \\frac{y(t+\\tau) - y(t)}{\\tau},$$\n",
    "\n",
    "is only an approximation to the true differential, and the approximation gets worse as the timestep gets larger. You may well remember this fact from the orbit calculation lab you did in the first year. \n",
    "\n",
    "One solution is to use a finer timestep, which makes the approximation better. This is at the expense of computation time. The other solution is to use a more sophisticated method than Euler's method.\n",
    "\n",
    "Scipy has a sophisticated and more accurate solver for ordinary differential equations (ODEs) called **Isoda**. In the homeworks we will see how to use Scipy's ODE solver.\n",
    "\n",
    "---------\n",
    "<section class=\"challenge panel panel-success\"> \n",
    "<div class=\"panel-heading\">\n",
    "<h1>Homework #4</h1>\n",
    "<h2><span class=\"fa fa-pencil\"></span>Solving ODEs with SciPy</h2>\n",
    "</div>\n",
    "</section>\n",
    "\n",
    "SciPy's ODE solvers are found in the ```scipy.integrate``` package. There are two functions of interest in that package. ```odeint``` is the simplest, whilst ```ode``` is more flexible. The two are quite similar in use, so we'll focus on the simpler of the two, ```odeint``` here.\n",
    "\n",
    "The difference between SciPy's ODE solvers and the Euler method we coded by hand above is that SciPy uses clever computer algorithms to be more accurate with the same timestep. This saves computing time and allows more difficult problems to be solved. We won't concern ourselves with the details of these algorithms - we'll just look at using them like a \"black box\".\n",
    "\n",
    "The key with using SciPy is to remember that ODEs are ones that can be written in the form\n",
    "\n",
    "$$\n",
    "\\frac{d{\\mathbf X}}{dt} = {\\mathbf f}({\\mathbf X}, t),\n",
    "$$\n",
    "\n",
    "where the bold typeface indicates a vector. Looking again at the equation describing the motion of a pendulum of length $l$\n",
    "\n",
    "$$\\frac{d^2\\theta}{dt^2} = -\\frac{g}{l} \\sin \\theta,$$\n",
    "\n",
    "where $\\theta(t)$ is the angular displacement as a function of time. Again, it's not obvious that this can be reduced to the form above. As we saw earlier though, we can write this as two coupled equations:\n",
    "\n",
    "$$\\begin{align*}\n",
    "\\frac{d\\theta}{dt} &= \\omega(t) \\\\\n",
    "\\frac{d\\omega}{dt} &= -\\frac{g}{l}\\sin \\theta.\n",
    "\\end{align*}\n",
    "$$\n",
    "\n",
    "This can be written in the initial vector form if the vector ${\\mathbf X}$ is set to\n",
    "\n",
    "$$\n",
    "{\\mathbf X} = \\begin{bmatrix}\\theta \\\\ \\omega \\end{bmatrix}\n",
    "$$\n",
    "\n",
    "With ${\\mathbf X}$ defined, we can see that it's differential is \n",
    "\n",
    "$$\n",
    "{\\mathbf f}({\\mathbf X}, t) = \\frac{d{\\mathbf X}}{dt} = \\begin{bmatrix}\\omega \\\\ -\\frac{g}{l}\\sin \\theta \\end{bmatrix}\n",
    "$$"
   ]
  },
  {
   "cell_type": "markdown",
   "metadata": {
    "collapsed": false
   },
   "source": [
    "## Using odeint\n",
    "\n",
    "```odeint``` is part of the ```scipy.integrate``` package. It has three required arguments. The first argument is the name of a Python **function** that calculates ${\\mathbf f}({\\mathbf X}, t)$. The second argument is a Python list or numpy array - the entries in this list give the initial conditions of the entries in the vector ${\\mathbf X}$. The final argument is an array containing the time points at which we want to solve the system state.\n",
    "\n",
    "The returned value is a two-dimensional array. The first index specifies the time, and the second index specifies the element of the vector ${\\mathbf X}$ at that time. An example will make things clearer!\n",
    "\n",
    "Below I solve the pendulum problem again using ```odeint```:"
   ]
  },
  {
   "cell_type": "code",
   "execution_count": 0,
   "metadata": {
    "collapsed": false
   },
   "outputs": [
   ],
   "source": [
    "from scipy.integrate import odeint\n",
    "\n",
    "### INITIAL CONDITIONS\n",
    "# initial displacement, theta\n",
    "theta = np.radians(10) # 10 degrees in radians - remember, np.sin needs an angle in radians\n",
    "omega = 0.0 # omega=0 (start at rest)\n",
    "\n",
    "l = 10.0 # length of pendulum\n",
    "g = 9.8  # gravity.\n",
    "\n",
    "# intial state vector - \n",
    "X0 = [theta,omega]\n",
    "\n",
    "# define an array of times to calculate solution for\n",
    "# We will go from 0 to 35s, with a timestep of 0.1s\n",
    "t = np.arange(0.0,35.0,0.1)\n",
    "print (\"Solving pendulum at {} times\".format(len(t)))\n",
    "\n",
    "\"\"\"\n",
    "The first argument for odeint is a function that calculates f = dX/dt.\n",
    "\n",
    "This function in turn has two arguments. The first is the state of the system X.\n",
    "The second is the time. We don't use it in this case, but our function definition\n",
    "has to follow the form expected by odeint.\n",
    "\n",
    "We have to write this function ourselves, which I do below.\n",
    "\"\"\"\n",
    "def f_func(state,time):\n",
    "    # state list is [theta,omega]\n",
    "    # unpack into named variables\n",
    "    # THINK! - are these the same omega, theta as above (global/local)?\n",
    "    theta, omega = state\n",
    "    return [omega, -g*np.sin(theta)/l]\n",
    "\n",
    "#Solving these equations is as simple as calling odeint!\n",
    "X = odeint(f_func,X0,t)\n",
    "\n",
    "print (\"Shape of X is {}\".format(X.shape))\n",
    "# X is a 2D array. \n",
    "# each row is the state vector [theta,omega] at a given time\n",
    "# each column is how that component changes with time\n",
    "theta = X[:,0]\n",
    "omega = X[:,1]\n",
    "\n",
    "# convert theta back to degrees\n",
    "theta = np.degrees(theta)\n",
    "\n",
    "# plot!\n",
    "fig, axis = plt.subplots(figsize=(9,5))\n",
    "axis.plot(t,theta)\n",
    "# label axes and show\n",
    "axis.set_xlabel('Time (seconds)')\n",
    "axis.set_ylabel('Angle (degrees)')\n",
    "axis.axis('tight')\n",
    "plt.show()"
   ]
  },
  {
   "cell_type": "markdown",
   "metadata": {
    "collapsed": false
   },
   "source": [
    "Fantastic! It works very well - even though the timestep of 0.1s gave an innacurate solution using Euler's method, the same timestep gives what looks like accurate behaviour using the Isoda algorithm used by ```odeint```. Now you've seen an example, your homework is to re-visit our first example of an object falling under gravity, but to add air resistance!"
   ]
  },
  {
   "cell_type": "markdown",
   "metadata": {
    "collapsed": false
   },
   "source": [
    "<section class=\"challenge panel panel-success\"> \n",
    "<div class=\"panel-heading\">\n",
    "<h2><span class=\"fa fa-question\"></span>Q1: Adding air resistance (4 points)</h2>\n",
    "</div>\n",
    "</section>\n",
    "\n",
    "> For an object of mass $m$ falling straight down against air resistance, the differential equation is\n",
    "\n",
    "> $$m \\frac{d^2y}{dt^2} = -mg + \\frac{1}{2} C_d \\rho A v_y^2,$$\n",
    "\n",
    "> The second term on the RHS is the drag force, where $\\rho$ is the density of air, $A$ is the cross-sectional area of the object and $C_d$ is the drag coefficient. The drag coefficient is dimensionless and depends on the shape of object. For a smooth spherical object falling reasonably fast, $Cd \\approx 0.5$.\n",
    "\n",
    "> Using this equation, complete the code below to define a function that calculates ${\\mathbf f}({\\mathbf X}, t) = \\frac{d{\\mathbf X}}{dt}$.\n",
    "\n",
    "> *Hint: a good choice of ${\\mathbf X}$ in this case is *\n",
    "\n",
    "> $$\n",
    "{\\mathbf X} = \\begin{bmatrix}v_y \\\\ y \\end{bmatrix}\n",
    "$$\n",
    "\n",
    "> **Remember, your homework will be marked in part based on whether it passes the tests after each question. Make sure your code passes these tests!**"
   ]
  },
  {
   "cell_type": "code",
   "execution_count": 0,
   "metadata": {
    "deletable": false,
    "nbgrader": {
     "checksum": "aaeffc9ee31788a89d08568e62fea5a0",
     "grade": false,
     "grade_id": "f_func",
     "locked": false,
     "solution": true
    }
   },
   "outputs": [
   ],
   "source": [
    "def f_func(state,time,cd,mass,rho,A):\n",
    "    \"\"\"Calculate the differential of state vector as a function of time\n",
    "    \n",
    "    Args:\n",
    "        state (list): the state vector at time t\n",
    "        time (float): the time t\n",
    "        cd (float): the dimensionless drag coefficient\n",
    "        mass (float): mass of the object in kg\n",
    "        rho (float): density of air (kg/m3)\n",
    "        A (float): cross-sectional area of object (kg)\n",
    "        \n",
    "    Returns:\n",
    "        (list): the differential of the state vector at time t\n",
    "    \"\"\"\n",
    "    # defensive program - check shape of state vector\n",
    "    assert len(state)==2, \"Expected length 2 state vector\"\n",
    "    vy,y = state\n",
    "    # YOUR CODE HERE\n",
    "    raise NotImplementedError()"
   ]
  },
  {
   "cell_type": "code",
   "execution_count": 0,
   "metadata": {
    "deletable": false,
    "nbgrader": {
     "checksum": "1312059625d110d463aa3c8f3b1e0643",
     "grade": true,
     "grade_id": "f_func_tests",
     "locked": true,
     "points": 4,
     "solution": false
    }
   },
   "outputs": [
   ],
   "source": [
    "from nose.tools import assert_equal, assert_almost_equal\n",
    "a,vy = f_func([0.,78.],0.0,0.5,1,1.2,1)\n",
    "assert_almost_equal(a, -9.8)\n",
    "assert_almost_equal(vy, 0.0)\n",
    "a,vy = f_func([-2.,78.],0.0,0.5,1,1.2,1)\n",
    "assert_almost_equal(a,-8.6)\n",
    "assert_almost_equal(vy,-2)"
   ]
  },
  {
   "cell_type": "markdown",
   "metadata": {
    "collapsed": false
   },
   "source": [
    "<section class=\"challenge panel panel-success\"> \n",
    "<div class=\"panel-heading\">\n",
    "<h2><span class=\"fa fa-question\"></span>Q2: Solving the equation (4 points)</h2>\n",
    "</div>\n",
    "</section>\n",
    "\n",
    "> Use your equation and ```odeint``` to calculate how a football would fall from the Art's tower. The tower is 78m high. The density of air is roughly 1.2 kg m$^{-3}$. A football weighs roughly 0.45 kg and has a cross sectional area of 0.38 m$^2$.\n",
    "\n",
    "> Store the solution for the height of the ball in an array called ```y```. Plot $y$ against $t$ to make sure your solution makes sense.\n",
    "\n",
    "> *Hint: the definition of your ```f_func``` function differs from the simple one we used in class. You will need to use the ```args``` optional argument of ```odeint``` to pass the extra arguments to your function*"
   ]
  },
  {
   "cell_type": "code",
   "execution_count": 0,
   "metadata": {
    "deletable": false,
    "nbgrader": {
     "checksum": "e4c60c0126a6c113af05a4fde27b6756",
     "grade": false,
     "grade_id": "solving",
     "locked": false,
     "solution": true
    }
   },
   "outputs": [
   ],
   "source": [
    "# initial conditions\n",
    "y   = 78.0  # height of the art's tower, in metres\n",
    "vy  =  0.0  # starting at rest\n",
    "\n",
    "# array of times for the solution\n",
    "# from 0-15 seconds with timestep of 0.01s\n",
    "t = np.arange(0.0,15.0,0.01)\n",
    "\n",
    "# initial state vector\n",
    "X0 = [vy,y]\n",
    "\n",
    "# YOUR CODE HERE\n",
    "raise NotImplementedError()\n",
    "\n",
    "# plot!\n",
    "fig, axis = plt.subplots(figsize=(9,5))\n",
    "axis.plot(t,y)\n",
    "# label axes and show\n",
    "axis.set_xlabel('Time (seconds)')\n",
    "axis.set_ylabel('Height (meters))')\n",
    "axis.set_ylim((0,78))\n",
    "plt.show()"
   ]
  },
  {
   "cell_type": "code",
   "execution_count": 0,
   "metadata": {
    "deletable": false,
    "nbgrader": {
     "checksum": "c231ca0791cb66ca2c1ad5a59a33a041",
     "grade": true,
     "grade_id": "solving_tests",
     "locked": true,
     "points": 4,
     "solution": false
    }
   },
   "outputs": [
   ],
   "source": [
    "assert_almost_equal(y[0],78)\n",
    "assert_almost_equal(y[-1],-12.496644246)\n",
    "assert_equal(len(y),1500)\n",
    "assert_equal(len(y.shape), 1)"
   ]
  },
  {
   "cell_type": "markdown",
   "metadata": {
    "collapsed": false
   },
   "source": [
    "<section class=\"challenge panel panel-success\"> \n",
    "<div class=\"panel-heading\">\n",
    "<h2><span class=\"fa fa-question\"></span>Q3: Terminal Velocity (2 points)</h2>\n",
    "</div>\n",
    "</section>\n",
    "\n",
    "> After a few seconds, your graph of $y$ vs $t$ should be linear. This is because the football has reached *terminal velocity*. In the code cell below, calculate the terminal velocity of the football, and store it in the variable named ```vy_terminal```."
   ]
  },
  {
   "cell_type": "code",
   "execution_count": 0,
   "metadata": {
    "deletable": false,
    "nbgrader": {
     "checksum": "2083398d59e0fabf14de487c95480caa",
     "grade": false,
     "grade_id": "terminal",
     "locked": false,
     "solution": true
    }
   },
   "outputs": [
   ],
   "source": [
    "vy_terminal = None\n",
    "# YOUR CODE HERE\n",
    "raise NotImplementedError()"
   ]
  },
  {
   "cell_type": "code",
   "execution_count": 0,
   "metadata": {
    "deletable": false,
    "nbgrader": {
     "checksum": "dd4e1b9567312dd35f70f69bff89de2e",
     "grade": true,
     "grade_id": "terminal_tests",
     "locked": true,
     "points": 2,
     "solution": false
    }
   },
   "outputs": [
   ],
   "source": [
    "assert_almost_equal(vy_terminal,-6.21966321668)"
   ]
  },
  {
   "cell_type": "markdown",
   "metadata": {
    "collapsed": false
   },
   "source": [
    "<section class=\"panel panel-warning\"> \n",
    "<div class=\"panel-heading\">\n",
    "<h2><span class=\"fa fa-question\"></span>Extra Credit (3 points)</h2>\n",
    "</div>\n",
    "</section>\n",
    "\n",
    "> Extra credit questions allow you to make up for marks dropped in this and other homeworks. You can't score more than 100% overall, but if you get 3 extra credit points this week, and lose 3 points next week, you'd still be on course for 100% marks. I don't expect you to answer extra credit questions, *unless you want to*.\n",
    "\n",
    "> For extra credit this week, use odeint to plot $y$ vs $t$ for a football and a golf ball falling from the Arts Tower. Correctly label your plot so you know which is which. \n",
    "\n",
    "> A golf ball weighs 45g and has a cross-sectional area of $1.43 \\times 10^{-3}$ m$^2$."
   ]
  },
  {
   "cell_type": "code",
   "execution_count": 0,
   "metadata": {
    "deletable": false,
    "nbgrader": {
     "checksum": "a776f7c306fbbf10502930b411f3e1d2",
     "grade": true,
     "grade_id": "extra_credit",
     "locked": false,
     "points": 3,
     "solution": true
    }
   },
   "outputs": [
   ],
   "source": [
    "# mass\n",
    "mass_golf = 0.045\n",
    "# area\n",
    "A_golf = 1.43e-3\n",
    "\n",
    "# YOUR CODE HERE\n",
    "raise NotImplementedError()"
   ]
  }
 ],
 "metadata": {
  "kernelspec": {
   "display_name": "Python 3 (Ubuntu Linux)",
   "language": "python",
   "name": "python3"
  },
  "language_info": {
   "codemirror_mode": {
    "name": "ipython",
    "version": 3
   },
   "file_extension": ".py",
   "mimetype": "text/x-python",
   "name": "python",
   "nbconvert_exporter": "python",
   "pygments_lexer": "ipython3",
   "version": "3.5.2"
  }
 },
 "nbformat": 4,
 "nbformat_minor": 0
}