{
 "cells": [
  {
   "cell_type": "markdown",
   "metadata": {},
   "source": [
    "###### The cell below loads the visual style of the notebook when run."
   ]
  },
  {
   "cell_type": "code",
   "execution_count": null,
   "metadata": {
    "collapsed": false
   },
   "outputs": [],
   "source": [
    "from IPython.core.display import HTML\n",
    "css_file = '../../styles/styles.css'\n",
    "HTML(open(css_file, \"r\").read())"
   ]
  },
  {
   "cell_type": "markdown",
   "metadata": {},
   "source": [
    "# PHY241 - Observational Astronomy\n",
    "\n",
    "## Course Philosophy\n",
    "\n",
    "A series of lectures cannot teach you to write code. You would not expect to listen to 10 lectures on the violin, and then pick one up and be able to play. Writing code, like playing music, is a skill that must be learnt through *practice*. In each lecture, I will provide a basic introduction, and then present a series of tasks to get you practicing writing code. At the end of each lecture is an assessed piece of homework. The goal is to get you to write as much code as possible, and hope you learn as you go. \n",
    "\n",
    "Python is made more useful by the existence of libraries, also known as *modules*. The [Python Standard Library](https://docs.python.org/3/library/) is a large collection of modules that provides cross-platform implementations of common facilities such as access to the operating system, file I/O, string management, network communication, and much more. In addition, there are many essential third-party libraries which help with more complex and specialised jobs such as analysing and plotting data. Each lecture/practical will focus on a specific library and task.\n",
    "\n",
    "The art of writing Python code is to avoid re-inventing the wheel! Your job is often to find the useful library, and use that to solve your problem. The most important skill you can have is knowing where to get help.\n",
    "\n",
    "## Where to look for help\n",
    "\n",
    "1. **The Python documentation**. \n",
    "\n",
    "     The libraries and functions you will use are documented. Remember, you can get help on\n",
    "     how to use a particular function from within Python, for example\n",
    "     ```python\n",
    "     import math\n",
    "     help(math.sin)\n",
    "     ```\n",
    "     or, from within the Jupyter notebook,\n",
    "     ```python\n",
    "     math.sin?\n",
    "     ```\n",
    "     In addition, if you want to find which functions are in a library you can do this in \n",
    "     the Jupyter notebook by typing the name of the library (e.g. ```math.```) and hitting <kbd>Tab</kbd>.\n",
    "  \n",
    "1. **The course 'text'**\n",
    "\n",
    "    Whilst this course is not based on any textbook, I strongly recommend the use of\n",
    "    [How to think like a computer scientist](http://interactivepython.org/courselib/static/thinkcspy/toc.html) if you want more \n",
    "    detail or information on any particular programming topic.\n",
    "\n",
    "1. **Online**\n",
    "\n",
    "     Documentation for the modules within the Python Standard Library is found \n",
    "     [here](https://docs.python.org/3/library/). Third-party modules will also\n",
    "     have their own online documentation. You **must** get used to reading this documentation\n",
    "     and using it to write your own code.\n",
    "     \n",
    "     In addition, feel free to search online for solutions (e.g [\"how do I download a file over the internet in Python?\"](http://stackoverflow.com/questions/19602931/basic-http-file-downloading-and-saving-to-disk-in-python) ). However, it is **really** important that you don't just copy-and-paste code without understanding how it works. If you take code from the internet, make sure you add [comments](../../resources/reference.html#comment) to it which describe how it works. If you copy-and-paste code from the internet in assigned work, add the URL you got it from as a comment.\n",
    "     \n",
    "1. **Peers, and the course lecturer**\n",
    "\n",
    "    Don't be shy to ask other people, including me, for help and advice. Sometimes it's really easy to spot other people's mistakes but incredibly hard to find your own. \n",
    "    \n",
    "    \n",
    "# Dive right in\n",
    "\n",
    "Without further ado then, let's dive right in with the [first notebook](01-numpy.ipynb)"
   ]
  }
 ],
 "metadata": {
  "kernelspec": {
   "display_name": "IPython (Python 3)",
   "language": "python",
   "name": "python3"
  },
  "language_info": {
   "codemirror_mode": {
    "name": "ipython",
    "version": 3
   },
   "file_extension": ".py",
   "mimetype": "text/x-python",
   "name": "python",
   "nbconvert_exporter": "python",
   "pygments_lexer": "ipython3",
   "version": "3.4.3"
  }
 },
 "nbformat": 4,
 "nbformat_minor": 0
}