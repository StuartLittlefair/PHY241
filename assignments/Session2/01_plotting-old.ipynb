{
 "cells": [
  {
   "cell_type": "markdown",
   "metadata": {
    "collapsed": false
   },
   "source": [
    "###### The cell below loads the visual style of the notebook when run."
   ]
  },
  {
   "cell_type": "code",
   "execution_count": 1,
   "metadata": {
    "collapsed": false
   },
   "outputs": [
    {
     "data": {
      "text/html": [
       "<link href='http://fonts.googleapis.com/css?family=Crimson+Text' rel='stylesheet' type='text/css'>\n",
       "<link href='http://fonts.googleapis.com/css?family=Kameron' rel='stylesheet' type='text/css'>\n",
       "<link href='http://fonts.googleapis.com/css?family=Lato:200,300,400' rel='stylesheet' type='text/css'>\n",
       "<link href='http://fonts.googleapis.com/css?family=Source+Code+Pro' rel='stylesheet' type='text/css'>\n",
       "<style>\n",
       "\n",
       "@font-face {\n",
       "    font-family: \"Computer Modern\";\n",
       "    src: url('http://mirrors.ctan.org/fonts/cm-unicode/fonts/otf/cmunss.otf');\n",
       "}\n",
       "\n",
       "#notebook_panel { /* main background */\n",
       "    background: rgb(245,245,245);\n",
       "}\n",
       "\n",
       "\n",
       "div #notebook { /* centre the content */\n",
       "    background: #fff; /* white background for content */\n",
       "    margin: auto;\n",
       "    padding-left: 0em;\n",
       "}\n",
       "\n",
       "\n",
       "#notebook li { /* More space between bullet points */\n",
       "    margin-top:0.8em;\n",
       "}\n",
       "\n",
       "/* draw border around running cells */\n",
       "div.cell.border-box-sizing.code_cell.running { \n",
       "    border: 1px solid #111;\n",
       "}\n",
       "\n",
       "/* Put a solid color box around each cell and its output, visually linking them*/\n",
       "div.cell.code_cell {\n",
       "    background-color: rgb(256,256,256); \n",
       "    border-radius: 0px; \n",
       "    /* width: 105ex; */\n",
       "    padding: 0.5em;\n",
       "    margin-left:1em;\n",
       "    margin-top: 1em;\n",
       "}\n",
       "\n",
       "div.input_area {\n",
       "    border-color: rgba(0,0,0,0.10);\n",
       "    background: rbga(0,0,0,0.5);\n",
       "}\n",
       "\n",
       "/*\n",
       "div.text_cell {\n",
       "    max-width: 105ex; /* instead of 100%, */\n",
       "}\n",
       "*/\n",
       "\n",
       "div.text_cell_render {\n",
       "    font-family: \"Crimson Text\";\n",
       "    font-size: 12pt;\n",
       "    line-height: 145%; /* added for some line spacing of text. */\n",
       "}\n",
       "\n",
       "div.text_cell_render h1,\n",
       "div.text_cell_render h2,\n",
       "div.text_cell_render h3,\n",
       "div.text_cell_render h4,\n",
       "div.text_cell_render h5,\n",
       "div.text_cell_render h6 {\n",
       "    font-family: 'Kameron';\n",
       "    font-weight: 300;\n",
       "}\n",
       "\n",
       "div.text_cell_render h1 {\n",
       "    font-size: 24pt;\n",
       "}\n",
       "\n",
       "div.text_cell_render h2 {\n",
       "    font-size: 18pt;\n",
       "}\n",
       "\n",
       "div.text_cell_render h3 {\n",
       "    font-size: 14pt;\n",
       "}\n",
       "\n",
       ".rendered_html pre,\n",
       ".rendered_html code {\n",
       "    font-size: medium;\n",
       "    background-color: rgba(246,246,246,1);\n",
       "    padding: 2px;\n",
       "}\n",
       "\n",
       ".rendered_html ol {\n",
       "    list-style:decimal;\n",
       "    margin: 1em 2em;\n",
       "}\n",
       "\n",
       ".CodeMirror pre{\n",
       "        font-family: 'Source Code Pro', Consolas, monocco, monospace;\n",
       "}\n",
       "\n",
       "/* Make space between the fa icon and the rest of the header */\n",
       ".panel-heading h1 span,\n",
       ".panel-heading h2 span,\n",
       ".panel-heading h3 span,\n",
       ".panel-heading h4 span,\n",
       ".panel-heading h5 span,\n",
       ".panel-heading h6 span {\n",
       "    padding-right: 10px;\n",
       "}\n",
       "\n",
       ".fa {\n",
       "    padding: 5px;\n",
       "    }\n",
       "   \n",
       "kbd {\n",
       "    padding:0.1em 0.6em;\n",
       "    border:1px solid #ccc;\n",
       "    font-size:11px;\n",
       "    font-family:Arial,Helvetica,sans-serif;\n",
       "    background-color:#f7f7f7;\n",
       "    color:#333;\n",
       "    -moz-box-shadow:0 1px 0px rgba(0, 0, 0, 0.2),0 0 0 2px #ffffff inset;\n",
       "    -webkit-box-shadow:0 1px 0px rgba(0, 0, 0, 0.2),0 0 0 2px #ffffff inset;\n",
       "    box-shadow:0 1px 0px rgba(0, 0, 0, 0.2),0 0 0 2px #ffffff inset;\n",
       "    -moz-border-radius:3px;\n",
       "    -webkit-border-radius:3px;\n",
       "    border-radius:3px;\n",
       "    display:inline-block;\n",
       "    margin:0 0.1em;\n",
       "    text-shadow:0 1px 0 #fff;\n",
       "    line-height:1.4;\n",
       "    white-space:nowrap;\n",
       "}\n",
       "\n",
       "</style>\n",
       "<script>\n",
       "    MathJax.Hub.Config({\n",
       "                        TeX: {\n",
       "                           extensions: [\"AMSmath.js\"],\n",
       "                           equationNumbers: { autoNumber: \"AMS\", useLabelIds: true}\n",
       "                           },\n",
       "                tex2jax: {\n",
       "                    inlineMath: [ ['$','$'], [\"\\\\(\",\"\\\\)\"] ],\n",
       "                    displayMath: [ ['$$','$$'], [\"\\\\[\",\"\\\\]\"] ]\n",
       "                },\n",
       "                displayAlign: 'center', // Change this to 'center' to center equations.\n",
       "                \"HTML-CSS\": {\n",
       "                    styles: {'.MathJax_Display': {\"margin\": 4}}\n",
       "                }\n",
       "        });\n",
       "</script>"
      ]
     },
     "execution_count": 1,
     "metadata": {
     },
     "output_type": "execute_result"
    }
   ],
   "source": [
    "from IPython.core.display import HTML\n",
    "css_file = '../../styles/styles.css'\n",
    "HTML(open(css_file, \"r\").read())"
   ]
  },
  {
   "cell_type": "markdown",
   "metadata": {
    "collapsed": false
   },
   "source": [
    "# Plotting data with matplotlib"
   ]
  },
  {
   "cell_type": "markdown",
   "metadata": {
    "collapsed": false
   },
   "source": [
    "<section class=\"objectives panel panel-warning\">\n",
    "<div class=\"panel-heading\">\n",
    "<h2><span class=\"fa fa-certificate\"></span>Learning Objectives</h2>\n",
    "</div>\n",
    "</section>\n",
    "\n",
    "> * How to plot basic x, y data in Python\n",
    "* How to display images\n",
    "* How to label axes\n",
    "* Save plots to many formats, including PNG and PDF\n",
    "* More complex plots: histograms, 3D plotting, subplots\n",
    "* String formatting\n",
    " \n",
    "The key to understanding data is to visualise it. The clear presentation of your data is one of the most important tasks for scientists. On a personal level, the horrible plotting options in Excel is one of the reasons a little part of me dies every time a student does their data analysis in a spreadsheet.\n",
    "\n",
    "There are many Python plotting libraries for display of data but [Matplotlib](http://matplotlib.org/) is the de-facto standard. In this session we'll learn how to display our data using matplotlib. \n",
    "\n",
    "Matplotlib is imported like so:"
   ]
  },
  {
   "cell_type": "code",
   "execution_count": 2,
   "metadata": {
    "collapsed": false
   },
   "outputs": [
   ],
   "source": [
    "%matplotlib inline\n",
    "import matplotlib.pyplot as plt "
   ]
  },
  {
   "cell_type": "markdown",
   "metadata": {
    "collapsed": false
   },
   "source": [
    "If you are using a Python shell, or writing a Python program file (.py), you only need the line that says ```import matplotlib.pyplot as plt```. \n",
    "\n",
    "However, if you are running in the Jupyter notebook, and want your plots to display inside the notebook you also need to run the ```%matplotlib inline``` command. This needs to be run **before** importing matplotlib."
   ]
  },
  {
   "cell_type": "markdown",
   "metadata": {
    "collapsed": false
   },
   "source": [
    "## Basic X-Y plots\n",
    "\n",
    "To get started, let's generate some fake data using numpy - here I'm plotting $y = \\sin x$ between 0 and $4\\pi$."
   ]
  },
  {
   "cell_type": "code",
   "execution_count": 3,
   "metadata": {
    "collapsed": false
   },
   "outputs": [
   ],
   "source": [
    "import numpy as np\n",
    "x = np.linspace(0.0,4.0*np.pi,100) #evenly spaced grid of 100 points\n",
    "y = np.sin(x)"
   ]
  },
  {
   "cell_type": "markdown",
   "metadata": {
    "collapsed": false
   },
   "source": [
    "The matplotlib command [plot](http://matplotlib.org/api/pyplot_api.html#matplotlib.pyplot.plot) is used to plot simple x-y data. Let's read the help for this function. "
   ]
  },
  {
   "cell_type": "code",
   "execution_count": 0,
   "metadata": {
    "collapsed": true
   },
   "outputs": [
   ],
   "source": [
    "plt.plot?"
   ]
  },
  {
   "cell_type": "code",
   "execution_count": 4,
   "metadata": {
    "collapsed": false
   },
   "outputs": [
    {
     "data": {
      "image/png": "[encoded data removed]"
     },
     "execution_count": 4,
     "metadata": {
     },
     "output_type": "execute_result"
    }
   ],
   "source": [
    "plt.plot(x,y,'k-')\n",
    "plt.show()"
   ]
  },
  {
   "cell_type": "markdown",
   "metadata": {
    "collapsed": false
   },
   "source": [
    "Notice how we used ```plt.show()``` to display the figure we'd created. \n",
    "\n",
    "I hope we can agree that the plot above is **awful**. As a bare minimum it needs x-y axis labels. I also feel like a more colorful line:"
   ]
  },
  {
   "cell_type": "code",
   "execution_count": 5,
   "metadata": {
    "collapsed": false
   },
   "outputs": [
    {
     "data": {
      "image/png": "[encoded data removed]"
     },
     "execution_count": 5,
     "metadata": {
     },
     "output_type": "execute_result"
    }
   ],
   "source": [
    "plt.plot(x,y,'r-')\n",
    "plt.xlabel('x')\n",
    "plt.ylabel('y')\n",
    "plt.show()"
   ]
  },
  {
   "cell_type": "markdown",
   "metadata": {
    "collapsed": false
   },
   "source": [
    "## More control - figures and axes\n",
    "\n",
    "When we called the ```plt.plot``` function, it created a figure and a set of axes for us automatically. Quite often in matplotlib, we want to create figure and axis *objects* by hand, and use the axis object to do the plotting. The real advantage of this approach becomes obvious when a figure contains more than one subplot.\n",
    "\n",
    "The ```plt.subplots``` function will create a figure and axis object for us:"
   ]
  },
  {
   "cell_type": "code",
   "execution_count": 6,
   "metadata": {
    "collapsed": false
   },
   "outputs": [
    {
     "data": {
      "image/png": "[encoded data removed]"
     },
     "execution_count": 6,
     "metadata": {
     },
     "output_type": "execute_result"
    }
   ],
   "source": [
    "# create figure and axes objects\n",
    "fig, axes = plt.subplots()\n",
    "\n",
    "# use axes for plotting\n",
    "axes.plot(x,y,'r-')\n",
    "axes.set_ylabel('y') # notice the slightly different style for labels\n",
    "axes.set_xlabel('x')\n",
    "\n",
    "plt.show()"
   ]
  },
  {
   "cell_type": "markdown",
   "metadata": {
    "collapsed": false
   },
   "source": [
    "## Subplots\n",
    "\n",
    "Although a little more code is involved, one advantage is that it is easy to add multiple subplots - just provide the ```plt.subplots``` function with the number of rows and columns:"
   ]
  },
  {
   "cell_type": "code",
   "execution_count": 7,
   "metadata": {
    "collapsed": false
   },
   "outputs": [
    {
     "name": "stdout",
     "output_type": "stream",
     "text": [
      "Plotting on subplot: i= 0  j= 0\n",
      "Plotting on subplot: i= 0  j= 1\n",
      "Plotting on subplot: i= 1  j= 0\n",
      "Plotting on subplot: i= 1  j= 1\n"
     ]
    },
    {
     "data": {
      "image/png": "[encoded data removed]"
     },
     "execution_count": 7,
     "metadata": {
     },
     "output_type": "execute_result"
    }
   ],
   "source": [
    "fig, axes = plt.subplots(nrows=2, ncols=2)\n",
    "# axes is a 2x2 list of axis objects\n",
    "\n",
    "for i in range(2):\n",
    "    for j in range(2):\n",
    "        print(\"Plotting on subplot: i=\",i,\" j=\",j)\n",
    "        axis = axes[i,j]\n",
    "\n",
    "        axis.plot(x,y,'b-')\n",
    "        axis.set_xlabel('x')\n",
    "        axis.set_ylabel('y')\n",
    "\n",
    "plt.show()"
   ]
  },
  {
   "cell_type": "markdown",
   "metadata": {
    "collapsed": false
   },
   "source": [
    "This is nice, but the overlapping labels are an issue. The ```fig``` object has a function called ```tight_layout``` that will fix that for us: "
   ]
  },
  {
   "cell_type": "code",
   "execution_count": 0,
   "metadata": {
    "collapsed": false
   },
   "outputs": [
   ],
   "source": [
    "fig, axes = plt.subplots(nrows=2,ncols=2)\n",
    "\n",
    "for i in range(2):\n",
    "    for j in range(2):\n",
    "        axis = axes[i,j]\n",
    "\n",
    "        axis.plot(x,y,'b-')\n",
    "        axis.set_xlabel('x')\n",
    "        axis.set_ylabel('y')\n",
    "\n",
    "fig.tight_layout()\n",
    "plt.show()"
   ]
  },
  {
   "cell_type": "markdown",
   "metadata": {
    "collapsed": false
   },
   "source": [
    "## Multiple lines and legends\n",
    "\n",
    "What if I want to plot several lines on the same figure? You can just make multiple calls to the ```plot``` function. The ```plot``` function also has an optional ```label``` argument that helps us label each line:"
   ]
  },
  {
   "cell_type": "code",
   "execution_count": 0,
   "metadata": {
    "collapsed": false
   },
   "outputs": [
   ],
   "source": [
    "x = np.linspace(0,4.0*np.pi,100)\n",
    "\n",
    "fig, axis = plt.subplots()\n",
    "axis.plot(x, np.cos(x), 'r-', label='cos')\n",
    "axis.plot(x, np.sin(x), 'b-', label='sin')\n",
    "\n",
    "axis.set_xlabel('x')\n",
    "axis.set_ylabel('y')\n",
    "\n",
    "axis.legend() # draw a legend on figure\n",
    "\n",
    "plt.show()"
   ]
  },
  {
   "cell_type": "markdown",
   "metadata": {
    "collapsed": false
   },
   "source": [
    "## Limits \n",
    "\n",
    "The graph above is OK, but I'm unhappy with the limits. Also, it looks cramped and the legend lies on top of the lines. You can set the x and y limits with ```set_xlim``` and ```set_ylim```:"
   ]
  },
  {
   "cell_type": "code",
   "execution_count": 0,
   "metadata": {
    "collapsed": false
   },
   "outputs": [
   ],
   "source": [
    "x = np.linspace(0,4.0*np.pi,100)\n",
    "\n",
    "fig, axis = plt.subplots()\n",
    "axis.plot(x, np.cos(x), 'r-', label='cos')\n",
    "axis.plot(x, np.sin(x), 'b-', label='sin')\n",
    "\n",
    "axis.set_xlabel('x')\n",
    "axis.set_ylabel('y')\n",
    "\n",
    "axis.legend() # draw a legend on figure\n",
    "\n",
    "axis.set_ylim(-1.5,2.0)\n",
    "axis.set_xlim(0.0, 4.0*np.pi)\n",
    "\n",
    "plt.show()"
   ]
  },
  {
   "cell_type": "markdown",
   "metadata": {
    "collapsed": false
   },
   "source": [
    "Much nicer!"
   ]
  },
  {
   "cell_type": "markdown",
   "metadata": {
    "collapsed": false
   },
   "source": [
    "<section class=\"challenge panel panel-success\"> \n",
    "<div class=\"panel-heading\">\n",
    "<h2><span class=\"fa fa-pencil\"></span>Simple X-Y plots</h2>\n",
    "</div>\n",
    "</section>\n",
    "\n",
    "> On *one figure*, plot $y = \\sin x$, $y = \\cos x$ and $y = \\tan x$ between $-\\pi/2 < x < \\pi/2$. Plot $\\tan x$ with a dotted line, add a legend, and make sure that the limits are set sensibly."
   ]
  },
  {
   "cell_type": "code",
   "execution_count": 0,
   "metadata": {
    "collapsed": false
   },
   "outputs": [
   ],
   "source": [
    "# insert your code here"
   ]
  },
  {
   "cell_type": "markdown",
   "metadata": {
    "collapsed": false
   },
   "source": [
    "## Figure size and saving figures\n",
    "\n",
    "We can set the figure size by passing an argument to the ```subplots``` function. The ```figsize``` argument is the width and height of the figure in inches. We can also set the DPI (dots-per-inch) of the figure the same way:"
   ]
  },
  {
   "cell_type": "code",
   "execution_count": 0,
   "metadata": {
    "collapsed": false
   },
   "outputs": [
   ],
   "source": [
    "fig, axis = plt.subplots(figsize=(10,3), dpi=100)\n",
    "\n",
    "x = np.linspace(0.0,2*np.pi,100)\n",
    "axis.plot(x,np.cos(x),'r-')\n",
    "axis.set_xlabel('x')\n",
    "axis.set_ylabel('y')\n",
    "plt.show()"
   ]
  },
  {
   "cell_type": "markdown",
   "metadata": {
    "collapsed": false
   },
   "source": [
    "### Saving figures\n",
    "\n",
    "To save a figure to a file we can use the ```savefig``` method in the ```fig``` object:"
   ]
  },
  {
   "cell_type": "code",
   "execution_count": 0,
   "metadata": {
    "collapsed": false
   },
   "outputs": [
   ],
   "source": [
    "fig, axis = plt.subplots(figsize=(10,3), dpi=100)\n",
    "\n",
    "x = np.linspace(0.0,2*np.pi,100)\n",
    "axis.plot(x,np.cos(x),'r-')\n",
    "axis.set_xlabel('x')\n",
    "axis.set_ylabel('y')\n",
    "fig.savefig('filename.png')"
   ]
  },
  {
   "cell_type": "markdown",
   "metadata": {
    "collapsed": false
   },
   "source": [
    "A couple of things to note: many file formats are supported, notably PNG, JPG, PDF and SVG. You must call ```savefig``` **before** calling ```plt.show``` - the latter \"empties\" the figure object, so calling ```savefig``` afterwards will not do anything.\n",
    "\n",
    "## Formatting lines, labels, axes\n",
    "\n",
    "The plots shown so far are fine, but quite often we want to be able change the font sizes, line colors, line widths, line styles, etc. Matplotlib provides literally endless opportunities for plot formatting. Rather than go into them all here, I have provided a [reference notebook](01a_plotformatting.ipynb) which you can use as a guide to make neatly formatted plots for publication.\n",
    "\n",
    "---\n",
    "\n",
    "## Other 2D plots\n",
    "\n",
    "The ```plot``` method is fine for x, y line plots, but there are a number of other functions for making different kinds of plots. For a gallery of all the types of plots, you can look at the [matplotlib gallery](http://matplotlib.org/gallery.html) - each figure in the gallery shows the code used to produce it. Some of the more useful examples are shown below.\n",
    "\n",
    "### Histograms\n",
    "\n",
    "The example below generates 100,000 Gaussian random numbers, and plots the histogram and a 'normed' histogram, whose total area adds up to 1."
   ]
  },
  {
   "cell_type": "code",
   "execution_count": 0,
   "metadata": {
    "collapsed": false
   },
   "outputs": [
   ],
   "source": [
    "nums = np.random.normal(loc=0,scale=1,size=100000)\n",
    "fig, axes = plt.subplots(nrows=1,ncols=2,figsize=(12,4))\n",
    "\n",
    "axes[0].hist(nums, bins=30)\n",
    "axes[0].set_title('Histogram')\n",
    "\n",
    "axes[1].hist(nums, bins=30, normed=True)\n",
    "axes[1].set_title('Normed Histogram')\n",
    "\n",
    "plt.show()"
   ]
  },
  {
   "cell_type": "markdown",
   "metadata": {
    "collapsed": false
   },
   "source": [
    "### Errorbar plots\n",
    "\n",
    "If we're going to plot real data we need to be able to plot x,y data with errorbars! In the cell below I'm going to load in some example data - the brightness vs. time of an exoplanet host, Wasp-12. The data file format looks like this\n",
    "\n",
    "```\n",
    "54835.817914435 1.0027e+00 1.5118e-03\n",
    "54835.818901894 1.0046e+00 1.5249e-03\n",
    "54835.819911092 1.0029e+00 1.4443e-03\n",
    "54835.820920291 1.0016e+00 1.4374e-03\n",
    "```\n",
    "\n",
    "The three columns are time, flux and error."
   ]
  },
  {
   "cell_type": "code",
   "execution_count": 0,
   "metadata": {
    "collapsed": false
   },
   "outputs": [
   ],
   "source": [
    "x,y,e = np.loadtxt('../../data/Session2/wasp12.txt',unpack=True)"
   ]
  },
  {
   "cell_type": "markdown",
   "metadata": {
    "collapsed": false
   },
   "source": [
    "Now I can use the ```errorbar``` function to plot this data. By default the ```errorbar``` command will join up the points with a line, note how I disable this line, and set the marker style:"
   ]
  },
  {
   "cell_type": "code",
   "execution_count": 0,
   "metadata": {
    "collapsed": false
   },
   "outputs": [
   ],
   "source": [
    "fig, axis = plt.subplots()\n",
    "\n",
    "axis.errorbar(x,y,yerr=e, marker='.', ls='none')\n",
    "axis.set_xlabel('Time (Modified Julian Date)')\n",
    "axis.set_ylabel('Flux')\n",
    "\n",
    "plt.show()"
   ]
  },
  {
   "cell_type": "markdown",
   "metadata": {
    "collapsed": false
   },
   "source": [
    "<section class=\"challenge panel panel-success\"> \n",
    "<div class=\"panel-heading\">\n",
    "<h2><span class=\"fa fa-pencil\"></span>Error bar plots</h2>\n",
    "</div>\n",
    "</section>\n",
    "\n",
    "> Tidy up the error bar plot above:\n",
    "* the x-axis data start at 54835.8179... Subtract off the integer part and adjust the x-axis label to reflect this\n",
    "* Change the errorbar and marker color to red\n",
    "* adjust the transparency (alpha) of the points to 0.8\n",
    "* Change the y-axis label to \"Normalised Flux\"\n",
    "* Remove the horizontal \"caps\" from the error bars\n",
    "\n",
    "> You might find it useful to look at the help for the errorbar function."
   ]
  },
  {
   "cell_type": "code",
   "execution_count": 0,
   "metadata": {
    "collapsed": true
   },
   "outputs": [
   ],
   "source": [
    "# WRITE YOUR CODE HERE"
   ]
  },
  {
   "cell_type": "markdown",
   "metadata": {
    "collapsed": false
   },
   "source": [
    "### Scatter plots\n",
    "\n",
    "The ```scatter``` function is useful for scatter plots, particularly ones where you want marker sizes and colours to differ:"
   ]
  },
  {
   "cell_type": "code",
   "execution_count": 0,
   "metadata": {
    "collapsed": false
   },
   "outputs": [
   ],
   "source": [
    "N = 50\n",
    "x = np.random.uniform(size=N)\n",
    "y = np.random.uniform(size=N)\n",
    "colors = np.random.uniform(size=N)\n",
    "area = np.pi * (15 * np.random.uniform(size=N))**2 # 0 to 15 point radiuses\n",
    "\n",
    "plt.scatter(x, y, s=area, c=colors, alpha=0.5)\n",
    "plt.show()"
   ]
  },
  {
   "cell_type": "markdown",
   "metadata": {
    "collapsed": false
   },
   "source": [
    "## Image plots\n",
    "\n",
    "One thing that astronomers do a lot of is plotting images! Matplotlib has excellent support for plotting images. Here I will use the ```astropy``` library to load a FITS image of the Pleiades (there'll be more on reading FITS images in a later session)."
   ]
  },
  {
   "cell_type": "code",
   "execution_count": 0,
   "metadata": {
    "collapsed": false
   },
   "outputs": [
   ],
   "source": [
    "import astropy.io.fits as fits\n",
    "image = fits.getdata('../../data/Session2/pleiades.fits')\n",
    "\n",
    "# image is just a numpy array\n",
    "print (image.mean())\n",
    "print (image.std())\n",
    "print (image.shape)"
   ]
  },
  {
   "cell_type": "markdown",
   "metadata": {
    "collapsed": false
   },
   "source": [
    "We can see the image is 875x875 pixels. We can use the ```imshow``` command to plot this image:"
   ]
  },
  {
   "cell_type": "code",
   "execution_count": 0,
   "metadata": {
    "collapsed": false
   },
   "outputs": [
   ],
   "source": [
    "fig, axis = plt.subplots(figsize=(10,10))\n",
    "axis.imshow(image)\n",
    "plt.show()"
   ]
  },
  {
   "cell_type": "markdown",
   "metadata": {
    "collapsed": false
   },
   "source": [
    "This is not great. The [colormap](../../resources/reference.html#colormap) is pretty horrible, and the image doesn't seem to be the right way up. Also, I don't want a grid.\n",
    "\n",
    "The reason for the image orientation is that it is a convention in computer graphics for the [0,0] element of the array in the upper left. We would normally think of the [0,0] array element being bottom left.\n",
    "\n",
    "We'll go into more detail about plotting images in the session on image handling, but for now let's change the [colormap](../../resources/reference.html#colormap) to be a greyscale, and fix the location of the origin."
   ]
  },
  {
   "cell_type": "code",
   "execution_count": 0,
   "metadata": {
    "collapsed": false
   },
   "outputs": [
   ],
   "source": [
    "fig, axis = plt.subplots(figsize=(10,10))\n",
    "implot = axis.imshow(image, cmap=plt.get_cmap('Greys'), origin='lower')\n",
    "axis.grid(False)\n",
    "plt.show()"
   ]
  },
  {
   "cell_type": "markdown",
   "metadata": {
    "collapsed": false
   },
   "source": [
    "## 3d Plots\n",
    "\n",
    "We won't go into 3D plotting in much detail. but it's worth pointing out that 3D axes can be created by creating a figure and calling the \"get current axis\" function ```gca``` with the ```projection='3d'``` argument:"
   ]
  },
  {
   "cell_type": "code",
   "execution_count": 0,
   "metadata": {
    "collapsed": false
   },
   "outputs": [
   ],
   "source": [
    "from mpl_toolkits.mplot3d import Axes3D\n",
    "fig = plt.figure()\n",
    "axis = plt.gca(projection='3d')"
   ]
  },
  {
   "cell_type": "markdown",
   "metadata": {
    "collapsed": false
   },
   "source": [
    "As a quick example, I've made a 3D scatter plot of some random points below. For more information on 3D plotting in matplotlib, see the tutorial [here](https://beta.oreilly.com/learning/three-dimensional-plotting-in-matplotlib)."
   ]
  },
  {
   "cell_type": "code",
   "execution_count": 0,
   "metadata": {
    "collapsed": false
   },
   "outputs": [
   ],
   "source": [
    "# rather than embed in notebook, uncomment the line below to \n",
    "# plot outside the notebook. For 3D plots, this allows interaction\n",
    "\n",
    "#%matplotlib gtk\n",
    "\n",
    "N = 40\n",
    "x = np.random.uniform(size=N)\n",
    "y = np.random.uniform(size=N)\n",
    "z = np.random.uniform(size=N)\n",
    "area =  15 * np.random.uniform(size=N)\n",
    "\n",
    "fig = plt.figure()\n",
    "axis = plt.gca(projection='3d')\n",
    "axis.scatter(x,y,z,s=area**2,alpha=0.5)\n",
    "plt.show()"
   ]
  },
  {
   "cell_type": "markdown",
   "metadata": {
    "collapsed": false
   },
   "source": [
    "---\n",
    "## Printing out formatted text\n",
    "\n",
    "As well as plotting graphs, printing out nicely formatted text can be important for presenting your results. In Python 3 this is done using the ```format``` method. All Python strings have a format method, which is used like so"
   ]
  },
  {
   "cell_type": "code",
   "execution_count": 0,
   "metadata": {
    "collapsed": false
   },
   "outputs": [
   ],
   "source": [
    "x = 100.1010101\n",
    "a_string = \"The value of x is {}\"\n",
    "print (a_string.format(x))"
   ]
  },
  {
   "cell_type": "markdown",
   "metadata": {
    "collapsed": false
   },
   "source": [
    "The ```format``` method works by replacing any curly brackets within the string by the arguments it is given. You can use as many curly brackets as you like:"
   ]
  },
  {
   "cell_type": "code",
   "execution_count": 0,
   "metadata": {
    "collapsed": false
   },
   "outputs": [
   ],
   "source": [
    "x = np.random.normal(loc=10,scale=1,size=100000)\n",
    "a_string = \"The mean of x is {}, the standard deviation is {}\"\n",
    "print (a_string.format( x.mean(), x.std() ))"
   ]
  },
  {
   "cell_type": "markdown",
   "metadata": {
    "collapsed": false
   },
   "source": [
    "What if we want to change the number of decimal places? Python has a number of *string formatting codes* that allow us to specify how we want the string to look. For example, decimal numbers are formatted with a code like ```:.2f``` which means \"print out a floating point number with 2 decimal places:"
   ]
  },
  {
   "cell_type": "code",
   "execution_count": 0,
   "metadata": {
    "collapsed": false
   },
   "outputs": [
   ],
   "source": [
    "x = np.random.normal(loc=10,scale=1,size=100000)\n",
    "a_string = \"The mean of x is {:.2f}, the standard deviation is {:.2f}\"\n",
    "print (a_string.format( x.mean(), x.std() ))"
   ]
  },
  {
   "cell_type": "markdown",
   "metadata": {
    "collapsed": false
   },
   "source": [
    "Rather than produce a complete view of string formatting I'll refer you to this [nice online guide](https://mkaz.com/2012/10/10/python-string-format/)."
   ]
  },
  {
   "cell_type": "markdown",
   "metadata": {
    "collapsed": false
   },
   "source": [
    "---------\n",
    "<section class=\"challenge panel panel-success\"> \n",
    "<div class=\"panel-heading\">\n",
    "<h1>Homework #2</h1>\n",
    "<h2><span class=\"fa fa-pencil\"></span>Plotting and working with data</h2>\n",
    "</div>\n",
    "</section>\n",
    "\n",
    "> This homework blends together elements of last week's session on numpy arrays and file IO with this week's session on plotting data. \n",
    "\n",
    "> The file located at \"../../data/Session2/gapminderDataFiveYear.csv\" looks like this\n",
    "\n",
    ">``` \n",
    "country,year,pop,continent,lifeExp,gdpPercap\n",
    "0,1952,8425333.0,3,28.801,779.4453145\n",
    "0,1957,9240934.0,3,30.332,820.8530296\n",
    "0,1962,10267083.0,3,31.997,853.10071\n",
    "0,1967,11537966.0,3,34.02,836.1971382\n",
    "0,1972,13079460.0,3,36.088,739.9811058\n",
    "0,1977,14880372.0,3,38.438,786.11336```\n",
    ">\n",
    "> As you can see, it contains life expectancy and GDP data for a range of countries over a range of years up until 2007. Your job this week will be to show this data using matplotlib's scatter function. For example, a plot for the year 2007 might look something like this:\n",
    "> <img src=\"../../images/rosling_plot_2007.svg\"/>"
   ]
  },
  {
   "cell_type": "markdown",
   "metadata": {
    "collapsed": false
   },
   "source": [
    "<section class=\"challenge panel panel-success\"> \n",
    "<div class=\"panel-heading\">\n",
    "<h2><span class=\"fa fa-question\"></span>Question 1 (4 points)</h2>\n",
    "</div>\n",
    "</section> \n",
    "\n",
    "> Write a function to read in the data file and return a 2D numpy array of population, continent, life expectancy and GDP (in that order) *for a given year*. Your function should raise an ```ValueError``` if there is no data for that year.\n",
    "\n",
    "> The function template below is given as a guide to help you.\n",
    "\n",
    "> **Remember, your homework will be marked in part based on whether it passes the tests after each question. Make sure your code passes these tests!**"
   ]
  },
  {
   "cell_type": "code",
   "execution_count": 0,
   "metadata": {
    "deletable": false,
    "nbgrader": {
     "checksum": "ed2f8c964609b3516622b5e55cc0e80e",
     "grade": false,
     "grade_id": "read_data",
     "locked": false,
     "solution": true
    }
   },
   "outputs": [
   ],
   "source": [
    "def get_data(year):\n",
    "    \"\"\"\n",
    "    Read in the data for a given year.\n",
    "    \n",
    "    Arguments\n",
    "    ---------\n",
    "    year : int\n",
    "        the year for which we want to obtain data\n",
    "    \n",
    "    Returns\n",
    "    --------\n",
    "    data : np.ndarray\n",
    "        a 2D array containing population, continent, life expectancy and GDP data for the given year\n",
    "        \n",
    "    Raises\n",
    "    ------\n",
    "    ValueError : if no data exists for the given year\n",
    "    \"\"\"\n",
    "    # defensive programming - make sure year is an integer\n",
    "    year = int(year)\n",
    "    # YOUR CODE HERE"
   ]
  },
  {
   "cell_type": "code",
   "execution_count": 0,
   "metadata": {
    "deletable": false,
    "nbgrader": {
     "checksum": "8497d100aa945116c75f8eff0f6d23c8",
     "grade": true,
     "grade_id": "read_data_vals",
     "locked": true,
     "points": 3,
     "solution": false
    }
   },
   "outputs": [
   ],
   "source": [
    "from nose.tools import assert_equal, assert_almost_equal\n",
    "data = get_data(2007)\n",
    "assert_equal(data.shape, (142,4)) # all years should have 142 countries, 4 columns\n",
    "assert_almost_equal(np.median(data[:,0]), 10517531.0) # median population"
   ]
  },
  {
   "cell_type": "code",
   "execution_count": 0,
   "metadata": {
    "deletable": false,
    "nbgrader": {
     "checksum": "777fa35c80974129e2c669e61a065f5e",
     "grade": true,
     "grade_id": "read_data_raises",
     "locked": true,
     "points": 1,
     "solution": false
    }
   },
   "outputs": [
   ],
   "source": [
    "from nose.tools import assert_raises\n",
    "assert_raises(ValueError,get_data,2008)"
   ]
  },
  {
   "cell_type": "markdown",
   "metadata": {
    "collapsed": false
   },
   "source": [
    "<section class=\"challenge panel panel-success\"> \n",
    "<div class=\"panel-heading\">\n",
    "<h2><span class=\"fa fa-question\"></span>Question 2 (1 points)</h2>\n",
    "</div>\n",
    "</section> \n",
    "\n",
    "> Complete the code below to make a function to select data from a single continent from the results of your ```get_data``` function. The continent column in the data is a list of numbers which follows the following convention:\n",
    " 1. = Africa\n",
    " 2. = Americas\n",
    " 3. = Asia\n",
    " 4. = Europe\n",
    " 5. = Oceania\n",
    "\n",
    "> *Hint: Use numpy's fancy slicing*"
   ]
  },
  {
   "cell_type": "code",
   "execution_count": 0,
   "metadata": {
    "deletable": false,
    "nbgrader": {
     "checksum": "d1b67ec63036a40eb3a281015f7619b9",
     "grade": false,
     "grade_id": "get_continent",
     "locked": false,
     "solution": true
    }
   },
   "outputs": [
   ],
   "source": [
    "def get_continent(continent, data):\n",
    "    \"\"\"\n",
    "    From a 2D data array, select and return only that data which originates from the given continent\n",
    "    \n",
    "    Arguments\n",
    "    ---------\n",
    "    continent : string\n",
    "        Continent of interest. Must be one of 'Africa','Americas','Asia','Europe','Oceania'\n",
    "    data : np.ndarray\n",
    "        2D array containing data on population, continent, life expectancy and GDP\n",
    "        \n",
    "    Returns\n",
    "    -------\n",
    "    outdata : np.ndarray\n",
    "        2D array containing data for selected continent.\n",
    "    \"\"\"\n",
    "    # DEFENSIVE PROGRAMMING\n",
    "    # make sure continent is a string\n",
    "    assert isinstance(continent,str), \"continent argument should be string\"\n",
    "    # make sure it is a known continent\n",
    "    assert continent in ['Africa','Americas','Asia','Europe','Oceania'], \"Unknown continent\"\n",
    "\n",
    "    # YOUR CODE HERE"
   ]
  },
  {
   "cell_type": "code",
   "execution_count": 0,
   "metadata": {
    "deletable": false,
    "nbgrader": {
     "checksum": "df1907292e87576181307fccf5a88ac5",
     "grade": true,
     "grade_id": "get_continent_tests",
     "locked": true,
     "points": 1,
     "solution": false
    }
   },
   "outputs": [
   ],
   "source": [
    "from nose.tools import assert_equal\n",
    "data = get_data(2007)\n",
    "europe = get_continent('Europe',data)\n",
    "assert_equal(europe.shape,(30,4))"
   ]
  },
  {
   "cell_type": "markdown",
   "metadata": {
    "collapsed": false
   },
   "source": [
    "<section class=\"challenge panel panel-success\"> \n",
    "<div class=\"panel-heading\">\n",
    "<h2><span class=\"fa fa-question\"></span>Question 2 (5 points)</h2>\n",
    "</div>\n",
    "</section> \n",
    "\n",
    "> Complete the function below to plot a scatter plot like the one shown above. GDP per person should be on the x-axis, which should be on a log scale. Life expectancy in years is the y-axis. Points should be colour coded according to continent and the plot should have a legend indicating this colour scheme. The size of the point should be proportional to the population\n",
    "\n",
    "> Use your function to plot the life expectancy data for 1972 and 2007.\n",
    "\n",
    "> *Hint 1: call plt.scatter once for each continent*\n",
    "\n",
    "> *Hint 2: Search the web and find out how to make your legend display only one symbol per continent, and make those symbols all the same size*\n"
   ]
  },
  {
   "cell_type": "code",
   "execution_count": 0,
   "metadata": {
    "deletable": false,
    "nbgrader": {
     "checksum": "97e92431635dfb4f1dd8e84441d058e2",
     "grade": true,
     "grade_id": "plot",
     "locked": false,
     "points": 5,
     "solution": true
    }
   },
   "outputs": [
   ],
   "source": [
    "def plot_scatter(year):\n",
    "    \"\"\"\n",
    "    Plot a scatter diagram of GDP vs life expectancy for a given year.\n",
    "    \"\"\"\n",
    "    # make a figure object\n",
    "    fig,axes = plt.subplots(figsize=(11,9))\n",
    "\n",
    "    # get the data for this year\n",
    "    data = get_data(year)\n",
    "\n",
    "    # a list of continents\n",
    "    continents = ['Africa','Americas','Asia','Europe','Oceania']\n",
    "\n",
    "    # a list of colors to go with each continent\n",
    "    colors     = [\"#9b59b6\", \"#3498db\", \"#2ecc71\", \"#e74c3c\", \"#34495e\"]\n",
    "\n",
    "    # HINT: you can iterate through a pair of lists using python's \"zip\"\n",
    "    # e.g\n",
    "    # for color, continent in zip(colors,continents):\n",
    "    #     print(color, continent)\n",
    "    \n",
    "    # YOUR CODE HERE\n",
    "    \n",
    "plot_scatter(1972)\n",
    "plot_scatter(2007)"
   ]
  },
  {
   "cell_type": "markdown",
   "metadata": {
    "collapsed": false
   },
   "source": [
    "<section class=\"panel panel-warning\"> \n",
    "<div class=\"panel-heading\">\n",
    "<h2><span class=\"fa fa-question\"></span>Extra Credit (2 points)</h2>\n",
    "</div>\n",
    "</section>\n",
    "\n",
    "> Extra credit questions allow you to make up for marks dropped in this and other homeworks. You can't score more than 100% overall, but if you get 2 extra credit points this week, and lose 2 points next week, you'd still be on course for 100% marks. I don't expect you to answer extra credit questions, *unless you want to*.\n",
    "\n",
    "> For extra credit this week, have a look at this [tutorial](http://earthpy.org/pyncview_pm.html) for the ```interact``` feature in the Jupyter notebook. The ```interact``` feature allows you to make interactive plots. Use it to make an interactive plot with a slider that you can drag to change the year. \n",
    "\n",
    "> You might want to know that the dataset contains data every five years, starting at 1952 and ending in 2007."
   ]
  },
  {
   "cell_type": "code",
   "execution_count": 0,
   "metadata": {
    "deletable": false,
    "nbgrader": {
     "checksum": "46e7b32890e9e5c1f37c223c2254ce52",
     "grade": true,
     "grade_id": "interact",
     "locked": false,
     "points": 2,
     "solution": true
    }
   },
   "outputs": [
   ],
   "source": [
    "# YOUR CODE HERE"
   ]
  }
 ],
 "metadata": {
  "kernelspec": {
   "display_name": "Python 3 (Ubuntu Linux)",
   "language": "python",
   "name": "python3"
  },
  "language_info": {
   "codemirror_mode": {
    "name": "ipython",
    "version": 3
   },
   "file_extension": ".py",
   "mimetype": "text/x-python",
   "name": "python",
   "nbconvert_exporter": "python",
   "pygments_lexer": "ipython3",
   "version": "3.5.2"
  }
 },
 "nbformat": 4,
 "nbformat_minor": 0
}