{
 "cells": [
  {
   "cell_type": "markdown",
   "metadata": {
    "collapsed": false
   },
   "source": [
    "###### The cell below loads the visual style of the notebook when run."
   ]
  },
  {
   "cell_type": "code",
   "execution_count": 0,
   "metadata": {
    "collapsed": false
   },
   "outputs": [
   ],
   "source": [
    "from IPython.core.display import HTML\n",
    "css_file = '../../styles/styles.css'\n",
    "HTML(open(css_file, \"r\").read())"
   ]
  },
  {
   "cell_type": "markdown",
   "metadata": {
    "collapsed": false
   },
   "source": [
    "# Fitting Polynomials using NumPy\n",
    "\n",
    "Let's load the data from the main notebook and plot it."
   ]
  },
  {
   "cell_type": "code",
   "execution_count": 0,
   "metadata": {
    "collapsed": false
   },
   "outputs": [
   ],
   "source": [
    "%matplotlib inline  \n",
    "import numpy as np\n",
    "import matplotlib.pyplot as plt\n",
    "\n",
    "x,y,e = np.loadtxt('/home/user/PHY241/data/Session7/data.txt',unpack=True)\n",
    "fig,ax = plt.subplots()\n",
    "ax.errorbar(x,y,yerr=e,fmt='.')\n",
    "ax.set_xlabel('x')\n",
    "ax.set_ylabel('y')\n",
    "plt.show()"
   ]
  },
  {
   "cell_type": "markdown",
   "metadata": {
    "collapsed": false
   },
   "source": [
    "----\n",
    "\n",
    "### Fitting polynomials with ```numpy.polyfit```\n",
    "\n",
    "The data looks like it is well described by a straight line. The easiest way to fit a polynomial like a straight line, or a quadratic function is to use ```numpy```'s in-built polynomial fitting routines. First of all we'll use ```numpy``` in the most basic form to fit the x and y data, ignoring the uncertainties."
   ]
  },
  {
   "cell_type": "code",
   "execution_count": 0,
   "metadata": {
    "collapsed": false
   },
   "outputs": [
   ],
   "source": [
    "degree = 1 # order of the polynomial to fit.\n",
    "\n",
    "\"\"\"np.polyfit takes three arguments - the x data, the y data \n",
    "   and the order of the polynomial. \n",
    "   \n",
    "   it returns a list of polynomial parameters, with the highest\n",
    "   order first. For example, if you fit y = a1*x + a0 the result\n",
    "   is returned as [a1,a0].\n",
    "\"\"\"\n",
    "poly_params = np.polyfit(x,y,degree)\n",
    "print( poly_params )"
   ]
  },
  {
   "cell_type": "markdown",
   "metadata": {
    "collapsed": false
   },
   "source": [
    "Note two things: that the polyfit routine returns a list of the polynomial parameters, and that numpy refers to a straight line as a polynomial of order 1. In this case, the list is [gradient, intercept].\n",
    "\n",
    "Also notice that we don't supply the uncertainties on our data to ```polyfit``` - in this case, polyfit is minimising the sum-of-the-squares, ${\\rm SS}$.\n",
    "\n",
    "Now we have our fit, let's plot it on top of the data. First, we create a polynomial function from our best-fit parameters"
   ]
  },
  {
   "cell_type": "code",
   "execution_count": 0,
   "metadata": {
    "collapsed": false
   },
   "outputs": [
   ],
   "source": [
    "poly = np.poly1d(poly_params)"
   ]
  },
  {
   "cell_type": "markdown",
   "metadata": {
    "collapsed": false
   },
   "source": [
    "The line above creates a function, which we store with the name *poly*. We can calculate the value of this function at our data points, *x*, to create a new array of our best fit values:"
   ]
  },
  {
   "cell_type": "code",
   "execution_count": 0,
   "metadata": {
    "collapsed": false
   },
   "outputs": [
   ],
   "source": [
    "yfit = poly(x)"
   ]
  },
  {
   "cell_type": "markdown",
   "metadata": {
    "collapsed": false
   },
   "source": [
    "Now let's plot our best fit values and our data together:"
   ]
  },
  {
   "cell_type": "code",
   "execution_count": 0,
   "metadata": {
    "collapsed": false
   },
   "outputs": [
   ],
   "source": [
    "fig,ax = plt.subplots()\n",
    "# plot our data as errorbars\n",
    "ax.errorbar(x,y,yerr=e,fmt='.')\n",
    "# plot our best fit as a line\n",
    "ax.plot(x,yfit)\n",
    "ax.set_xlabel('x')\n",
    "ax.set_ylabel('y')\n",
    "plt.show()"
   ]
  },
  {
   "cell_type": "markdown",
   "metadata": {
    "collapsed": false
   },
   "source": [
    "### Fitting $\\chi^2$\n",
    "\n",
    "What if we don't want to ignore the errors? We can use them as <b>weights</b> in the fit, and so get ```polyfit``` to minimise $\\chi^2$. To do this, we want to weight each point by the inverse of the variance."
   ]
  },
  {
   "cell_type": "code",
   "execution_count": 0,
   "metadata": {
    "collapsed": false
   },
   "outputs": [
   ],
   "source": [
    "weights = 1./e**2\n",
    "poly_params = np.polyfit(x,y,degree,w=weights)\n",
    "print(poly_params)"
   ]
  },
  {
   "cell_type": "markdown",
   "metadata": {
    "collapsed": false
   },
   "source": [
    "What if we want to know the uncertainties on our best fit? This will be true most of the time! We can ask the polyfit routine to return the <em>covariance matrix</em> for our parameters. You'll learn more about covariance matrices next year, for now you can assume that the diagonal elements of this matrix are our uncertainties, and these can easily be extracted using numpy's <code>diag</code> function"
   ]
  },
  {
   "cell_type": "code",
   "execution_count": 0,
   "metadata": {
    "collapsed": false
   },
   "outputs": [
   ],
   "source": [
    "poly_params, covar_mat = np.polyfit(x,y,degree,w=weights,cov=True)\n",
    "print(covar_mat)"
   ]
  },
  {
   "cell_type": "code",
   "execution_count": 0,
   "metadata": {
    "collapsed": false
   },
   "outputs": [
   ],
   "source": [
    "param_errs = np.diag(covar_mat)\n",
    "print(param_errs)"
   ]
  },
  {
   "cell_type": "markdown",
   "metadata": {
    "collapsed": false
   },
   "source": [
    "Finally, we can use string formatting to print out model fit and errors neatly and to the correct number of significant figures. For a reminder about string formatting - see [here](http://openbookproject.net/thinkcs/python/english3e/strings.html#the-string-format-method)."
   ]
  },
  {
   "cell_type": "code",
   "execution_count": 0,
   "metadata": {
    "collapsed": false
   },
   "outputs": [
   ],
   "source": [
    "gradient, intercept = poly_params\n",
    "gradient_err, intercept_err = param_errs\n",
    "\n",
    "print(\"The gradient is {:.2f} +/- {:.2f}\".format(gradient, gradient_err))\n",
    "print(\"The intercept is {:.0f} +/- {:.0f}\".format(intercept, intercept_err))"
   ]
  }
 ],
 "metadata": {
  "kernelspec": {
   "display_name": "Python 3 (Ubuntu Linux)",
   "language": "python",
   "name": "python3"
  },
  "language_info": {
   "codemirror_mode": {
    "name": "ipython",
    "version": 3
   },
   "file_extension": ".py",
   "mimetype": "text/x-python",
   "name": "python",
   "nbconvert_exporter": "python",
   "pygments_lexer": "ipython3",
   "version": "3.5.2"
  }
 },
 "nbformat": 4,
 "nbformat_minor": 0
}