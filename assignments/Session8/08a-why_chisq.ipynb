{
 "cells": [
  {
   "cell_type": "markdown",
   "metadata": {
    "collapsed": false
   },
   "source": [
    "### Justifying $\\chi^2$ - The principle of maximum likelihood\n",
    "\n",
    "Here we will show why minimising $\\chi^2$ is a sensible way of fitting a model to data. We will show that minimising  $\\chi^2$  is equivalent to maximising the Likelihood - the probability of obtaining our data, assuming our model is correct. \n",
    "\n",
    "Given our model, we know the predicted value of $y(x)$. If measurement $i$ has an error $\\sigma_i$ then our $i^{\\rm th}$ data point is a Gaussian random variable with mean $\\mu = y(x)$ and standard deviation $\\sigma_i$. The probability it has value $y_i$ is therefore given by\n",
    "\n",
    "$$P(y_i) = \\frac{1}{\\sqrt{2\\pi\\sigma_i^2}} \\exp{ \\left[ \\frac{-(y_i - y(x_i))^2 }{2\\sigma_i^2} \\right] }.$$\n",
    "\n",
    "We assume the data points are independent, so the Likelihood, or the probability of getting our whole dataset is\n",
    "\n",
    "$$\n",
    "\\begin{align}\n",
    "P(y_1,y_2,\\ldots,y_n) &= P(y_1) P(y_2) \\ldots P(y_n) \\\\\n",
    "                                       &= \\prod_{i=1}^n P(y_i) \\\\\n",
    "                                       &=  \\prod_{i=1}^n \\frac{1}{\\sqrt{2\\pi\\sigma_i^2}} \\exp{ \\left[ \\frac{-(y_i - y(x_i))^2 }{2\\sigma_i^2} \\right] } \\\\\n",
    "                                       &= \\prod_{i=1}^n \\frac{1}{\\sqrt{2\\pi\\sigma_i^2}} \\prod_{i=1}^n \\exp{ \\left[ \\frac{-(y_i - y(x_i))^2 }{2\\sigma_i^2} \\right] } \\\\\n",
    "    L = P(D \\mid \\theta)  &= \\alpha \\prod_{i=1}^n \\exp{ \\left[ \\frac{-(y_i - y(x_i))^2 }{2\\sigma_i^2} \\right]},\n",
    "\\end{align}\n",
    "$$\n",
    "\n",
    "where $\\alpha$ is a constant. We now take the natural log of the Likelihood to obtain\n",
    "\n",
    "$$ \\ln L = \\ln \\alpha - \\frac{1}{2}  \\sum_{i=1}^n  \\left(\\frac{y_i - y(x_i)}{\\sigma_i} \\right) ^2.$$\n",
    "\n",
    "But the sum on the RHS is just $\\chi^2$, so we can write\n",
    "\n",
    "$$ \\ln L \\propto -\\chi^2.$$\n",
    "\n",
    "Therefore the model parameters which minimise $\\chi^2$ will maximise the Likelihood - the probability of obtaining our data, assuming our model."
   ]
  }
 ],
 "metadata": {
  "kernelspec": {
   "display_name": "Python 3 (Ubuntu Linux)",
   "language": "python",
   "name": "python3"
  },
  "language_info": {
   "codemirror_mode": {
    "name": "ipython",
    "version": 3
   },
   "file_extension": ".py",
   "mimetype": "text/x-python",
   "name": "python",
   "nbconvert_exporter": "python",
   "pygments_lexer": "ipython3",
   "version": "3.5.2"
  }
 },
 "nbformat": 4,
 "nbformat_minor": 0
}