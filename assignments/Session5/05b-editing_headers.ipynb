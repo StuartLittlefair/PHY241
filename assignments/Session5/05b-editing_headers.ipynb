{
 "cells": [
  {
   "cell_type": "markdown",
   "metadata": {
    "collapsed": false
   },
   "source": [
    "###### The cell below loads the visual style of the notebook when run."
   ]
  },
  {
   "cell_type": "code",
   "execution_count": 0,
   "metadata": {
    "collapsed": false
   },
   "outputs": [
   ],
   "source": [
    "from IPython.core.display import HTML\n",
    "css_file = './styles/styles.css'\n",
    "HTML(open(css_file, \"r\").read())"
   ]
  },
  {
   "cell_type": "markdown",
   "metadata": {
    "collapsed": true
   },
   "source": [
    "# Editing FITS headers\n",
    "\n",
    "There are certain circumstances where we want to edit the information contained within the FITS header. For example, when reducing our data we may want to set the IMAGETYP or OBJECT entry to indicate whether a file is a DARK, FLAT, BIAS or LIGHT (science) frame.\n",
    "\n",
    "This can be done, without copying the file, using Astropy's ```fits``` library. The first step is to open the file in what is called \"update\" mode - which allows us to alter the file without making a copy:"
   ]
  },
  {
   "cell_type": "code",
   "execution_count": 0,
   "metadata": {
    "collapsed": false
   },
   "outputs": [
   ],
   "source": [
    "from astropy.io import fits\n",
    "hdu_list = fits.open('../../data/M51/dark1.fit',mode='update')"
   ]
  },
  {
   "cell_type": "markdown",
   "metadata": {
    "collapsed": false
   },
   "source": [
    "The ```fits.open``` command returns a ```HDUList``` object, which we store in the ```hdu_list``` variable. Each FITS files can contain a number of HDUs. For simple image files, the data and header are usually in the Primary HDU, which is accessed using the normal slice notation ```hdu_list[0]```. The data and header are accessed like so:"
   ]
  },
  {
   "cell_type": "code",
   "execution_count": 0,
   "metadata": {
    "collapsed": false
   },
   "outputs": [
   ],
   "source": [
    "data = hdu_list[0].data\n",
    "header = hdu_list[0].header\n",
    "\n",
    "print(header['IMAGETYP'])"
   ]
  },
  {
   "cell_type": "markdown",
   "metadata": {
    "collapsed": false
   },
   "source": [
    "Notice how the IMAGETYP FITS header entry is correctly set for this file. If we wanted to change the entry, it is very simple:"
   ]
  },
  {
   "cell_type": "code",
   "execution_count": 0,
   "metadata": {
    "collapsed": true
   },
   "outputs": [
   ],
   "source": [
    "header['IMAGETYP'] = \"DARK\""
   ]
  },
  {
   "cell_type": "markdown",
   "metadata": {
    "collapsed": false
   },
   "source": [
    "At the moment, our changes are not reflected in the file on the computer disk. To write the changes to disk we use the ```flush``` member of the ```hdu_list```:"
   ]
  },
  {
   "cell_type": "code",
   "execution_count": 0,
   "metadata": {
    "collapsed": true
   },
   "outputs": [
   ],
   "source": [
    "hdu_list.flush()"
   ]
  },
  {
   "cell_type": "markdown",
   "metadata": {
    "collapsed": false
   },
   "source": [
    "That's it! Using this method you can set the headers in your data to be anything you like."
   ]
  }
 ],
 "metadata": {
  "kernelspec": {
   "display_name": "Python 3 (system-wide)",
   "language": "python",
   "metadata": {
    "cocalc": {
     "description": "Python 3 programming language",
     "priority": 100,
     "url": "https://www.python.org/"
    }
   },
   "name": "python3",
   "resource_dir": "/ext/jupyter/kernels/python3"
  },
  "language_info": {
   "codemirror_mode": {
    "name": "ipython",
    "version": 3
   },
   "file_extension": ".py",
   "mimetype": "text/x-python",
   "name": "python",
   "nbconvert_exporter": "python",
   "pygments_lexer": "ipython3",
   "version": "3.4.3+"
  }
 },
 "nbformat": 4,
 "nbformat_minor": 4
}