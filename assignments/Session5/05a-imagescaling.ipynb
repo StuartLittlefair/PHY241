{
 "cells": [
  {
   "cell_type": "markdown",
   "metadata": {},
   "source": [
    "###### The cell below loads the visual style of the notebook when run."
   ]
  },
  {
   "cell_type": "code",
   "execution_count": null,
   "metadata": {
    "collapsed": false
   },
   "outputs": [],
   "source": [
    "from IPython.core.display import HTML\n",
    "css_file = './styles/styles.css'\n",
    "HTML(open(css_file, \"r\").read())"
   ]
  },
  {
   "cell_type": "markdown",
   "metadata": {},
   "source": [
    "# Understanding Image Scaling and Display"
   ]
  },
  {
   "cell_type": "markdown",
   "metadata": {},
   "source": [
    "We'll start by downloading the same image used in the main tutorial and reading the fits file."
   ]
  },
  {
   "cell_type": "code",
   "execution_count": null,
   "metadata": {
    "collapsed": true
   },
   "outputs": [],
   "source": [
    "import numpy as np\n",
    "%matplotlib inline\n",
    "import matplotlib.pyplot as plt\n",
    "\n",
    "from astropy.io import fits\n",
    "from astropy.utils.data import download_file\n",
    "\n",
    "image_file = download_file('http://data.astropy.org/tutorials/FITS-images/HorseHead.fits',cache=True)\n",
    "image_data = fits.getdata(image_file)"
   ]
  },
  {
   "cell_type": "markdown",
   "metadata": {},
   "source": [
    "The ```image_data``` array is a two-dimensional array. Each entry is a number representing the flux falling on that pixel of the CCD. When we display the image, we have to choose a [colormap](../../resources/reference.html#colormap) - a mapping between the number in the array, and the color in the image. \n",
    "\n",
    "In the example below, this colormap is a linear grayscale, with black representing the smallest value in the image_data, and white the largest."
   ]
  },
  {
   "cell_type": "code",
   "execution_count": null,
   "metadata": {
    "collapsed": false
   },
   "outputs": [],
   "source": [
    "fig, axis = plt.subplots(figsize=(8,8))\n",
    "implot = axis.imshow(image_data,cmap='gray',origin='lower')\n",
    "axis.grid(False)\n",
    "plt.show()"
   ]
  },
  {
   "cell_type": "markdown",
   "metadata": {},
   "source": [
    "Maybe we want to change the standard colormap? To understand a bit more what's going on here, let's plot a histogram of all the pixel values in the image data:"
   ]
  },
  {
   "cell_type": "code",
   "execution_count": null,
   "metadata": {
    "collapsed": false
   },
   "outputs": [],
   "source": [
    "NBINS=500\n",
    "fig, axis = plt.subplots()\n",
    "\n",
    "#notice the use of image_data.ravel() to make a 1D array from the 2D array\n",
    "#without this, we'd get one histogram per row of the image!\n",
    "axis.hist(image_data.ravel(), NBINS)\n",
    "axis.set_xlabel('Pixel value')\n",
    "axis.set_ylabel('Number of pixels')\n",
    "plt.show()"
   ]
  },
  {
   "cell_type": "markdown",
   "metadata": {},
   "source": [
    "We can see that the image contains pixel values from roughly 5,000 to nearly 23,000. Most pixels have values of less than 15,000 however. We might want to force 15,000 (and all pixel values higher than that) to display as pure white. We can do that with the ```vmax``` argument:"
   ]
  },
  {
   "cell_type": "code",
   "execution_count": null,
   "metadata": {
    "collapsed": false
   },
   "outputs": [],
   "source": [
    "fig, axis = plt.subplots(figsize=(8,8))\n",
    "implot = axis.imshow(image_data,cmap='gray',origin='lower',vmax=15000)\n",
    "axis.grid(False)\n",
    "plt.show()"
   ]
  },
  {
   "cell_type": "markdown",
   "metadata": {},
   "source": [
    "Notice how we've enhanced the image contrast, but we've lost detail in the brighter regions? We can also choose which value represents pure black with the ```vmin``` argument:"
   ]
  },
  {
   "cell_type": "code",
   "execution_count": null,
   "metadata": {
    "collapsed": false
   },
   "outputs": [],
   "source": [
    "fig, axis = plt.subplots(figsize=(8,8))\n",
    "implot = axis.imshow(image_data,cmap='gray',origin='lower',vmax=15000,vmin=6000)\n",
    "axis.grid(False)\n",
    "plt.show()"
   ]
  },
  {
   "cell_type": "markdown",
   "metadata": {},
   "source": [
    "### Automatically finding vmin, vmax using percentiles\n",
    "\n",
    "Numpy has a useful function for finding the percentiles of the values in an array. For example\n",
    "```np.percentile(image_data,[20])``` would find the value corresponding to the 20th percentile - i.e. 20 percent of all pixels would have a value less than or equal to this value. Most images look quite nice when the black point is set to the 1st percentile and the white point to the 99th percentile. This means the full range of black to white contains most of the data, but the odd outlying low or high pixel won't set our range:"
   ]
  },
  {
   "cell_type": "code",
   "execution_count": null,
   "metadata": {
    "collapsed": false
   },
   "outputs": [],
   "source": [
    "vmin, vmax = np.percentile(image_data, [1,99]) # returns one value for each percentile in list\n",
    "fig, axis = plt.subplots(figsize=(8,8))\n",
    "implot = axis.imshow(image_data,cmap='gray',origin='lower',vmax=vmax,vmin=vmin)\n",
    "axis.grid(False)\n",
    "plt.show()"
   ]
  },
  {
   "cell_type": "markdown",
   "metadata": {},
   "source": [
    "### Non-linear scales\n",
    "\n",
    "All the examples above use a linear scale. If the pixel value doubles, the brightness in the image doubles. Non-linear scales can be used to enhance certain parts of the image. For example, if the output color is logarithmically related to the input value, it can enhance the dark areas:"
   ]
  },
  {
   "cell_type": "code",
   "execution_count": null,
   "metadata": {
    "collapsed": false
   },
   "outputs": [],
   "source": [
    "from matplotlib.colors import LogNorm\n",
    "fig, axis = plt.subplots(figsize=(8,8))\n",
    "implot = axis.imshow(image_data,cmap='gray',origin='lower',norm=LogNorm())\n",
    "axis.grid(False)\n",
    "plt.show()"
   ]
  },
  {
   "cell_type": "markdown",
   "metadata": {},
   "source": [
    "The astropy library itself contains many useful transformations that are sometimes used to display astronomical images. If you're interested in these, take a look at the [documentation](http://astropy.readthedocs.org/en/stable/visualization/normalization.html#intervals-and-normalization)"
   ]
  }
 ],
 "metadata": {
  "kernelspec": {
   "display_name": "Python 3",
   "language": "python",
   "name": "python3"
  },
  "language_info": {
   "codemirror_mode": {
    "name": "ipython",
    "version": 3
   },
   "file_extension": ".py",
   "mimetype": "text/x-python",
   "name": "python",
   "nbconvert_exporter": "python",
   "pygments_lexer": "ipython3",
   "version": "3.5.0"
  }
 },
 "nbformat": 4,
 "nbformat_minor": 0
}