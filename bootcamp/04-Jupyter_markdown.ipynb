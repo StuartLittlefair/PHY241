{
 "cells": [
  {
   "cell_type": "markdown",
   "metadata": {},
   "source": [
    "######The cell below loads the style of this notebook."
   ]
  },
  {
   "cell_type": "code",
   "execution_count": 2,
   "metadata": {
    "collapsed": false
   },
   "outputs": [
    {
     "data": {
      "text/html": [
       "<link href='http://fonts.googleapis.com/css?family=Crimson+Text' rel='stylesheet' type='text/css'>\n",
       "<link href='http://fonts.googleapis.com/css?family=Kameron' rel='stylesheet' type='text/css'>\n",
       "<link href='http://fonts.googleapis.com/css?family=Lato:200,300,400' rel='stylesheet' type='text/css'>\n",
       "<link href='http://fonts.googleapis.com/css?family=Source+Code+Pro' rel='stylesheet' type='text/css'>\n",
       "<style>\n",
       "\n",
       "@font-face {\n",
       "    font-family: \"Computer Modern\";\n",
       "    src: url('http://mirrors.ctan.org/fonts/cm-unicode/fonts/otf/cmunss.otf');\n",
       "}\n",
       "\n",
       "#notebook_panel { /* main background */\n",
       "    background: rgb(245,245,245);\n",
       "}\n",
       "\n",
       "\n",
       "div #notebook { /* centre the content */\n",
       "    background: #fff; /* white background for content */\n",
       "    margin: auto;\n",
       "    padding-left: 0em;\n",
       "}\n",
       "\n",
       "\n",
       "#notebook li { /* More space between bullet points */\n",
       "    margin-top:0.8em;\n",
       "}\n",
       "\n",
       "/* draw border around running cells */\n",
       "div.cell.border-box-sizing.code_cell.running { \n",
       "    border: 1px solid #111;\n",
       "}\n",
       "\n",
       "/* Put a solid color box around each cell and its output, visually linking them*/\n",
       "div.cell.code_cell {\n",
       "    background-color: rgb(256,256,256); \n",
       "    border-radius: 0px; \n",
       "    /* width: 105ex; */\n",
       "    padding: 0.5em;\n",
       "    margin-left:1em;\n",
       "    margin-top: 1em;\n",
       "}\n",
       "\n",
       "div.input_area {\n",
       "    border-color: rgba(0,0,0,0.10);\n",
       "    background: rbga(0,0,0,0.5);\n",
       "}\n",
       "\n",
       "/*\n",
       "div.text_cell {\n",
       "    max-width: 105ex; /* instead of 100%, */\n",
       "}\n",
       "*/\n",
       "\n",
       "div.text_cell_render {\n",
       "    font-family: \"Crimson Text\";\n",
       "    font-size: 12pt;\n",
       "    line-height: 145%; /* added for some line spacing of text. */\n",
       "}\n",
       "\n",
       "div.text_cell_render h1,\n",
       "div.text_cell_render h2,\n",
       "div.text_cell_render h3,\n",
       "div.text_cell_render h4,\n",
       "div.text_cell_render h5,\n",
       "div.text_cell_render h6 {\n",
       "    font-family: 'Kameron';\n",
       "    font-weight: 300;\n",
       "}\n",
       "\n",
       "div.text_cell_render h1 {\n",
       "    font-size: 24pt;\n",
       "}\n",
       "\n",
       "div.text_cell_render h2 {\n",
       "    font-size: 18pt;\n",
       "}\n",
       "\n",
       "div.text_cell_render h3 {\n",
       "    font-size: 14pt;\n",
       "}\n",
       "\n",
       ".rendered_html pre,\n",
       ".rendered_html code {\n",
       "    font-size: medium;\n",
       "}\n",
       "\n",
       ".rendered_html ol {\n",
       "    list-style:decimal;\n",
       "    margin: 1em 2em;\n",
       "}\n",
       "\n",
       ".CodeMirror pre{\n",
       "        font-family: 'Source Code Pro', Consolas, monocco, monospace;\n",
       "}\n",
       "\n",
       "/* Make space between the fa icon and the rest of the header */\n",
       ".panel-heading h1 span,\n",
       ".panel-heading h2 span,\n",
       ".panel-heading h3 span,\n",
       ".panel-heading h4 span,\n",
       ".panel-heading h5 span,\n",
       ".panel-heading h6 span {\n",
       "    padding-right: 10px;\n",
       "}\n",
       "\n",
       ".fa {\n",
       "    padding: 5px;\n",
       "    }\n",
       "\n",
       "/* Nice keystroke style */    \n",
       "kbd {\n",
       "    padding:0.1em 0.6em;\n",
       "    border:1px solid #ccc;\n",
       "    font-size:11px;\n",
       "    font-family:Arial,Helvetica,sans-serif;\n",
       "    background-color:#f7f7f7;\n",
       "    color:#333;\n",
       "    -moz-box-shadow:0 1px 0px rgba(0, 0, 0, 0.2),0 0 0 2px #ffffff inset;\n",
       "    -webkit-box-shadow:0 1px 0px rgba(0, 0, 0, 0.2),0 0 0 2px #ffffff inset;\n",
       "    box-shadow:0 1px 0px rgba(0, 0, 0, 0.2),0 0 0 2px #ffffff inset;\n",
       "    -moz-border-radius:3px;\n",
       "    -webkit-border-radius:3px;\n",
       "    border-radius:3px;\n",
       "    display:inline-block;\n",
       "    margin:0 0.1em;\n",
       "    text-shadow:0 1px 0 #fff;\n",
       "    line-height:1.4;\n",
       "    white-space:nowrap;\n",
       "}\n",
       "\n",
       "/* Copy of bootstrap's panel settings */\n",
       ".panel {\n",
       "  -webkit-box-shadow: 0 1px 2px rgba(0, 0, 0, 0.05);\n",
       "          box-shadow: 0 1px 2px rgba(0, 0, 0, 0.05);\n",
       "}\n",
       "\n",
       ".panel-default > .panel-heading {\n",
       "  background-image: -webkit-linear-gradient(top, #f5f5f5 0%, #e8e8e8 100%);\n",
       "  background-image: linear-gradient(to bottom, #f5f5f5 0%, #e8e8e8 100%);\n",
       "  background-repeat: repeat-x;\n",
       "  filter: progid:DXImageTransform.Microsoft.gradient(startColorstr='#fff5f5f5', endColorstr='#ffe8e8e8', GradientType=0);\n",
       "}\n",
       "\n",
       ".panel-primary > .panel-heading {\n",
       "  background-image: -webkit-linear-gradient(top, #428bca 0%, #357ebd 100%);\n",
       "  background-image: linear-gradient(to bottom, #428bca 0%, #357ebd 100%);\n",
       "  background-repeat: repeat-x;\n",
       "  filter: progid:DXImageTransform.Microsoft.gradient(startColorstr='#ff428bca', endColorstr='#ff357ebd', GradientType=0);\n",
       "}\n",
       "\n",
       ".panel-success > .panel-heading {\n",
       "  background-image: -webkit-linear-gradient(top, #dff0d8 0%, #d0e9c6 100%);\n",
       "  background-image: linear-gradient(to bottom, #dff0d8 0%, #d0e9c6 100%);\n",
       "  background-repeat: repeat-x;\n",
       "  filter: progid:DXImageTransform.Microsoft.gradient(startColorstr='#ffdff0d8', endColorstr='#ffd0e9c6', GradientType=0);\n",
       "}\n",
       "\n",
       ".panel-info > .panel-heading {\n",
       "  background-image: -webkit-linear-gradient(top, #d9edf7 0%, #c4e3f3 100%);\n",
       "  background-image: linear-gradient(to bottom, #d9edf7 0%, #c4e3f3 100%);\n",
       "  background-repeat: repeat-x;\n",
       "  filter: progid:DXImageTransform.Microsoft.gradient(startColorstr='#ffd9edf7', endColorstr='#ffc4e3f3', GradientType=0);\n",
       "}\n",
       "\n",
       ".panel-warning > .panel-heading {\n",
       "  background-image: -webkit-linear-gradient(top, #fcf8e3 0%, #faf2cc 100%);\n",
       "  background-image: linear-gradient(to bottom, #fcf8e3 0%, #faf2cc 100%);\n",
       "  background-repeat: repeat-x;\n",
       "  filter: progid:DXImageTransform.Microsoft.gradient(startColorstr='#fffcf8e3', endColorstr='#fffaf2cc', GradientType=0);\n",
       "}\n",
       "\n",
       ".panel-danger > .panel-heading {\n",
       "  background-image: -webkit-linear-gradient(top, #f2dede 0%, #ebcccc 100%);\n",
       "  background-image: linear-gradient(to bottom, #f2dede 0%, #ebcccc 100%);\n",
       "  background-repeat: repeat-x;\n",
       "  filter: progid:DXImageTransform.Microsoft.gradient(startColorstr='#fff2dede', endColorstr='#ffebcccc', GradientType=0);\n",
       "}\n",
       "\n",
       "\n",
       "\n",
       "</style>\n",
       "<script>\n",
       "    MathJax.Hub.Config({\n",
       "                        TeX: {\n",
       "                           extensions: [\"AMSmath.js\"],\n",
       "                           equationNumbers: { autoNumber: \"AMS\", useLabelIds: true}\n",
       "                           },\n",
       "                tex2jax: {\n",
       "                    inlineMath: [ ['$','$'], [\"\\\\(\",\"\\\\)\"] ],\n",
       "                    displayMath: [ ['$$','$$'], [\"\\\\[\",\"\\\\]\"] ]\n",
       "                },\n",
       "                displayAlign: 'center', // Change this to 'center' to center equations.\n",
       "                \"HTML-CSS\": {\n",
       "                    styles: {'.MathJax_Display': {\"margin\": 4}}\n",
       "                }\n",
       "        });\n",
       "</script>"
      ],
      "text/plain": [
       "<IPython.core.display.HTML object>"
      ]
     },
     "execution_count": 2,
     "metadata": {},
     "output_type": "execute_result"
    }
   ],
   "source": [
    "from IPython.core.display import HTML\n",
    "css_file = '../styles/styles.css'\n",
    "HTML(open(css_file, \"r\").read())"
   ]
  },
  {
   "cell_type": "markdown",
   "metadata": {},
   "source": [
    "#Using markdown in the Jupyter Notebook\n",
    "-------------------------------------------------------------"
   ]
  },
  {
   "cell_type": "markdown",
   "metadata": {},
   "source": [
    "<section class=\"objectives panel panel-warning\">\n",
    "<div class=\"panel-heading\">\n",
    "<h2><span class=\"fa fa-certificate\"></span>Learning Objectives</h2>\n",
    "</div>\n",
    "</section>"
   ]
  },
  {
   "cell_type": "markdown",
   "metadata": {},
   "source": [
    "- learn how to format text in markdown cells\n",
    "- learn how to include images and video in markdown cells\n",
    "- learn how to format equations in markdown cells\n",
    "\n",
    "---"
   ]
  },
  {
   "cell_type": "markdown",
   "metadata": {},
   "source": [
    "#What is markdown?\n",
    "----\n",
    "\n",
    "Markdown is a *markup language* that can be used to format text. The full [specification](http://daringfireball.net/projects/markdown/syntax) lists all the possible ways that text can be styled. Here we'll look at a few useful examples. The best way to do that is to get our hands dirty!"
   ]
  },
  {
   "cell_type": "markdown",
   "metadata": {},
   "source": [
    "<section class=\"challenge panel panel-success\"> \n",
    "<div class=\"panel-heading\">\n",
    "<h2><span class=\"fa fa-pencil\"></span>Exercise: getting to know markdown</h2>\n",
    "</div>\n",
    "</section>"
   ]
  },
  {
   "cell_type": "markdown",
   "metadata": {},
   "source": [
    "Download this [notebook](http://nbviewer.ipython.org/github/ipython/ipython/blob/3.x/examples/Notebook/Working%20With%20Markdown%20Cells.ipynb), and open it. When you edit each cell, you get to see the markdown syntax that produced the output you see. Explore the cells as far down as \"Latex Equations\" - note the markdown code in the cell, and the output it produces.\n",
    "\n",
    "Create a new markdown cell at the top of the notebook that contains a title, a short paragraph, a bulleted list and a link to a webpage.\n",
    "\n",
    "---"
   ]
  },
  {
   "cell_type": "markdown",
   "metadata": {},
   "source": [
    "#Embedding images\n",
    "---"
   ]
  },
  {
   "cell_type": "markdown",
   "metadata": {
    "collapsed": true
   },
   "source": [
    "If you have local files (images, video etc) in your notebook directory, you can display those files in the notebook using markdown. For example, suppose you have the Python logo in a folder called \"images\":\n",
    "\n",
    "    <img src=\"images/python-logo.svg\" />\n",
    "    \n",
    "will display the file, like so\n",
    "\n",
    "<img src=\"images/python-logo.svg\" />\n",
    "\n",
    "Too big? We can set the width and/or height\n",
    "\n",
    "    <img src=\"images/python-logo.svg\" width=250/>\n",
    "\n",
    "<img src=\"images/python-logo.svg\" width=250/>"
   ]
  },
  {
   "cell_type": "markdown",
   "metadata": {},
   "source": [
    "#Writing Equations\n",
    "---\n",
    "\n",
    "One of the most useful properties of the notebook is the ability to write nicely formatted equations, using Latex notation. To do this, simply wrap the text you want to be rendered as an equation in \\$ \\$ symbols. For example, \\$y = 3x + c\\$ renders as $y = 3x + c$. If you want to display the equation on a new line, use \\$\\$  \\$\\$ instead.\n",
    "\n",
    "Latex equation format is very powerful, and renders beautiful equations. The syntax can take some getting used to, however. There is a really short reference guide [here](http://meta.math.stackexchange.com/questions/5020/mathjax-basic-tutorial-and-quick-reference), which is handy for learning the ropes. "
   ]
  },
  {
   "cell_type": "markdown",
   "metadata": {},
   "source": [
    "<section class=\"challenge panel panel-success\"> \n",
    "<div class=\"panel-heading\">\n",
    "<h2><span class=\"fa fa-pencil\"></span>Exercise: equations in markdown</h2>\n",
    "</div>\n",
    "</section>"
   ]
  },
  {
   "cell_type": "markdown",
   "metadata": {},
   "source": [
    "Starting from the identity\n",
    "$$e^{ix} = \\cos x + i \\sin x,$$\n",
    "derive Euler's identity\n",
    "$$e^{i\\pi} + 1= 0.$$\n",
    "\n",
    "Write your derivation in a markdown cell. Make sure to include the mathematical steps and some text explaining each step.\n",
    "\n",
    "---"
   ]
  },
  {
   "cell_type": "markdown",
   "metadata": {},
   "source": [
    "<section class=\"objectives panel panel-warning\">\n",
    "<div class=\"panel-heading\">\n",
    "<h2><span class=\"fa fa-certificate\"></span>Conclusions</h2>\n",
    "</div>\n",
    "</section>"
   ]
  },
  {
   "cell_type": "markdown",
   "metadata": {},
   "source": [
    "We've learned how to format text, images and equations in the Jupyter notebook. \n",
    "\n",
    "We've now been introduced to Python briefly, and we have seen how to install Python and run Python several different ways, including the IPython interpreter, .py files and the Jupyter notebook.\n",
    "\n",
    "In the next session we'll introduce ourselves to the Python language itself, and start learning to write some code."
   ]
  }
 ],
 "metadata": {
  "kernelspec": {
   "display_name": "IPython (Python 3)",
   "language": "python",
   "name": "python3"
  },
  "language_info": {
   "codemirror_mode": {
    "name": "ipython",
    "version": 3
   },
   "file_extension": ".py",
   "mimetype": "text/x-python",
   "name": "python",
   "nbconvert_exporter": "python",
   "pygments_lexer": "ipython3",
   "version": "3.4.3"
  }
 },
 "nbformat": 4,
 "nbformat_minor": 0
}
