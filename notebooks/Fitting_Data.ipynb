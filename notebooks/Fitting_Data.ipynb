{
 "cells": [
  {
   "cell_type": "markdown",
   "metadata": {},
   "source": [
    "# Fitting a model to data"
   ]
  },
  {
   "cell_type": "markdown",
   "metadata": {},
   "source": [
    "So we want to fit a straight line to data using python, and plot the results. This is very simple. First we need to import the relevant modules"
   ]
  },
  {
   "cell_type": "code",
   "execution_count": 1,
   "metadata": {
    "collapsed": false
   },
   "outputs": [],
   "source": [
    "%matplotlib inline  \n",
    "import numpy as np\n",
    "import matplotlib.pyplot as plt\n",
    "\n",
    "# the following two lines use the python module 'seaborn'\n",
    "# to give a pretty look to the default plot style\n",
    "# you can ignore these lines if you don't have seaborn\n",
    "# installed, or you're happy with the default look!\n",
    "import seaborn as sns\n",
    "sns.set()"
   ]
  },
  {
   "cell_type": "markdown",
   "metadata": {},
   "source": [
    "Now we wish to load in the data to fit. This is stored in a comma separated file. The <code>loadtxt</code> function in numpy will do this simply and will load each column into arrays called x, y and e."
   ]
  },
  {
   "cell_type": "code",
   "execution_count": 2,
   "metadata": {
    "collapsed": false
   },
   "outputs": [],
   "source": [
    "x,y,e = np.loadtxt('data.csv',delimiter=\",\",unpack=True)"
   ]
  },
  {
   "cell_type": "markdown",
   "metadata": {},
   "source": [
    "Now we have our arrays of data we can use numpy's polynomial fitting routines to fit a straight line. First of all we'll use it in the most basic form to fit the x and y data, ignoring the uncertainties."
   ]
  },
  {
   "cell_type": "code",
   "execution_count": 24,
   "metadata": {
    "collapsed": false
   },
   "outputs": [
    {
     "name": "stdout",
     "output_type": "stream",
     "text": [
      "[ 2.62694394  2.24127304]\n"
     ]
    }
   ],
   "source": [
    "degree = 1 # order of the polynomial to fit.\n",
    "poly_params = np.polyfit(x,y,degree)\n",
    "print( poly_params )"
   ]
  },
  {
   "cell_type": "markdown",
   "metadata": {},
   "source": [
    "Note two things: that the polyfit routine returns a list of the polynomial parameters, and that numpy refers to a straight line as a polynomial of order 1.\n",
    "\n",
    "Now we have our fit, let's plot it on top of the data. First, we create a polynomial function from our best-fit parameters"
   ]
  },
  {
   "cell_type": "code",
   "execution_count": 20,
   "metadata": {
    "collapsed": false
   },
   "outputs": [],
   "source": [
    "poly = np.poly1d(poly_params)"
   ]
  },
  {
   "cell_type": "markdown",
   "metadata": {},
   "source": [
    "The line above creates a function, called *poly*. We can calculate the value of this function at our data points, *x*, to create a new array of our best fit values"
   ]
  },
  {
   "cell_type": "code",
   "execution_count": 21,
   "metadata": {
    "collapsed": false
   },
   "outputs": [],
   "source": [
    "yfit = poly(x)"
   ]
  },
  {
   "cell_type": "markdown",
   "metadata": {},
   "source": [
    "Now we'll plot this as a straight line on top of our data"
   ]
  },
  {
   "cell_type": "code",
   "execution_count": 22,
   "metadata": {
    "collapsed": false
   },
   "outputs": [
    {
     "data": {
      "image/png": "[encoded data removed]",
      "text/plain": [
       "<matplotlib.figure.Figure at 0x109a4a240>"
      ]
     },
     "metadata": {},
     "output_type": "display_data"
    }
   ],
   "source": [
    "plt.errorbar(x,y,yerr=e,fmt='.')\n",
    "plt.plot(x,yfit)\n",
    "plt.xlabel('x')\n",
    "plt.ylabel('y')\n",
    "plt.show()"
   ]
  },
  {
   "cell_type": "markdown",
   "metadata": {},
   "source": [
    "What if we don't want to ignore the errors? We can use them as <b>weights</b> in the fit. We want to weight each point by the inverse of the variance."
   ]
  },
  {
   "cell_type": "code",
   "execution_count": 23,
   "metadata": {
    "collapsed": false
   },
   "outputs": [
    {
     "name": "stdout",
     "output_type": "stream",
     "text": [
      "[ 2.58730165  2.3749575 ]\n"
     ]
    }
   ],
   "source": [
    "weights = 1./e**2\n",
    "poly_params = np.polyfit(x,y,degree,w=weights)\n",
    "print(poly_params)"
   ]
  },
  {
   "cell_type": "markdown",
   "metadata": {},
   "source": [
    "What if we want to know the uncertainties on our best fit? This will be true most of the time! We can ask the polyfit routine to return the <em>covariance matrix</em> for our parameters. The diagonal elements of this matrix are our uncertainties, and can easily be extracted using numpy's <code>diag</code> function"
   ]
  },
  {
   "cell_type": "code",
   "execution_count": 25,
   "metadata": {
    "collapsed": false
   },
   "outputs": [
    {
     "name": "stdout",
     "output_type": "stream",
     "text": [
      "[[ 0.00362142 -0.01710338]\n",
      " [-0.01710338  0.11177377]]\n"
     ]
    }
   ],
   "source": [
    "poly_params, covar_mat = np.polyfit(x,y,degree,w=weights,cov=True)\n",
    "print(covar_mat)"
   ]
  },
  {
   "cell_type": "code",
   "execution_count": 26,
   "metadata": {
    "collapsed": false
   },
   "outputs": [
    {
     "name": "stdout",
     "output_type": "stream",
     "text": [
      "[ 0.00362142  0.11177377]\n"
     ]
    }
   ],
   "source": [
    "param_errs = np.diag(covar_mat)\n",
    "print(param_errs)"
   ]
  },
  {
   "cell_type": "markdown",
   "metadata": {},
   "source": [
    "## More complex models"
   ]
  },
  {
   "cell_type": "markdown",
   "metadata": {},
   "source": [
    "If we want to fit a model which is more complex than a straight line, we can use scipy's **optimize** library. This library has many routines for finding the parameters of a model which best fit your data. Before using it, we need to think carefully about what this means.\n",
    "\n",
    "Suppose we have some model $y = f(x)$, where $f$ depends upon a set of parameters, $\\phi$. As an example, $y = mx + c$ is just such a model, where the parameters are $m$ and $c$. Fitting a model means finding the parameters where the model best fits your data.\n",
    "\n",
    "It is apparent that we need a *figure of merit* - some number we can calculate that quantifies the quality of the fit. Two common figures of merit are the **sum of the squares (SS)** and $\\chi^2$.\n",
    "\n",
    "$$SS = \\sum_i^N (y_i-y(x_i))^2$$\n",
    "\n",
    "$$\\chi^2 = \\sum_i^N \\left(\\frac{y_i - y(x_i)}{e_i}\\right)^2$$\n",
    "\n",
    "With these figures of merit defined, we can see a good fit is one that **minimises** either $\\chi^2$ or the sum of the squares.\n",
    "\n",
    "Let's start by writing a python function that takes an x position, and our parameters as arguments, and returns the value our model predicts. "
   ]
  },
  {
   "cell_type": "code",
   "execution_count": 27,
   "metadata": {
    "collapsed": false
   },
   "outputs": [],
   "source": [
    "def funcToFit(x,m,c):\n",
    "    return m*x + c"
   ]
  },
  {
   "cell_type": "markdown",
   "metadata": {},
   "source": [
    "Now we can use the [curve fit](http://docs.scipy.org/doc/scipy/reference/generated/scipy.optimize.curve_fit.html#scipy.optimize.curve_fit) function in scipy's [optimize](http://docs.scipy.org/doc/scipy/reference/optimize.html) package, which uses an algorithm called the Levenberg-Marquardt algorithm to find the parameters which best fit our data.\n",
    "\n",
    "Note the use of string formatting in the example below. For a reminder about string formatting - see [here](http://openbookproject.net/thinkcs/python/english3e/strings.html#the-string-format-method)."
   ]
  },
  {
   "cell_type": "code",
   "execution_count": 29,
   "metadata": {
    "collapsed": false
   },
   "outputs": [
    {
     "name": "stdout",
     "output_type": "stream",
     "text": [
      "[ 2.6085712   2.31664545]\n",
      "[ 0.00325808  0.10553813]\n",
      "Gradient  = 2.609 +/- 0.003\n",
      "Intercept = 2.3 +/- 0.1\n"
     ]
    }
   ],
   "source": [
    "from scipy.optimize import curve_fit\n",
    "\n",
    "# we need an initial guess for our starting parameters\n",
    "# this is a list with one entry for each parameter\n",
    "p0 = [2,2]\n",
    "\n",
    "# running curve_fit returns a list of the best fit parameters,\n",
    "# and the covariance matrix\n",
    "popt,pcov = curve_fit(funcToFit,x,y,p0,sigma=e)\n",
    "\n",
    "# let's print out our fits\n",
    "# i use numpy's diag function to pick out the diagonal\n",
    "# elements of the covariance matrix\n",
    "print( popt )\n",
    "print( np.diag(pcov) )\n",
    "\n",
    "# also, let's use python's string formatting to print out in a \n",
    "# nice format. Note how I ensure the correct number of decimal places\n",
    "m,c = popt\n",
    "em,ec = np.diag(pcov)\n",
    "print( 'Gradient  = {0:.3f} +/- {1:.3f}'.format(m,em) )\n",
    "print( 'Intercept = {0:.1f} +/- {1:.1f}'.format(c,ec) )"
   ]
  },
  {
   "cell_type": "markdown",
   "metadata": {},
   "source": [
    "You can see that the results obtained agree well with fitting a straight line using numpy's polyfit package - as they should! However, this latter method can be used to fit much more complicated models than a straight line.\n",
    "\n",
    "This is what we will do in the main lab session - use Python's data fitting power to fit data obtained on a transiting exoplanet."
   ]
  },
  {
   "cell_type": "markdown",
   "metadata": {},
   "source": [
    "-------------------------------\n",
    "######The cell below sets the visual style of the notes. Please ignore it!"
   ]
  },
  {
   "cell_type": "code",
   "execution_count": 1,
   "metadata": {
    "collapsed": false
   },
   "outputs": [
    {
     "data": {
      "text/html": [
       "<link href='http://fonts.googleapis.com/css?family=Crimson+Text' rel='stylesheet' type='text/css'>\n",
       "<link href='http://fonts.googleapis.com/css?family=Kameron' rel='stylesheet' type='text/css'>\n",
       "<link href='http://fonts.googleapis.com/css?family=Lato:200,300,400' rel='stylesheet' type='text/css'>\n",
       "<link href='http://fonts.googleapis.com/css?family=Source+Code+Pro' rel='stylesheet' type='text/css'>\n",
       "<style>\n",
       "\n",
       "@font-face {\n",
       "    font-family: \"Computer Modern\";\n",
       "    src: url('http://mirrors.ctan.org/fonts/cm-unicode/fonts/otf/cmunss.otf');\n",
       "}\n",
       "\n",
       "#notebook_panel { /* main background */\n",
       "    background: rgb(245,245,245);\n",
       "}\n",
       "\n",
       "\n",
       "div #notebook { /* centre the content */\n",
       "    background: #fff; /* white background for content */\n",
       "    margin: auto;\n",
       "    padding-left: 0em;\n",
       "}\n",
       "\n",
       "\n",
       "#notebook li { /* More space between bullet points */\n",
       "    margin-top:0.8em;\n",
       "}\n",
       "\n",
       "/* draw border around running cells */\n",
       "div.cell.border-box-sizing.code_cell.running { \n",
       "    border: 1px solid #111;\n",
       "}\n",
       "\n",
       "/* Put a solid color box around each cell and its output, visually linking them*/\n",
       "div.cell.code_cell {\n",
       "    background-color: rgb(256,256,256); \n",
       "    border-radius: 0px; \n",
       "    width: 800px;\n",
       "    padding: 0.5em;\n",
       "    margin-left:1em;\n",
       "    margin-top: 1em;\n",
       "}\n",
       "\n",
       "div.input_area {\n",
       "    border-color: rgba(0,0,0,0.10);\n",
       "    background: rbga(0,0,0,0.5);\n",
       "}\n",
       "\n",
       "\n",
       "div.text_cell {\n",
       "    max-width: 105ex; /* instead of 100%, */\n",
       "}\n",
       "\n",
       "\n",
       "div.text_cell_render {\n",
       "    font-family: \"Crimson Text\";\n",
       "    font-size: 12pt;\n",
       "    line-height: 145%; /* added for some line spacing of text. */\n",
       "}\n",
       "\n",
       "div.text_cell_render h1,\n",
       "div.text_cell_render h2,\n",
       "div.text_cell_render h3,\n",
       "div.text_cell_render h4,\n",
       "div.text_cell_render h5,\n",
       "div.text_cell_render h6 {\n",
       "    font-family: 'Kameron';\n",
       "    font-weight: 300;\n",
       "}\n",
       "\n",
       "div.text_cell_render h1 {\n",
       "    font-size: 24pt;\n",
       "}\n",
       "\n",
       "div.text_cell_render h2 {\n",
       "    font-size: 18pt;\n",
       "}\n",
       "\n",
       "div.text_cell_render h3 {\n",
       "    font-size: 14pt;\n",
       "}\n",
       "\n",
       ".rendered_html pre,\n",
       ".rendered_html code {\n",
       "    font-size: medium;\n",
       "}\n",
       "\n",
       ".rendered_html ol {\n",
       "    list-style:decimal;\n",
       "    margin: 1em 2em;\n",
       "}\n",
       "\n",
       ".CodeMirror pre{\n",
       "        font-family: 'Source Code Pro', Consolas, monocco, monospace;\n",
       "}\n",
       "\n",
       "</style>\n",
       "<script>\n",
       "    MathJax.Hub.Config({\n",
       "                        TeX: {\n",
       "                           extensions: [\"AMSmath.js\"],\n",
       "                           equationNumbers: { autoNumber: \"AMS\", useLabelIds: true}\n",
       "                           },\n",
       "                tex2jax: {\n",
       "                    inlineMath: [ ['$','$'], [\"\\\\(\",\"\\\\)\"] ],\n",
       "                    displayMath: [ ['$$','$$'], [\"\\\\[\",\"\\\\]\"] ]\n",
       "                },\n",
       "                displayAlign: 'center', // Change this to 'center' to center equations.\n",
       "                \"HTML-CSS\": {\n",
       "                    styles: {'.MathJax_Display': {\"margin\": 4}}\n",
       "                }\n",
       "        });\n",
       "</script>"
      ],
      "text/plain": [
       "<IPython.core.display.HTML object>"
      ]
     },
     "execution_count": 1,
     "metadata": {},
     "output_type": "execute_result"
    }
   ],
   "source": [
    "from IPython.core.display import HTML\n",
    "css_file = '../styles.css'\n",
    "HTML(open(css_file, \"r\").read())"
   ]
  },
  {
   "cell_type": "code",
   "execution_count": null,
   "metadata": {
    "collapsed": false
   },
   "outputs": [],
   "source": []
  }
 ],
 "metadata": {
  "kernelspec": {
   "display_name": "IPython (Python 3)",
   "language": "python",
   "name": "python3"
  },
  "language_info": {
   "codemirror_mode": {
    "name": "ipython",
    "version": 3
   },
   "file_extension": ".py",
   "mimetype": "text/x-python",
   "name": "python",
   "nbconvert_exporter": "python",
   "pygments_lexer": "ipython3",
   "version": "3.4.3"
  }
 },
 "nbformat": 4,
 "nbformat_minor": 0
}
