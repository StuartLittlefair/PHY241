{
 "cells": [
  {
   "cell_type": "markdown",
   "metadata": {},
   "source": [
    "######The cell above loads the visual style of the notebook when run.\n"
   ]
  },
  {
   "cell_type": "code",
   "execution_count": null,
   "metadata": {
    "collapsed": false
   },
   "outputs": [],
   "source": [
    "from IPython.core.display import HTML\n",
    "css_file = '../../styles/styles.css'\n",
    "HTML(open(css_file, \"r\").read())"
   ]
  },
  {
   "cell_type": "markdown",
   "metadata": {},
   "source": [
    "#Numpy Broadcasting"
   ]
  },
  {
   "cell_type": "markdown",
   "metadata": {},
   "source": [
    "In principle, the dimensions of two arrays must match for them to be added, subtracted etc. Numpy has [broadcasting](../../reference.html#broadcast) rules to deal with a view special cases where this is not true.\n",
    "\n",
    "We can broadcast a scalar to a 1D array:"
   ]
  },
  {
   "cell_type": "code",
   "execution_count": null,
   "metadata": {
    "collapsed": false
   },
   "outputs": [],
   "source": [
    "import numpy as np\n",
    "x = np.linspace(0,10,11)\n",
    "x+3"
   ]
  },
  {
   "cell_type": "markdown",
   "metadata": {},
   "source": [
    "We can also broadcast a 1D array to a 2D array, in this case adding a vector to all rows of a matrix:"
   ]
  },
  {
   "cell_type": "code",
   "execution_count": null,
   "metadata": {
    "collapsed": false
   },
   "outputs": [],
   "source": [
    "A = np.ones((3,3))\n",
    "B = np.arange(3)\n",
    "\n",
    "print(A)\n",
    "print (B)\n",
    "np.ones((3, 3)) + np.arange(3)"
   ]
  },
  {
   "cell_type": "markdown",
   "metadata": {},
   "source": [
    "##The Rules\n",
    "\n",
    "Broadcasting rules can do the following:\n",
    "\n",
    "1. If the two arrays differ in their number of dimensions, the shape of the array with fewer dimensions is padded with ones on its leading (left) side.\n",
    "1. If the shape of the two arrays does not match in any dimension, the array with shape equal to 1 in that dimension is stretched to match the other shape.\n",
    "1. If in any dimension the sizes disagree and neither is equal to 1, an error is raised.\n",
    "\n",
    "The diagram below shows these rules in visual form\n",
    "\n",
    "<img src=\"../../images/fig_broadcast_visual_1.png\"/>\n",
    "<div style=\"text-align: center;\"><a href=\"http://www.astroml.org/book_figures/appendix/fig_broadcast_visual.html\">Source of figure</a></div>"
   ]
  },
  {
   "cell_type": "markdown",
   "metadata": {},
   "source": [
    "<section class=\"challenge panel panel-success\"> \n",
    "<div class=\"panel-heading\">\n",
    "<h2><span class=\"fa fa-pencil\"></span>Check your understanding</h2>\n",
    "</div>\n",
    "</section>\n",
    "\n",
    "> Will the following examples work? Run them and see if you were correct\n",
    "\n",
    "> ```python\n",
    "> arr1 = np.ones((2, 3))\n",
    "> arr2 = np.ones((2, 1))\n",
    "> arr1 + arr2\n",
    "> ```\n",
    "\n",
    "> ```python\n",
    "> arr1 = np.ones((2,3))\n",
    "> arr2 = np.ones(2)\n",
    "> arr1 + arr2\n",
    "> ```"
   ]
  },
  {
   "cell_type": "code",
   "execution_count": null,
   "metadata": {
    "collapsed": true
   },
   "outputs": [],
   "source": [
    "# run the examples here. Do they work?"
   ]
  },
  {
   "cell_type": "markdown",
   "metadata": {},
   "source": [
    "> Now look at the image below. Does this help you understand the examples above?\n",
    "> <img src=\"../../images/fig_broadcast_visual_2.png\"/>"
   ]
  },
  {
   "cell_type": "markdown",
   "metadata": {},
   "source": [
    "<section class=\"challenge panel panel-success\"> \n",
    "<div class=\"panel-heading\">\n",
    "<h2><span class=\"fa fa-pencil\"></span>Broadcasting challenge</h2>\n",
    "</div>\n",
    "</section>\n",
    "\n",
    "> Use `np.arange` and `reshape` to create the array\n",
    ">\n",
    "> ```python\n",
    "> A = [[1 2 3 4]\n",
    ">      [5 6 7 8]]\n",
    "> ```\n",
    ">\n",
    "> and `np.arange` to create the array\n",
    ">\n",
    "> ```python\n",
    "> B = [3 4]\n",
    "> ```\n",
    ">\n",
    "> Use broadcasting to produce\n",
    "> \n",
    "> ```python\n",
    "> A + B = [[4  5  6  7]\n",
    ">          [9 10 11 12]]\n",
    "> ```\n",
    "\n",
    "> Hint: What shape does `B` need to be?"
   ]
  },
  {
   "cell_type": "code",
   "execution_count": null,
   "metadata": {
    "collapsed": true
   },
   "outputs": [],
   "source": [
    "# Write your code here"
   ]
  },
  {
   "cell_type": "markdown",
   "metadata": {},
   "source": [
    "Another way to change the shape of B is to use the `newaxis` keyword: "
   ]
  },
  {
   "cell_type": "code",
   "execution_count": null,
   "metadata": {
    "collapsed": false
   },
   "outputs": [],
   "source": [
    "B = np.arange(1, 3)\n",
    "print (B.shape)\n",
    "print (B.reshape((2,1)).shape)\n",
    "print (B[:,np.newaxis].shape)"
   ]
  }
 ],
 "metadata": {
  "kernelspec": {
   "display_name": "IPython (Python 3)",
   "language": "python",
   "name": "python3"
  },
  "language_info": {
   "codemirror_mode": {
    "name": "ipython",
    "version": 3
   },
   "file_extension": ".py",
   "mimetype": "text/x-python",
   "name": "python",
   "nbconvert_exporter": "python",
   "pygments_lexer": "ipython3",
   "version": "3.4.3"
  }
 },
 "nbformat": 4,
 "nbformat_minor": 0
}