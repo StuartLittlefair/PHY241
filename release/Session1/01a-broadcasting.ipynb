{
 "cells": [
  {
   "cell_type": "markdown",
   "metadata": {},
   "source": [
    "###### The cell below loads the visual style of the notebook when run.\n"
   ]
  },
  {
   "cell_type": "code",
   "execution_count": 1,
   "metadata": {
    "collapsed": false
   },
   "outputs": [
    {
     "data": {
      "text/html": [
       "<link href='http://fonts.googleapis.com/css?family=Crimson+Text' rel='stylesheet' type='text/css'>\n",
       "<link href='http://fonts.googleapis.com/css?family=Kameron' rel='stylesheet' type='text/css'>\n",
       "<link href='http://fonts.googleapis.com/css?family=Lato:200,300,400' rel='stylesheet' type='text/css'>\n",
       "<link href='http://fonts.googleapis.com/css?family=Source+Code+Pro' rel='stylesheet' type='text/css'>\n",
       "<style>\n",
       "\n",
       "@font-face {\n",
       "    font-family: \"Computer Modern\";\n",
       "    src: url('http://mirrors.ctan.org/fonts/cm-unicode/fonts/otf/cmunss.otf');\n",
       "}\n",
       "\n",
       "#notebook_panel { /* main background */\n",
       "    background: rgb(245,245,245);\n",
       "}\n",
       "\n",
       "\n",
       "div #notebook { /* centre the content */\n",
       "    background: #fff; /* white background for content */\n",
       "    margin: auto;\n",
       "    padding-left: 0em;\n",
       "}\n",
       "\n",
       "\n",
       "#notebook li { /* More space between bullet points */\n",
       "    margin-top:0.8em;\n",
       "}\n",
       "\n",
       "/* draw border around running cells */\n",
       "div.cell.border-box-sizing.code_cell.running { \n",
       "    border: 1px solid #111;\n",
       "}\n",
       "\n",
       "/* Put a solid color box around each cell and its output, visually linking them*/\n",
       "div.cell.code_cell {\n",
       "    background-color: rgb(256,256,256); \n",
       "    border-radius: 0px; \n",
       "    /* width: 105ex; */\n",
       "    padding: 0.5em;\n",
       "    margin-left:1em;\n",
       "    margin-top: 1em;\n",
       "}\n",
       "\n",
       "div.input_area {\n",
       "    border-color: rgba(0,0,0,0.10);\n",
       "    background: rbga(0,0,0,0.5);\n",
       "}\n",
       "\n",
       "/*\n",
       "div.text_cell {\n",
       "    max-width: 105ex; /* instead of 100%, */\n",
       "}\n",
       "*/\n",
       "\n",
       "div.text_cell_render {\n",
       "    font-family: \"Crimson Text\";\n",
       "    font-size: 12pt;\n",
       "    line-height: 145%; /* added for some line spacing of text. */\n",
       "}\n",
       "\n",
       "div.text_cell_render h1,\n",
       "div.text_cell_render h2,\n",
       "div.text_cell_render h3,\n",
       "div.text_cell_render h4,\n",
       "div.text_cell_render h5,\n",
       "div.text_cell_render h6 {\n",
       "    font-family: 'Kameron';\n",
       "    font-weight: 300;\n",
       "}\n",
       "\n",
       "div.text_cell_render h1 {\n",
       "    font-size: 24pt;\n",
       "}\n",
       "\n",
       "div.text_cell_render h2 {\n",
       "    font-size: 18pt;\n",
       "}\n",
       "\n",
       "div.text_cell_render h3 {\n",
       "    font-size: 14pt;\n",
       "}\n",
       "\n",
       ".rendered_html pre,\n",
       ".rendered_html code {\n",
       "    font-size: medium;\n",
       "    background-color: rgba(246,246,246,1);\n",
       "    padding: 2px;\n",
       "}\n",
       "\n",
       ".rendered_html ol {\n",
       "    list-style:decimal;\n",
       "    margin: 1em 2em;\n",
       "}\n",
       "\n",
       ".CodeMirror pre{\n",
       "        font-family: 'Source Code Pro', Consolas, monocco, monospace;\n",
       "}\n",
       "\n",
       "/* Make space between the fa icon and the rest of the header */\n",
       ".panel-heading h1 span,\n",
       ".panel-heading h2 span,\n",
       ".panel-heading h3 span,\n",
       ".panel-heading h4 span,\n",
       ".panel-heading h5 span,\n",
       ".panel-heading h6 span {\n",
       "    padding-right: 10px;\n",
       "}\n",
       "\n",
       ".fa {\n",
       "    padding: 5px;\n",
       "    }\n",
       "   \n",
       "kbd {\n",
       "    padding:0.1em 0.6em;\n",
       "    border:1px solid #ccc;\n",
       "    font-size:11px;\n",
       "    font-family:Arial,Helvetica,sans-serif;\n",
       "    background-color:#f7f7f7;\n",
       "    color:#333;\n",
       "    -moz-box-shadow:0 1px 0px rgba(0, 0, 0, 0.2),0 0 0 2px #ffffff inset;\n",
       "    -webkit-box-shadow:0 1px 0px rgba(0, 0, 0, 0.2),0 0 0 2px #ffffff inset;\n",
       "    box-shadow:0 1px 0px rgba(0, 0, 0, 0.2),0 0 0 2px #ffffff inset;\n",
       "    -moz-border-radius:3px;\n",
       "    -webkit-border-radius:3px;\n",
       "    border-radius:3px;\n",
       "    display:inline-block;\n",
       "    margin:0 0.1em;\n",
       "    text-shadow:0 1px 0 #fff;\n",
       "    line-height:1.4;\n",
       "    white-space:nowrap;\n",
       "}\n",
       "\n",
       "</style>\n",
       "<script>\n",
       "    MathJax.Hub.Config({\n",
       "                        TeX: {\n",
       "                           extensions: [\"AMSmath.js\"],\n",
       "                           equationNumbers: { autoNumber: \"AMS\", useLabelIds: true}\n",
       "                           },\n",
       "                tex2jax: {\n",
       "                    inlineMath: [ ['$','$'], [\"\\\\(\",\"\\\\)\"] ],\n",
       "                    displayMath: [ ['$$','$$'], [\"\\\\[\",\"\\\\]\"] ]\n",
       "                },\n",
       "                displayAlign: 'center', // Change this to 'center' to center equations.\n",
       "                \"HTML-CSS\": {\n",
       "                    styles: {'.MathJax_Display': {\"margin\": 4}}\n",
       "                }\n",
       "        });\n",
       "</script>"
      ],
      "text/plain": [
       "<IPython.core.display.HTML object>"
      ]
     },
     "execution_count": 1,
     "metadata": {},
     "output_type": "execute_result"
    }
   ],
   "source": [
    "from IPython.core.display import HTML\n",
    "css_file = '../../styles/styles.css'\n",
    "HTML(open(css_file, \"r\").read())"
   ]
  },
  {
   "cell_type": "markdown",
   "metadata": {},
   "source": [
    "# Numpy Broadcasting"
   ]
  },
  {
   "cell_type": "markdown",
   "metadata": {},
   "source": [
    "In principle, the dimensions of two arrays must match for them to be added, subtracted etc. Numpy has [broadcasting](../../reference.html#broadcast) rules to deal with a view special cases where this is not true.\n",
    "\n",
    "We can broadcast a scalar to a 1D array:"
   ]
  },
  {
   "cell_type": "code",
   "execution_count": null,
   "metadata": {
    "collapsed": false
   },
   "outputs": [],
   "source": [
    "import numpy as np\n",
    "x = np.linspace(0,10,11)\n",
    "x+3"
   ]
  },
  {
   "cell_type": "markdown",
   "metadata": {},
   "source": [
    "We can also broadcast a 1D array to a 2D array, in this case adding a vector to all rows of a matrix:"
   ]
  },
  {
   "cell_type": "code",
   "execution_count": null,
   "metadata": {
    "collapsed": false
   },
   "outputs": [],
   "source": [
    "A = np.ones((3,3))\n",
    "B = np.arange(3)\n",
    "\n",
    "print(A)\n",
    "print (B)\n",
    "np.ones((3, 3)) + np.arange(3)"
   ]
  },
  {
   "cell_type": "markdown",
   "metadata": {},
   "source": [
    "## The Rules\n",
    "\n",
    "Broadcasting rules can do the following:\n",
    "\n",
    "1. If the two arrays differ in their number of dimensions, the shape of the array with fewer dimensions is padded with ones on its leading (left) side.\n",
    "1. If the shape of the two arrays does not match in any dimension, the array with shape equal to 1 in that dimension is stretched to match the other shape.\n",
    "1. If in any dimension the sizes disagree and neither is equal to 1, an error is raised.\n",
    "\n",
    "The diagram below shows these rules in visual form\n",
    "\n",
    "<img src=\"../../images/fig_broadcast_visual_1.png\"/>\n",
    "<div style=\"text-align: center;\"><a href=\"http://www.astroml.org/book_figures/appendix/fig_broadcast_visual.html\">Source of figure</a></div>"
   ]
  },
  {
   "cell_type": "markdown",
   "metadata": {},
   "source": [
    "<section class=\"challenge panel panel-success\"> \n",
    "<div class=\"panel-heading\">\n",
    "<h2><span class=\"fa fa-pencil\"></span>Check your understanding</h2>\n",
    "</div>\n",
    "</section>\n",
    "\n",
    "> Will the following examples work? Run them and see if you were correct\n",
    "\n",
    "> ```python\n",
    "> arr1 = np.ones((2, 3))\n",
    "> arr2 = np.ones((2, 1))\n",
    "> arr1 + arr2\n",
    "> ```\n",
    "\n",
    "> ```python\n",
    "> arr1 = np.ones((2,3))\n",
    "> arr2 = np.ones(2)\n",
    "> arr1 + arr2\n",
    "> ```"
   ]
  },
  {
   "cell_type": "code",
   "execution_count": null,
   "metadata": {
    "collapsed": true
   },
   "outputs": [],
   "source": [
    "# run the examples here. Do they work?"
   ]
  },
  {
   "cell_type": "markdown",
   "metadata": {},
   "source": [
    "> Now look at the image below. Does this help you understand the examples above?\n",
    "> <img src=\"../../images/fig_broadcast_visual_2.png\"/>"
   ]
  },
  {
   "cell_type": "markdown",
   "metadata": {},
   "source": [
    "<section class=\"challenge panel panel-success\"> \n",
    "<div class=\"panel-heading\">\n",
    "<h2><span class=\"fa fa-pencil\"></span>Broadcasting challenge</h2>\n",
    "</div>\n",
    "</section>\n",
    "\n",
    "> Use `np.arange` and `reshape` to create the array\n",
    ">\n",
    "> ```python\n",
    "> A = [[1 2 3 4]\n",
    ">      [5 6 7 8]]\n",
    "> ```\n",
    ">\n",
    "> and `np.arange` to create the array\n",
    ">\n",
    "> ```python\n",
    "> B = [3 4]\n",
    "> ```\n",
    ">\n",
    "> Use broadcasting to produce\n",
    "> \n",
    "> ```python\n",
    "> A + B = [[4  5  6  7]\n",
    ">          [9 10 11 12]]\n",
    "> ```\n",
    "\n",
    "> Hint: What shape does `B` need to be?"
   ]
  },
  {
   "cell_type": "code",
   "execution_count": null,
   "metadata": {
    "collapsed": true
   },
   "outputs": [],
   "source": [
    "# Write your code here"
   ]
  },
  {
   "cell_type": "markdown",
   "metadata": {},
   "source": [
    "Another way to change the shape of B is to use the `newaxis` keyword: "
   ]
  },
  {
   "cell_type": "code",
   "execution_count": null,
   "metadata": {
    "collapsed": false
   },
   "outputs": [],
   "source": [
    "B = np.arange(1, 3)\n",
    "print (B.shape)\n",
    "print (B.reshape((2,1)).shape)\n",
    "print (B[:,np.newaxis].shape)"
   ]
  }
 ],
 "metadata": {
  "kernelspec": {
   "display_name": "IPython (Python 3)",
   "language": "python",
   "name": "python3"
  },
  "language_info": {
   "codemirror_mode": {
    "name": "ipython",
    "version": 3
   },
   "file_extension": ".py",
   "mimetype": "text/x-python",
   "name": "python",
   "nbconvert_exporter": "python",
   "pygments_lexer": "ipython3",
   "version": "3.4.3"
  }
 },
 "nbformat": 4,
 "nbformat_minor": 0
}
