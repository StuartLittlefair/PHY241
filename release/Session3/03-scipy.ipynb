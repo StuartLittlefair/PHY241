{
 "cells": [
  {
   "cell_type": "markdown",
   "metadata": {},
   "source": [
    "###### The cell below loads the visual style of the notebook when run."
   ]
  },
  {
   "cell_type": "code",
   "execution_count": null,
   "metadata": {
    "collapsed": false
   },
   "outputs": [],
   "source": [
    "from IPython.core.display import HTML\n",
    "css_file = '../../styles/styles.css'\n",
    "HTML(open(css_file, \"r\").read())"
   ]
  },
  {
   "cell_type": "markdown",
   "metadata": {},
   "source": [
    "# SciPy - Scientific algorithms for Python"
   ]
  },
  {
   "cell_type": "markdown",
   "metadata": {},
   "source": [
    "<section class=\"objectives panel panel-warning\">\n",
    "<div class=\"panel-heading\">\n",
    "<h2><span class=\"fa fa-certificate\"></span>Learning Objectives</h2>\n",
    "</div>\n",
    "</section>\n",
    "\n",
    "> * Use SciPy for\n",
    "     - Integration\n",
    "     - Interpolation\n",
    "     - Fourier analysis and period finding\n",
    "     - Special Functions\n",
    "* Where to find help on scipy\n",
    "\n",
    "So far we've seen how to read and write data to text files, how to plot data and how to do some basic analysis with NumPy. SciPy provides a wide array of tools for the scientist. \n",
    "\n",
    "### Scipy Overview\n",
    "\n",
    "Some of the topics that SciPy covers are:\n",
    "\n",
    "* Special functions ([scipy.special](http://docs.scipy.org/doc/scipy/reference/special.html))\n",
    "* Integration ([scipy.integrate](http://docs.scipy.org/doc/scipy/reference/integrate.html))\n",
    "* Optimization ([scipy.optimize](http://docs.scipy.org/doc/scipy/reference/optimize.html))\n",
    "* Interpolation ([scipy.interpolate](http://docs.scipy.org/doc/scipy/reference/interpolate.html))\n",
    "* Fourier Transforms ([scipy.fftpack](http://docs.scipy.org/doc/scipy/reference/fftpack.html))\n",
    "* Signal Processing ([scipy.signal](http://docs.scipy.org/doc/scipy/reference/signal.html))\n",
    "* Linear Algebra ([scipy.linalg](http://docs.scipy.org/doc/scipy/reference/linalg.html))\n",
    "* Sparse Eigenvalue Problems ([scipy.sparse](http://docs.scipy.org/doc/scipy/reference/sparse.html))\n",
    "* Statistics ([scipy.stats](http://docs.scipy.org/doc/scipy/reference/stats.html))\n",
    "* Multi-dimensional image processing ([scipy.ndimage](http://docs.scipy.org/doc/scipy/reference/ndimage.html))\n",
    "\n",
    "As well as the links above, a good place to get started with SciPy topics is the [tutorial](http://docs.scipy.org/doc/scipy/reference/tutorial/index.html), which has sections on each topic. \n",
    "\n",
    "We will come back to many of these topics later in the course. Specifically there will be lessons that focus on fitting models to data and solving differential equations. In this practical, I want to briefly look at  **some** of the functionality within SciPy to tackle some common tasks we might encounter as astronomers. The idea is to get an idea of the kinds of things that SciPy can do, rather than exhaustively explore a single area.\n",
    "\n",
    "I **hope** that this lecture will not be two overwhelming - it's purpose is to impress on you that a small amount of Python code, powered by SciPy, can acheive a lot of complex tasks - try not to worry if there are one or two things you do not understand...\n",
    "\n",
    "---"
   ]
  },
  {
   "cell_type": "markdown",
   "metadata": {},
   "source": [
    "## Integration\n",
    "\n",
    "Suppose we want to evaluate \n",
    "\n",
    "$$\n",
    "\\int_a^b f(x)\\, dx.\n",
    "$$\n",
    "\n",
    "If $f(x)$ can be integrated analytically all is fine. What if there is no analytical solution? Or if we don't know the function $f(x)$ at all, but just have a series of measures of it's value? Numerical evaluation of an integral is called *numerical quadrature*, and scipy provides a series of functions for this - the ```quad```, ```dblquad``` and ```tplquad``` for single, double and triple integrals respectively. "
   ]
  },
  {
   "cell_type": "code",
   "execution_count": null,
   "metadata": {
    "collapsed": true
   },
   "outputs": [],
   "source": [
    "from scipy.integrate import quad, dblquad, tplquad"
   ]
  },
  {
   "cell_type": "markdown",
   "metadata": {},
   "source": [
    "Thes functions have a large number of optional arguments which alter the behaviour of the function (try ```quad?``` for example). \n",
    "\n",
    "Basic usage works like this:"
   ]
  },
  {
   "cell_type": "code",
   "execution_count": null,
   "metadata": {
    "collapsed": true
   },
   "outputs": [],
   "source": [
    "# define a simple function for the integrand - in this case y = x\n",
    "def f(x):\n",
    "    return x"
   ]
  },
  {
   "cell_type": "code",
   "execution_count": null,
   "metadata": {
    "collapsed": false
   },
   "outputs": [],
   "source": [
    "x_lower = 2 # lower limit of integral\n",
    "x_upper = 4 # upper limit\n",
    "\n",
    "value, abserr = quad(f, x_lower, x_upper) # integrate numerically!\n",
    "\n",
    "print (\"The integral value is {}, with absolute error {}\".format(value,abserr))"
   ]
  },
  {
   "cell_type": "markdown",
   "metadata": {},
   "source": [
    "Thus, numerical integration of simple functions is pretty easy.\n",
    "\n",
    "One optional argument is worth considering. The ```args``` keyword allows us to deal with integrand functions that take more than one argument. For example, the function below calculates $x$ raised to some, user-defined, power."
   ]
  },
  {
   "cell_type": "code",
   "execution_count": null,
   "metadata": {
    "collapsed": true
   },
   "outputs": [],
   "source": [
    "# integrand function with two arguments\n",
    "def f(x,power):\n",
    "    return x**power"
   ]
  },
  {
   "cell_type": "markdown",
   "metadata": {},
   "source": [
    "Let's say we want to use this to integrate $x^2$. We want the second argument to the function to be 2. We would integrate it using ```quad``` like so:"
   ]
  },
  {
   "cell_type": "code",
   "execution_count": null,
   "metadata": {
    "collapsed": false
   },
   "outputs": [],
   "source": [
    "x_lower = 3\n",
    "x_upper = 6\n",
    "\n",
    "#args is a list of the extra arguments to integrand function\n",
    "value, abserr = quad(f,x_lower,x_upper, args=(2,) )  \n",
    "\n",
    "print (\"The integral value is {}, with absolute error {}\".format(value,abserr))"
   ]
  },
  {
   "cell_type": "markdown",
   "metadata": {},
   "source": [
    "### Integrating under data\n",
    "\n",
    "What if we don't know the underlying functional form, but just have a series of samples of the data? As an example, below we have some measurements of the radiation dose rate a spacecraft is receiving at different times. Suppose want to work out the total dose?"
   ]
  },
  {
   "cell_type": "code",
   "execution_count": null,
   "metadata": {
    "collapsed": false
   },
   "outputs": [],
   "source": [
    "import numpy as np\n",
    "# refer to session 2 if you don't understand the next 3 lines!\n",
    "import matplotlib.pyplot as plt\n",
    "%matplotlib inline\n",
    "plt.style.use('bmh')\n",
    "\n",
    "# t = time of measurements, in hours\n",
    "# G = measured radiation at spacecraft, in Grays/hour\n",
    "data = np.loadtxt('../../data/radiation_dose.txt')\n",
    "t = data[:,0] # first column\n",
    "G = data[:,1] # second column\n",
    "\n",
    "fig,ax = plt.subplots()\n",
    "ax.plot(t, G, 'ro') # plot with red circles\n",
    "ax.plot(t, G, 'k-') # and a black line\n",
    "ax.grid(True)\n",
    "ax.set_xlabel('Time (hours)')\n",
    "ax.set_ylabel('Radiation dose rate (Grays/hour)')\n",
    "plt.show()\n"
   ]
  },
  {
   "cell_type": "markdown",
   "metadata": {},
   "source": [
    "The total radiation received is the area under this curve. In the past you've probably found this by hand, by using the [trapezium rule](https://en.wikipedia.org/wiki/Trapezoidal_rule). Actually, it would not be too hard to write a function to integrate this, but why bother, when SciPy has this coded up for you, along with the (usually) more accurate [Simpsons rule](https://en.wikipedia.org/wiki/Simpson%27s_rule)."
   ]
  },
  {
   "cell_type": "markdown",
   "metadata": {},
   "source": [
    "<section class=\"challenge panel panel-success\"> \n",
    "<div class=\"panel-heading\">\n",
    "<h2><span class=\"fa fa-pencil\"></span>Add it up</h2>\n",
    "</div>\n",
    "</section>\n",
    "\n",
    "> Make a crude estimate by-eye of the area under the curve. Now, look at the online [documentation](http://docs.scipy.org/doc/scipy/reference/generated/scipy.integrate.simps.html#scipy.integrate.simps) for SciPy's version of Simpson's rule. Use Simpson's rule to estimate the area under the curve, and thus the total radiation dose..."
   ]
  },
  {
   "cell_type": "code",
   "execution_count": null,
   "metadata": {
    "collapsed": false
   },
   "outputs": [],
   "source": [
    "from scipy.integrate import simps\n",
    "\n",
    "total_dose = 0.0\n",
    "# YOUR CODE HERE\n",
    "print ('Total dose = {:.1f} Grays'.format(total_dose))"
   ]
  },
  {
   "cell_type": "markdown",
   "metadata": {},
   "source": [
    "<section class=\"challenge panel panel-success\"> \n",
    "<div class=\"panel-heading\">\n",
    "<h2><span class=\"fa fa-pencil\"></span>To infinity and beyond</h2>\n",
    "</div>\n",
    "</section>\n",
    "\n",
    "> ```quad``` can accept infinite limits to the integral, by passing ```np.inf``` as the limit. \n",
    ">\n",
    "> Calculate the integral\n",
    ">\n",
    "$$ E_n(x) = \\int_1^\\infty \\frac{e^{-xt}}{t^n}\\, dt\n",
    "$$\n",
    "> \n",
    "> For $n=1$ and $x=0.5$\n",
    "\n",
    "> *Hint: I have provided the integrand function already - you'll need to use the ```args``` keyword to make sure $n$ and $x$ have the correct values*\n",
    "\n",
    "\n"
   ]
  },
  {
   "cell_type": "code",
   "execution_count": null,
   "metadata": {
    "collapsed": false
   },
   "outputs": [],
   "source": [
    " def integrand(t, n, x):\n",
    "    return np.exp(-x*t) / t**n\n",
    "# YOUR CODE HERE"
   ]
  },
  {
   "cell_type": "markdown",
   "metadata": {},
   "source": [
    "---\n",
    "\n",
    "## Interpolation\n",
    "\n",
    "Interpolation is very easy in scipy. The ```interp1d``` function takes arrays of x and y data and returns a **function** that can be called for an arbitrary value of x, and returns the interpolated y value. Consider our spacecraft above:"
   ]
  },
  {
   "cell_type": "code",
   "execution_count": null,
   "metadata": {
    "collapsed": false
   },
   "outputs": [],
   "source": [
    "from scipy.interpolate import interp1d\n",
    "\n",
    "# get a function that does linear interpolation\n",
    "# arguments are 'x' and 'y' for the curve we wish to \n",
    "# interpolate\n",
    "linear_interpolation = interp1d(t,G)\n",
    "\n",
    "# call it to find dose at t=120\n",
    "val = linear_interpolation(120.0)\n",
    "\n",
    "print(\"Dose on spacecraft at 120 hours = {} Grays/hr\".format(val))\n",
    "\n",
    "# the value to calculate at can be an array, or list of values\n",
    "# the function will return the interpolated value at each position\n",
    "#in the list\n",
    "print(linear_interpolation([120,130]))"
   ]
  },
  {
   "cell_type": "markdown",
   "metadata": {},
   "source": [
    "The ```interp1d``` function takes a ```kind``` argument that allows you to set the type of interpolation:"
   ]
  },
  {
   "cell_type": "code",
   "execution_count": null,
   "metadata": {
    "collapsed": false
   },
   "outputs": [],
   "source": [
    "# make a fine grid of 1000 values\n",
    "finely_spaced_t_values = np.linspace(t.min(), t.max(), 1000) \n",
    "\n",
    "# get a function that does linear interpolation\n",
    "linear_interpolation = interp1d(t,G)\n",
    "# call it\n",
    "G_lin_interp = linear_interpolation(finely_spaced_t_values)\n",
    "\n",
    "cubic_interpolation = interp1d(t,G,kind='cubic')\n",
    "G_cub_interp = cubic_interpolation(finely_spaced_t_values)\n",
    "\n",
    "# plot\n",
    "fig,ax = plt.subplots(figsize=(10,5))\n",
    "ax.plot(t, G, 'ro') # plot with red circles\n",
    "ax.plot(finely_spaced_t_values, G_lin_interp, 'k--') # dashed line\n",
    "ax.plot(finely_spaced_t_values, G_cub_interp, 'k:') # dotted line\n",
    "\n",
    "\n",
    "# format plot\n",
    "ax.grid(True)\n",
    "ax.axis('tight')\n",
    "ax.set_xlabel('Time (hours)')\n",
    "ax.set_ylabel('Radiation dose rate (Grays/hour)')\n",
    "plt.show()"
   ]
  },
  {
   "cell_type": "markdown",
   "metadata": {},
   "source": [
    "## Fourier transform and period finding\n",
    "\n",
    "Fourier transforms are one of the most widespread tools in physics and astronomy. SciPy provides access to the efficient and well tested fourier transform library [FFTPACK](http://www.netlib.org/fftpack/).\n",
    "\n",
    "To use the ```fftpack``` module, import it with"
   ]
  },
  {
   "cell_type": "code",
   "execution_count": null,
   "metadata": {
    "collapsed": true
   },
   "outputs": [],
   "source": [
    "from scipy import fftpack"
   ]
  },
  {
   "cell_type": "markdown",
   "metadata": {},
   "source": [
    "In astronomy, one important use of Fourier transforms is to find periodic signals in data, such as the period of a pulsating or rotating star. This works because the Fourier transform of an infinitely long sine wave is a [delta function](https://en.wikipedia.org/wiki/Dirac_delta_function) at the period of the wave. Let's look at an example. First, we'll load and plot the data:"
   ]
  },
  {
   "cell_type": "code",
   "execution_count": null,
   "metadata": {
    "collapsed": false
   },
   "outputs": [],
   "source": [
    "time, flux = np.loadtxt('../../data/lightcurve.txt',unpack=True)\n",
    "fig,ax = plt.subplots()\n",
    "ax.plot(time,flux,lw=1) # thinner linewidth\n",
    "ax.set_xlabel('Time (hours)')\n",
    "ax.set_ylabel('Flux')\n",
    "plt.show()"
   ]
  },
  {
   "cell_type": "markdown",
   "metadata": {},
   "source": [
    "We can see that it's a periodically variable star, and the period looks to be around 5 hours. Let's calculate a fourier transform to find the period:"
   ]
  },
  {
   "cell_type": "code",
   "execution_count": null,
   "metadata": {
    "collapsed": false
   },
   "outputs": [],
   "source": [
    "# calculate the fast fourier transform \n",
    "# gives an array of fourier transform values at each frequency\n",
    "F = fftpack.rfft(flux)\n",
    "# these values can be positive or negative, we only care about the size\n",
    "F = np.abs(F)\n",
    "\n",
    "#calculate the corresponding frequencies\n",
    "N = len(time) # number of times\n",
    "dt = time[1]-time[0] # time step between times\n",
    "freq = fftpack.rfftfreq(N,dt)\n",
    "\n",
    "#plot the fourier transform\n",
    "fig,ax = plt.subplots()\n",
    "ax.plot(freq,F)\n",
    "ax.set_xlabel('Frequency (1/hour)')\n",
    "ax.set_ylabel('Power')\n",
    "ax.set_xlim(0,5)\n",
    "plt.show()"
   ]
  },
  {
   "cell_type": "markdown",
   "metadata": {},
   "source": [
    "As expected, the Fourier transform has a sharp peak around a frequency $f = 0.2$ hour$^{-1}$, which corresponds to a period $P = 1/f = 5$ hours. However, note the small second peak - this is telling us there is a second period present in the data at $\\sim3$ hours, which we would have missed looking at the data by-eye!\n",
    "\n",
    "### The Lomb-Scargle periodogram\n",
    "\n",
    "The Fourier transform only works on *regularly* spaced data. The Lomb-Scargle periodogram is a classic method for finding periodicity in irregularly-sampled data. Scipy has an implementation of the Lomb-Scargle periodogram. You can find a full tutorial on it's use [here](https://jakevdp.github.io/blog/2015/06/13/lomb-scargle-in-python/)\n",
    "\n",
    "---"
   ]
  },
  {
   "cell_type": "markdown",
   "metadata": {},
   "source": [
    "## Special Functions\n",
    "\n",
    "We have only skimmed the surface of scipy in this lecture. Later we'll see examples of using scipy to solve differential equations, and fit models to data. Before we finish, I want to mention the *special function* module within scipy.\n",
    "\n",
    "Special functions are mathematical functions which have established names because they are important to mathematics or physics. Many special functions are the solutions to differential equations or integrals.\n",
    "\n",
    "To demonstrate the special functions I will use the Bessel functions. Bessel functions are the functions $y(x)$ which solve Bessel's equation\n",
    "\n",
    "$$\n",
    "x^2 \\frac{d^2y}{dx^2} + x \\frac{dy}{dx} + (x^2 - n^2) y = 0.\n",
    "$$\n",
    "\n",
    "The solutions to this equation are called Bessel functions of the first kind. The solution for a given $n$ is denoted $J_n(x)$. No simple expressions for them exist, but they crop up frequently in astronomy - from studies of planetary dynamics, to calculating the rotation curves of galaxies. Therefore it is useful to have computer algorithms for calculating their value at a given value of $x$. Naturally, scipy contains these algorithms!\n",
    "\n",
    "We use them in scipy as follows:"
   ]
  },
  {
   "cell_type": "code",
   "execution_count": null,
   "metadata": {
    "collapsed": false
   },
   "outputs": [],
   "source": [
    "from scipy.special import jn, jn_zeros\n",
    "#\n",
    "# The scipy.special module includes a large number of Bessel-functions\n",
    "# We only use jn, which are the Bessel functions of the first kind \n",
    "# We also include the function jn_zeros that gives the locations of \n",
    "# the zeroes of the function jn\n",
    "#\n",
    "\n",
    "value = jn(0, 1.5)\n",
    "print (\"J_0(1.5) = {:.2f}\".format( value ))"
   ]
  },
  {
   "cell_type": "markdown",
   "metadata": {},
   "source": [
    "Let's use SciPy to plot the Bessel functions from $n=0...3$:"
   ]
  },
  {
   "cell_type": "code",
   "execution_count": null,
   "metadata": {
    "collapsed": false
   },
   "outputs": [],
   "source": [
    "x = np.linspace(0,10,100)\n",
    "fig,ax = plt.subplots()\n",
    "for n in range(4):\n",
    "    ax.plot(x, jn(n, x), label=r'$J_{}(x)$'.format(n))\n",
    "ax.legend()\n",
    "ax.set_xlabel('x')\n",
    "ax.set_ylabel('y')\n",
    "plt.show()"
   ]
  },
  {
   "cell_type": "markdown",
   "metadata": {},
   "source": [
    "And we can use the ```jn_zeros``` function to find the values of $x$ for which the Bessel functions are 0:"
   ]
  },
  {
   "cell_type": "code",
   "execution_count": null,
   "metadata": {
    "collapsed": false
   },
   "outputs": [],
   "source": [
    "# zeros of Bessel functions\n",
    "n = 1 # 1st order Bessel Function\n",
    "m = 3 # number of zeros to compute\n",
    "print( jn_zeros(n,m) )"
   ]
  },
  {
   "cell_type": "markdown",
   "metadata": {},
   "source": [
    "---------\n",
    "<section class=\"challenge panel panel-success\"> \n",
    "<div class=\"panel-heading\">\n",
    "<h1>Homework #2</h1>\n",
    "<h2><span class=\"fa fa-pencil\"></span>Diffraction: The Airy Rings</h2>\n",
    "</div>\n",
    "</section>\n",
    "\n",
    "> One of the places Bessel functions crop up in astronomy is diffraction from a circular aperture. As you recall, we have [seen](http://slittlefair.staff.shef.ac.uk/teaching/phy241/lectures/L01/index.html#marker4) that the finite aperture causes diffraction. In turn this means that stars cannot be point sources in astronomical images. Instead, in the absence of blurring from [seeing](http://slittlefair.staff.shef.ac.uk/teaching/phy241/lectures/L01/index.html#marker3), the star produces a diffraction pattern, known as an Airy disc.\n",
    "\n",
    "> It is possible to show that, for an aperture of diameter $D$, the diffraction pattern produced at an angle $\\theta$ has the form\n",
    ">\n",
    ">$$ I(\\theta) = I_0 \\left( \\frac{2J_1(x)}{x} \\right)^2,$$\n",
    ">\n",
    ">where\n",
    ">\n",
    ">$$ x = \\frac{\\pi D}{\\lambda} \\sin \\theta.$$\n",
    ">\n",
    "> In the equations above, $\\lambda$ is the wavelength of light, $I_0$ is the intensity when $\\theta=0$ and $J_1$ is the Bessel function of the Bessel function of the first kind and order 1.\n",
    "\n",
    "<section class=\"challenge panel panel-success\"> \n",
    "<div class=\"panel-heading\">\n",
    "<h2><span class=\"fa fa-question\"></span>Question 1: 2 points</h2>\n",
    "</div>\n",
    "</section>\n",
    "\n",
    "> Complete the code below to write a function that calculates the diffraction pattern from a telescope. Make sure your function passes the tests below.\n",
    ">\n",
    ">*Hint: read the documentation of the function with care, and think hard about units.*"
   ]
  },
  {
   "cell_type": "code",
   "execution_count": null,
   "metadata": {
    "collapsed": true,
    "deletable": false,
    "nbgrader": {
     "checksum": "ab118a8e129c2e38272ddc3ef40e77df",
     "grade": false,
     "grade_id": "diffraction",
     "locked": false,
     "solution": true
    }
   },
   "outputs": [],
   "source": [
    "def diffraction(D,w,theta):\n",
    "    \"\"\"Calculate the intensity of the diffraction pattern from a telescope\n",
    "    \n",
    "    Args:\n",
    "        D (float): the diameter of the telescope, in metres\n",
    "        w (float): the wavelength of light, in metres\n",
    "        theta (float): the angle from the centre of the star, IN ARCSECONDS\n",
    "        \n",
    "    Returns:\n",
    "        float: the intensity of the diffraction pattern, normalised to unity at theta=0\n",
    "    \"\"\"\n",
    "    # YOUR CODE HERE\n",
    "    raise NotImplementedError()"
   ]
  },
  {
   "cell_type": "code",
   "execution_count": null,
   "metadata": {
    "collapsed": false,
    "deletable": false,
    "nbgrader": {
     "checksum": "e6bc3fecc2968d5bb3b1319023f3bfcb",
     "grade": true,
     "grade_id": "diffraction_tests",
     "locked": true,
     "points": 2,
     "solution": false
    }
   },
   "outputs": [],
   "source": [
    "from nose.tools import assert_equals, assert_almost_equal\n",
    "assert_almost_equal(diffraction(0.2,550e-9,0.5), 0.09191596586)"
   ]
  },
  {
   "cell_type": "markdown",
   "metadata": {},
   "source": [
    "<section class=\"challenge panel panel-success\"> \n",
    "<div class=\"panel-heading\">\n",
    "<h2><span class=\"fa fa-question\"></span>Question 2: 1 point</h2>\n",
    "</div>\n",
    "</section>\n",
    "\n",
    "> Plot the diffraction pattern for a 1m diameter telescope observing at a wavelength of 550 nm. You should calculate plot the diffraction pattern between 0 and 1 arcsecond.\n",
    "\n",
    "> *Hint: the function you have written will probably return NaN (not a number) for $\\theta=0$. Make sure you start calculating the diffraction pattern value at a very small, but non-zero value of $\\theta$.*"
   ]
  },
  {
   "cell_type": "code",
   "execution_count": null,
   "metadata": {
    "collapsed": false,
    "deletable": false,
    "nbgrader": {
     "checksum": "17599eb29fd6e3a1e2812f0ff7cba983",
     "grade": true,
     "grade_id": "plot",
     "locked": false,
     "points": 1,
     "solution": true
    }
   },
   "outputs": [],
   "source": [
    "# YOUR CODE HERE\n",
    "raise NotImplementedError()"
   ]
  },
  {
   "cell_type": "markdown",
   "metadata": {},
   "source": [
    "<section class=\"challenge panel panel-success\"> \n",
    "<div class=\"panel-heading\">\n",
    "<h2><span class=\"fa fa-question\"></span>Question 3: 3 points</h2>\n",
    "</div>\n",
    "</section>\n",
    "\n",
    "> Below you have two cells, a code cell and a markdown cell. In the **code cell**, use the ```jn_zeros``` function to find the value of $x$ where the diffraction pattern has it's first zero. In the **markdown cell**, show that this means that the first zero lies at an angle \n",
    ">\n",
    ">$$\\theta = 1.22 \\frac{\\lambda}{D}.$$\n",
    ">\n",
    "> In the markdown cell, **briefly** explain why this leads to the [Rayleigh criterion](http://slittlefair.staff.shef.ac.uk/teaching/phy241/lectures/L01/index.html#marker4) for resolving two objects.\n",
    ">\n",
    "> *Hint: you might want to look over the bootcamp section on [writing equations](http://nbviewer.ipython.org/github/StuartLittlefair/python-teaching/blob/master/pybootcamp-part1/04-Jupyter_markdown.ipynb) in markdown*"
   ]
  },
  {
   "cell_type": "code",
   "execution_count": null,
   "metadata": {
    "collapsed": false,
    "deletable": false,
    "nbgrader": {
     "checksum": "f5d94ec2825cb722ae8a3837ee7168c8",
     "grade": true,
     "grade_id": "zeros_code",
     "locked": false,
     "points": 1,
     "solution": true
    }
   },
   "outputs": [],
   "source": [
    "# YOUR CODE HERE\n",
    "raise NotImplementedError()"
   ]
  },
  {
   "cell_type": "markdown",
   "metadata": {
    "deletable": false,
    "nbgrader": {
     "checksum": "ec0e0155573413840a20e949c13003e4",
     "grade": true,
     "grade_id": "zeros_md",
     "locked": false,
     "points": 2,
     "solution": true
    }
   },
   "source": [
    "YOUR ANSWER HERE"
   ]
  },
  {
   "cell_type": "markdown",
   "metadata": {},
   "source": [
    "<section class=\"challenge panel panel-success\"> \n",
    "<div class=\"panel-heading\">\n",
    "<h2><span class=\"fa fa-question\"></span>Question 4a: 1 point</h2>\n",
    "</div>\n",
    "</section>\n",
    "\n",
    "> In practice, we hardly ever reach the diffraction limit of a telescope. This is because the image is further blurred by turbulence in the atmosphere, or [seeing](http://slittlefair.staff.shef.ac.uk/teaching/phy241/lectures/L01/index.html#marker3). \n",
    "\n",
    "> Looking at the linked notes, we can see that one way to think about seeing is that large aperture telescopes collect wavefronts of light with many tiny corrugations. Each straight section of the wavefront produces a little Airy discs, which is shifted in position a small amount due to the tilt of the wavefront. In a single exposure, all these little Airy discs are added together to make the final image of a star. \n",
    "\n",
    "> In the cells below, you will simulate this process for a 1m telescope observing at 550 nm. This is fairly complex, so I will guide you through it step by step.\n",
    "\n",
    "> To start with, we need to modify the Airy disc function above to accept a fourth argument, which will be the amount the Airy disc is shifted due to seeing, measured in arcseconds. Make sure the modified function passes the tests below before proceeding!"
   ]
  },
  {
   "cell_type": "code",
   "execution_count": null,
   "metadata": {
    "collapsed": false,
    "deletable": false,
    "nbgrader": {
     "checksum": "da75aa0588d41e2752e47fb01898f068",
     "grade": false,
     "grade_id": "new_diffraction",
     "locked": false,
     "solution": true
    }
   },
   "outputs": [],
   "source": [
    "def diffraction(D,w,theta,theta_off):\n",
    "    \"\"\"Calculate the intensity of the diffraction pattern from a telescope\n",
    "    \n",
    "    Args:\n",
    "        D (float): the diameter of the telescope, in metres\n",
    "        w (float): the wavelength of light, in metres\n",
    "        theta (float): the angle from the centre of the star, IN ARCSECONDS\n",
    "        theta_off (float): an amount to shift the diffraction pattern by, IN ARCSECONDS\n",
    "        \n",
    "    Returns:\n",
    "        float: the intensity of the diffraction pattern, normalised to unity at theta=0\n",
    "    \"\"\"\n",
    "# YOUR CODE HERE\n",
    "raise NotImplementedError()"
   ]
  },
  {
   "cell_type": "code",
   "execution_count": null,
   "metadata": {
    "collapsed": false,
    "deletable": false,
    "nbgrader": {
     "checksum": "83826c3cc8c78b9fbb262b59ba2d7620",
     "grade": true,
     "grade_id": "new_diffraction_tests",
     "locked": true,
     "points": 1,
     "solution": false
    }
   },
   "outputs": [],
   "source": [
    "from nose.tools import assert_equals, assert_almost_equal\n",
    "assert_almost_equal(diffraction(0.2,550e-9,0.5,0.0), 0.09191596586)\n",
    "assert_almost_equal(diffraction(0.2,550e-9,0.5,0.5001), 0.999999923313)"
   ]
  },
  {
   "cell_type": "markdown",
   "metadata": {},
   "source": [
    "<section class=\"challenge panel panel-success\"> \n",
    "<div class=\"panel-heading\">\n",
    "<h2><span class=\"fa fa-question\"></span>Question 4b: 3 points</h2>\n",
    "</div>\n",
    "</section>\n",
    "\n",
    ">Next we will simulate the effect of seeing by creating 50,000 little Airy disc patterns, each offset by a random amount and adding them together to find the resulting stellar profile. To help you, I explain how to do this in more detail:\n",
    "\n",
    "> 2. Use ```np.linspace``` to make an x grid between 0 and 2 arcseconds, with 100 steps\n",
    "3. Use ```np.zeros``` to create an array of zeros with 100 entries. We will use this to store our stellar profile as it builds up.\n",
    "4. Create a matplotlib figure and axis\n",
    "5. Use a for loop to do the following 50,000 times:\n",
    "  * Simulate the effect of 0.5 arcsecond seeing by calculating a random number, which is normally distributed with a mean of 0 and a standard deviation of 0.5. This random number will be the shift in this Airy disc pattern, caused by the seeing.\n",
    "  * Using this random number as the offset argument, calculate the diffraction pattern\n",
    "  * each time around the for loop, add your diffraction pattern into the total diffraction pattern array\n",
    "6. Plot the total diffraction pattern"
   ]
  },
  {
   "cell_type": "code",
   "execution_count": null,
   "metadata": {
    "collapsed": false,
    "deletable": false,
    "nbgrader": {
     "checksum": "aa3772099d61c9b166c6f7bf52f6458d",
     "grade": true,
     "grade_id": "seeing",
     "locked": false,
     "points": 3,
     "solution": true
    }
   },
   "outputs": [],
   "source": [
    "# YOUR CODE HERE\n",
    "raise NotImplementedError()"
   ]
  },
  {
   "cell_type": "markdown",
   "metadata": {},
   "source": [
    "<section class=\"panel panel-warning\"> \n",
    "<div class=\"panel-heading\">\n",
    "<h2><span class=\"fa fa-question\"></span>Extra Credit (4 points)</h2>\n",
    "</div>\n",
    "</section>\n",
    "\n",
    "> So far everything we have done has been in 1D. For extra credit this week, I want you to calculate and plot the Airy disc in two dimensions. If you've used numpy functions for your ```diffraction``` function it should work equally well when the ```theta``` argument is a scalar, a 1D array or a 2D array.\n",
    "\n",
    "> The challenge, then, is to create a 2D array of theta values where each entry in the array is the distance (in arcseconds) from the central array entry. I won't give you too much help here - so unleash your Google skills! The only hint I'll give you is that part of the solution is to use numpy's [meshgrid](http://docs.scipy.org/doc/numpy/reference/generated/numpy.meshgrid.html) function.\n",
    "\n",
    "> When you display your 2D Airy disc, try looking at the help for matplotlib's ```imshow``` function and use the ```vmin``` and ```vmax``` arguments to highlight the outer structure in the Airy disc. \n"
   ]
  },
  {
   "cell_type": "code",
   "execution_count": null,
   "metadata": {
    "collapsed": false,
    "deletable": false,
    "nbgrader": {
     "checksum": "43b1a2f2a3424f07558ba661a7bacc3d",
     "grade": true,
     "grade_id": "extra_credit",
     "locked": false,
     "points": 4,
     "solution": true
    }
   },
   "outputs": [],
   "source": [
    "# YOUR CODE HERE\n",
    "raise NotImplementedError()"
   ]
  }
 ],
 "metadata": {
  "kernelspec": {
   "display_name": "IPython (Python 3)",
   "language": "python",
   "name": "python3"
  },
  "language_info": {
   "codemirror_mode": {
    "name": "ipython",
    "version": 3
   },
   "file_extension": ".py",
   "mimetype": "text/x-python",
   "name": "python",
   "nbconvert_exporter": "python",
   "pygments_lexer": "ipython3",
   "version": "3.4.3"
  }
 },
 "nbformat": 4,
 "nbformat_minor": 0
}