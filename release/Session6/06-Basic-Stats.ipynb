{
 "cells": [
  {
   "cell_type": "markdown",
   "metadata": {},
   "source": [
    "###### The cell below loads the visual style of the notebook when run."
   ]
  },
  {
   "cell_type": "code",
   "execution_count": null,
   "metadata": {
    "collapsed": false
   },
   "outputs": [],
   "source": [
    "from IPython.core.display import HTML\n",
    "css_file = '../../styles/styles.css'\n",
    "HTML(open(css_file, \"r\").read())"
   ]
  },
  {
   "cell_type": "markdown",
   "metadata": {},
   "source": [
    "# Statistics in Python"
   ]
  },
  {
   "cell_type": "markdown",
   "metadata": {},
   "source": [
    "<section class=\"objectives panel panel-warning\">\n",
    "<div class=\"panel-heading\">\n",
    "<h2><span class=\"fa fa-certificate\"></span>Learning Objectives</h2>\n",
    "</div>\n",
    "</section>\n",
    "\n",
    "> * Explore the connection between the Gaussian distribution and error bars\n",
    "* Investigate the origin of the uncertainty transformation formula, and when it breaks down\n",
    "* Tackle statistical problems with monte-carlo techniques\n",
    "* Show that photon counting follows the Poisson distribution\n",
    "\n",
    "\n",
    "In the [lectures](http://slittlefair.staff.shef.ac.uk/teaching/phy241/lectures/L10/index.html) we introduced some basic statistics, and showed how the concepts of error bars and the Gaussian distribution are linked. In this Python practical, we investigate these concepts further, by using Python's ability to generate *random numbers*.\n",
    "\n",
    "### numpy.random\n",
    "\n",
    "The module ```numpy.random``` contains many functions to draw a set of random numbers from many different distributions. For example, we can draw 1000 numbers at random from a Gaussian distribution using the ```normal``` function:"
   ]
  },
  {
   "cell_type": "code",
   "execution_count": null,
   "metadata": {
    "collapsed": false
   },
   "outputs": [],
   "source": [
    "import numpy.random as random\n",
    "from matplotlib import pyplot as plt\n",
    "import numpy as np\n",
    "%matplotlib inline\n",
    "\n",
    "# draw 1000 random numbers\n",
    "rand_numbers = random.normal(size=1000)\n",
    "\n",
    "# plot their histogram, normalised so area under histogram=1\n",
    "# I'm going to do this a lot, so make a function to do it!\n",
    "def plot_rv(samples):\n",
    "    fig,ax = plt.subplots()\n",
    "    ax.hist(samples, normed=True)\n",
    "    ax.set_xlabel('x')\n",
    "    ax.set_ylabel('PDF(x)')\n",
    "    plt.show()\n",
    "\n",
    "# call the function\n",
    "plot_rv(rand_numbers)"
   ]
  },
  {
   "cell_type": "markdown",
   "metadata": {},
   "source": [
    "## Gaussian random numbers and error bars\n",
    "\n",
    "One of the way this can be useful is to create simulated observations of a quantity. [Recall](http://slittlefair.staff.shef.ac.uk/teaching/phy241/lectures/L10/index.html#errors) that when scientists write $x = 10 \\pm 2$ is it *usually* shorthand for the fact that our knowledge about $x$ is represented by a Gaussian distribution with mean 10 and standard deviation 2. We can *simulate* many measurements of $x$ by drawing random numbers from the corresponding Gaussian (normal) distribution:"
   ]
  },
  {
   "cell_type": "code",
   "execution_count": null,
   "metadata": {
    "collapsed": false
   },
   "outputs": [],
   "source": [
    "# note how we use the loc and scale arguments\n",
    "# to specify mean and std. dev. of Gaussian\n",
    "xvals = random.normal(loc=10,scale=2,size=1000)\n",
    "\n",
    "# xvals is a numpy array of simulated measurements of x\n",
    "print(type(xvals))\n",
    "print(len(xvals))\n",
    "\n",
    "plot_rv(xvals)"
   ]
  },
  {
   "cell_type": "markdown",
   "metadata": {},
   "source": [
    "The array ```xvals``` contains many samples of $x$, as if we'd measured $x$ over and over again. Drawing these kind of samples is an incredibly useful way of simulating statistical problems. For example, we can calculate the probability that some statement is true, by looking at the *fraction* of our samples that satisfy that statement.\n",
    "\n",
    "As an example, for the measurement above $x = 10 \\pm 2$ what is the probability that the true value of x is at least 14? We can use what we learnt about fancy slicing in numpy to answer the question. The expression ```xvals >= 14``` will return an array which contains ```True``` or ```False``` for each entry in ```xvals```. We can count the number of ```True``` entries using ```np.count_nonzero```. Therefore, the fraction of random samples which are at least 14 is given by:"
   ]
  },
  {
   "cell_type": "code",
   "execution_count": null,
   "metadata": {
    "collapsed": false
   },
   "outputs": [],
   "source": [
    "frac_greater_than_14 = np.count_nonzero(xvals>=14)/len(xvals)\n",
    "print('Probability that x >= 14 is', 100*frac_greater_than_14, ' percent')"
   ]
  },
  {
   "cell_type": "markdown",
   "metadata": {},
   "source": [
    "<section class=\"challenge panel panel-success\"> \n",
    "<div class=\"panel-heading\">\n",
    "<h2><span class=\"fa fa-pencil\"></span>Properties of Gaussian distribution</h2>\n",
    "</div>\n",
    "</section>\n",
    "\n",
    "> We saw in the [stats lecture](http://slittlefair.staff.shef.ac.uk/teaching/phy241/lectures/L10/index.html#gaussian) that there is a roughly $\\sim30$% chance that a Gaussian random variable will lie more than 1$\\sigma$ away from the mean. Confirm that this is true by seeing what fraction of the random numbers in ```xvals``` have values less than 8 or more than 12. \n",
    "\n",
    "> What fraction of our samples lie more than 2$\\sigma$ from the mean?"
   ]
  },
  {
   "cell_type": "code",
   "execution_count": null,
   "metadata": {
    "collapsed": false
   },
   "outputs": [],
   "source": [
    "# YOUR CODE HERE"
   ]
  },
  {
   "cell_type": "markdown",
   "metadata": {},
   "source": [
    "<section class=\"challenge panel panel-success\"> \n",
    "<div class=\"panel-heading\">\n",
    "<h2><span class=\"fa fa-pencil\"></span>Combinations of random variables</h2>\n",
    "</div>\n",
    "</section>\n",
    "\n",
    "> Let us test the equation of error propagation that we derived in the lectures. Suppose we measure \n",
    "two quantities: $x = 100 \\pm 3$ and $y = 80 \\pm 4$. According to the equation of error propagation, \n",
    "the sum $z = x+y$ should be normally distributed with mean $\\bar{z} = 180$ and standard deviation $\\sigma_z = \\sqrt{9+16} = 5$.\n",
    "\n",
    "> Test this by drawing 1000 random samples for $x$, 1000 random samples for $y$ and adding them together. Calculate the mean and standard deviation of the result, and plot the histogram to see if it looks like a Gaussian"
   ]
  },
  {
   "cell_type": "code",
   "execution_count": null,
   "metadata": {
    "collapsed": false
   },
   "outputs": [],
   "source": [
    "# YOUR CODE HERE"
   ]
  },
  {
   "cell_type": "markdown",
   "metadata": {},
   "source": [
    "## Using simulation for difficult cases of error propagation.\n",
    "\n",
    "The same technique as above can be a very useful way of handling difficult error propagation calculations. For example, the radial velocity of a star with an orbiting planet is given by:\n",
    "\n",
    "$$ v^{3} \\approx \\frac{2 \\pi G}{P} \\frac{m_{p}^{3} \\sin^{3} i}{m_{s}^{2}},$$\n",
    "\n",
    "where $P$ is the orbital period, $m_{p}$ is the mass of the planet, $m_{s}$ is the mass of the star and $i$ is the inclination of the planet's orbit to our line of sight. If $m_s = (2.00 \\pm 0.05) \\times 10^{30}$ kg, $m_p = (2.00 \\pm 0.05) \\times 10^{27}$ kg, $P = 5.000 \\pm 0.001$ years and $i = 75 \\pm 5$ degrees, calculate the radial velocity and it's error.\n",
    "\n",
    "This would be hard to calculate using the formula - the $\\sin^3$ term alone is a bit of a nightmare. However, we can readily simulate it..."
   ]
  },
  {
   "cell_type": "code",
   "execution_count": null,
   "metadata": {
    "collapsed": false
   },
   "outputs": [],
   "source": [
    "# set up some useful variables\n",
    "year_in_secs = 86400 * 365\n",
    "Nsims = 100000\n",
    "G = 6.67e-11\n",
    "\n",
    "# simulate many observations of all the input variables\n",
    "P  = np.random.normal(loc=5*year_in_secs, scale=0.001*year_in_secs, size=Nsims)\n",
    "mp = np.random.normal(loc=2.0e27, scale=0.05e27, size=Nsims)\n",
    "ms = np.random.normal(loc=2.0e30, scale=0.05e30, size=Nsims)\n",
    "i  = np.random.normal(loc=75, scale=5, size=Nsims)\n",
    "\n",
    "# convert i to radians\n",
    "i  = np.radians(i)\n",
    "\n",
    "# now we have arrays with 100000 samples of input measurements\n",
    "# calculate array of resulting v**3 values\n",
    "v3 = 2*np.pi*G * mp**3 * np.sin(i)**3 / P / ms**2\n",
    "\n",
    "# cube root\n",
    "v = v3**(1./3.)\n",
    "\n",
    "# calculate mean and std dev\n",
    "print(\"Mean velocity = {:.1f} +/- {:.1f} m/s\".format( v.mean(), v.std() ))"
   ]
  },
  {
   "cell_type": "markdown",
   "metadata": {},
   "source": [
    "### The breakdown of the error propagation formula\n",
    "\n",
    "We can also use this technique to explore situations where the error propagation formula we derived breaks down. In the lecture we [derived the formula](http://slittlefair.staff.shef.ac.uk/teaching/phy241/lectures/L10/index.html#propagation) for the error on $y=f(x)$ using a Taylor expansion of $f(x)$ around the mean of $x$, $\\mu_x$.\n",
    "\n",
    "One of the ways this can break down is if the error bar is not small - this means approximating $y=f(x)$ with a Taylor expansion is not a good approximation (look at [Figure 53](http://slittlefair.staff.shef.ac.uk/teaching/phy241/lectures/L10/index.html#propagation) in the notes to see this graphically)"
   ]
  },
  {
   "cell_type": "markdown",
   "metadata": {},
   "source": [
    "<section class=\"challenge panel panel-success\"> \n",
    "<div class=\"panel-heading\">\n",
    "<h2><span class=\"fa fa-pencil\"></span>Breakdown of error propagation 1: large error bars</h2>\n",
    "</div>\n",
    "</section>\n",
    "\n",
    "> The $V$-band magnitude of a star is $V = 22 \\pm 1$. Using the method above, draw many samples of the stars's magnitude and convert them to fluxes in mJy. Plot the histogram of the fluxes.\n",
    "\n",
    "> (You can assume that a star with $V=0$ has a flux of 3631 mJy)"
   ]
  },
  {
   "cell_type": "code",
   "execution_count": null,
   "metadata": {
    "collapsed": false
   },
   "outputs": [],
   "source": [
    "# YOUR CODE HERE"
   ]
  },
  {
   "cell_type": "markdown",
   "metadata": {},
   "source": [
    "If you did the example above correctly, you should find the resulting distribution of fluxes is **not** a Gaussian. This makes it very hard to meaningfully express the flux of the star in the form $F = \\bar{F} \\pm \\sigma_F$. It is the large error on the magnitude that is the cause of the problem - you should be very cautious about applying the error propagation formula when the uncertainties are large!\n",
    "\n",
    "## Simulation as a general approach\n",
    "\n",
    "The examples above are specific examples of using random numbers and simulation as an approach to statistical questions. The approach can be generalised to tackle many different problems. The basic idea is to write some code that simulates the process of interest, run it many times and look at the results of your simulation. \n",
    "\n",
    "It can be applied to probability more generally, using the following trick. Suppose the probability of event $A$ is $P(A) = q$. If you want to see if $A$ occurred in each trial, choose a random number $x$ uniformly distributed between 0 and 1. If $x <= q$, then event $A$ occured.\n",
    "\n",
    "### An example: Boys vs. Girls\n",
    "\n",
    "Suppose there's an island on which boys and girls are equally likely to be born, but families stop having children after their first boy. Do you expect equal numbers of boys and girls to be born? Let's simulate it. First we write a function that simulates a single family: "
   ]
  },
  {
   "cell_type": "code",
   "execution_count": null,
   "metadata": {
    "collapsed": false
   },
   "outputs": [],
   "source": [
    "def family():\n",
    "    ngirls = 0\n",
    "    nboys = 0\n",
    "    # keep breeding until we have a boy!\n",
    "    while(nboys == 0):\n",
    "        # pick a random (uniform) number between 0 and 1\n",
    "        rand_num = random.uniform()\n",
    "        if rand_num > 0.5:\n",
    "            nboys  = nboys + 1\n",
    "        else:\n",
    "            ngirls = ngirls + 1\n",
    "    # done having kids\n",
    "    return nboys, ngirls\n",
    "\n",
    "# we can call this to simulate a family picked at random\n",
    "nb,ng= family()\n",
    "print(\"Random family had {} boys and {} girls\".format(nb,ng))"
   ]
  },
  {
   "cell_type": "markdown",
   "metadata": {},
   "source": [
    "Obviously, by construction each family will always have one boy, but the numbers of girls born to each family will differ. Let's simulate many families:"
   ]
  },
  {
   "cell_type": "code",
   "execution_count": null,
   "metadata": {
    "collapsed": false
   },
   "outputs": [],
   "source": [
    "nboys, ngirls = 0,0\n",
    "for i in range(100000):\n",
    "    nb,ng = family()\n",
    "    nboys = nboys + nb\n",
    "    ngirls = ngirls + ng\n",
    "    \n",
    "total_children = nboys+ngirls\n",
    "print(\"{:.1f} percent of all children are boys\".format(100*nboys/total_children))\n",
    "print(\"{:.1f} percent of all children are girls\".format(100*ngirls/total_children))"
   ]
  },
  {
   "cell_type": "markdown",
   "metadata": {},
   "source": [
    "Perhaps surprisingly, our results show that there will be as many boys as girls!"
   ]
  },
  {
   "cell_type": "markdown",
   "metadata": {},
   "source": [
    "<section class=\"challenge panel panel-success\"> \n",
    "<div class=\"panel-heading\">\n",
    "<h1>Homework #6</h1>\n",
    "<h2><span class=\"fa fa-pencil\"></span>Counting Photons</h2>\n",
    "</div>\n",
    "</section>\n",
    "\n",
    "In the homework this week, we are going to use the approaches we learnt above to show that the number of photons detected in an exposure follow the Poisson distribution, and that this distribution tends towards a Gaussian when the expected number of photons becomes large.\n",
    "\n",
    "We start with a simple way to simulate the number of photons detected per second. Let us say that, on average, a star emits $N$ photons/sec. However, each photon is emitted at random. Consider a very small time interval $\\tau$. If we have $N$ photons/sec, we expect to see one photon in the time interval $\\tau$ with probability $N\\tau$. For example, if $\\tau = 1/1000^{\\rm th}$ of a second and N=10 photons/sec, we expect to detect one photon with probability $10/1000 = 0.01$. We might see two photons in this time interval, but that's very unlikely, so we'll ignore it for now."
   ]
  },
  {
   "cell_type": "markdown",
   "metadata": {},
   "source": [
    "<section class=\"challenge panel panel-success\"> \n",
    "<div class=\"panel-heading\">\n",
    "<h2><span class=\"fa fa-pencil\"></span>Q1: Simulating a very short time span (2 points)</h2>\n",
    "</div>\n",
    "</section>\n",
    "\n",
    "> Write a function to simulate a single short timespan. Your function should accept the average number of photons/sec and the length of the timespan as arguments. It should return either 1 or 0 depending on whether a photon was emitted or not.\n",
    "\n",
    "> Remember that the function you write should be able to pass the tests in the cell beneath it."
   ]
  },
  {
   "cell_type": "code",
   "execution_count": null,
   "metadata": {
    "collapsed": true,
    "deletable": false,
    "nbgrader": {
     "checksum": "de5d07732dab9a3848b5897d6b263277",
     "grade": false,
     "grade_id": "shortspan",
     "locked": false,
     "solution": true
    }
   },
   "outputs": [],
   "source": [
    "def sim_timespan(N,tau):\n",
    "    \"\"\"Simulate a short timespan and see if a photon is emitted\n",
    "    \n",
    "    The timespan should be short, so that we can neglect the possibility that two photons are emitted.\n",
    "    \n",
    "    Args:\n",
    "    \n",
    "        N (float): average number of photons/sec emitted\n",
    "        tau (float): length of timespan in seconds\n",
    "    \"\"\"\n",
    "    # YOUR CODE HERE\n",
    "    raise NotImplementedError()"
   ]
  },
  {
   "cell_type": "code",
   "execution_count": null,
   "metadata": {
    "collapsed": true,
    "deletable": false,
    "nbgrader": {
     "checksum": "0977c7b420c0b4a11ed758986a403a68",
     "grade": true,
     "grade_id": "shortspan_test",
     "locked": true,
     "points": 2,
     "solution": false
    }
   },
   "outputs": [],
   "source": [
    "from nose.tools import assert_almost_equal, assert_equal, assert_in\n",
    "# check we get either 0 or 1\n",
    "assert_in(sim_timespan(10,1/400),(0,1))\n",
    "\n",
    "# run 10000 sims\n",
    "many_sims = np.array([sim_timespan(10,1/400) for i in range(10000)])\n",
    "# check that we get a photon 2.5% of the time in this simulation\n",
    "assert_almost_equal(np.fabs(many_sims.mean() - 0.025),0,places=1)"
   ]
  },
  {
   "cell_type": "markdown",
   "metadata": {},
   "source": [
    "<section class=\"challenge panel panel-success\"> \n",
    "<div class=\"panel-heading\">\n",
    "<h2><span class=\"fa fa-pencil\"></span>Q2: Simulating a whole second (3 points)</h2>\n",
    "</div>\n",
    "</section>\n",
    "\n",
    "> Now you have a function that simulates a single short timespan, you can simulate a whole second.\n",
    "\n",
    "> The function below should break the second into 500 short timespans, and for each timespan see if a \n",
    "> photon is emitted or not. Add all the photons that are emitted to get the total number of photons that\n",
    "> are emitted in a second.\n",
    "\n",
    "> Rather than call your function above, for full marks you should work out how to perform this calculation\n",
    "> by generating 500 random numbers - this will be much faster to run.\n",
    "\n",
    "> Remember that the function you write should be able to pass the tests in the cell beneath it."
   ]
  },
  {
   "cell_type": "code",
   "execution_count": null,
   "metadata": {
    "collapsed": true,
    "deletable": false,
    "nbgrader": {
     "checksum": "c8f331b1b056568045b6f4fcbe91d4fa",
     "grade": false,
     "grade_id": "onesec",
     "locked": false,
     "solution": true
    }
   },
   "outputs": [],
   "source": [
    "def detected_photons(N):\n",
    "    \"\"\"Calculate the number of photons emitted in a given second interval\n",
    "    \n",
    "    Calculates the number of photons emitted in an interval of one second, chosen at random.\n",
    "    \n",
    "    Args:\n",
    "        N (float): the average number of photons emitted per second\n",
    "    Raises:\n",
    "        AssertionError: if N <= 1\n",
    "    \"\"\"\n",
    "    assert N>=1, \"N cannot be 0 or negative\"\n",
    "    # YOUR CODE HERE\n",
    "    raise NotImplementedError()"
   ]
  },
  {
   "cell_type": "code",
   "execution_count": null,
   "metadata": {
    "collapsed": false,
    "deletable": false,
    "nbgrader": {
     "checksum": "571d7760fe1c95bf725fc6755d3fd143",
     "grade": true,
     "grade_id": "onesec_tests",
     "locked": true,
     "points": 3,
     "solution": false
    }
   },
   "outputs": [],
   "source": [
    "from nose.tools import assert_less\n",
    "#run many sims\n",
    "many_sims = np.array([detected_photons(20) for i in range(10000)])\n",
    "assert_less(np.fabs(many_sims.mean()-20), 0.1)"
   ]
  },
  {
   "cell_type": "markdown",
   "metadata": {},
   "source": [
    "<section class=\"challenge panel panel-success\"> \n",
    "<div class=\"panel-heading\">\n",
    "<h2><span class=\"fa fa-pencil\"></span>Q3: 3 photons per second (2 points)</h2>\n",
    "</div>\n",
    "</section>\n",
    "\n",
    "> Use the function you have written to simulate 10 000 exposures of 1 second, when the average number of photons per second is 3. Plot a histogram of the number of photons detected in each exposure.\n"
   ]
  },
  {
   "cell_type": "code",
   "execution_count": null,
   "metadata": {
    "collapsed": false,
    "deletable": false,
    "nbgrader": {
     "checksum": "e2ad2f7a9ef8283ccc50214d787819bd",
     "grade": true,
     "grade_id": "threephotons",
     "locked": false,
     "points": 2,
     "solution": true
    }
   },
   "outputs": [],
   "source": [
    "# YOUR CODE HERE\n",
    "raise NotImplementedError()"
   ]
  },
  {
   "cell_type": "markdown",
   "metadata": {},
   "source": [
    "<section class=\"challenge panel panel-success\"> \n",
    "<div class=\"panel-heading\">\n",
    "<h2><span class=\"fa fa-pencil\"></span>Q4: 30 photons per second (2 points)</h2>\n",
    "</div>\n",
    "</section>\n",
    "\n",
    "> Use the function you have written to simulate 10 000 exposures of 1 second, when the average number of photons per second is 30. Plot a histogram of the number of photons detected in each exposure.\n",
    "\n",
    "> For comparison, on the same plot, draw the PDF for a Gaussian of mean $30$ and standard deviation $\\sqrt{30}$"
   ]
  },
  {
   "cell_type": "code",
   "execution_count": null,
   "metadata": {
    "collapsed": false,
    "deletable": false,
    "nbgrader": {
     "checksum": "b2c5f1f200d5e04dd7fb917c02d8565b",
     "grade": true,
     "grade_id": "thirtyphotons",
     "locked": false,
     "points": 2,
     "solution": true
    }
   },
   "outputs": [],
   "source": [
    "# YOUR CODE HERE\n",
    "raise NotImplementedError()"
   ]
  },
  {
   "cell_type": "markdown",
   "metadata": {},
   "source": [
    "<section class=\"challenge panel panel-success\"> \n",
    "<div class=\"panel-heading\">\n",
    "<h2><span class=\"fa fa-pencil\"></span>Q5: 30 photons per second (1 points)</h2>\n",
    "</div>\n",
    "</section>\n",
    "\n",
    "> Using the results of the simulation above. If the average number of photons per second is 30, what is the probability that we detect less than 20 photons in a 1 second exposure? \n",
    "\n",
    "> Store your answer in a variable called ```prob_lt_20```."
   ]
  },
  {
   "cell_type": "code",
   "execution_count": null,
   "metadata": {
    "collapsed": false,
    "deletable": false,
    "nbgrader": {
     "checksum": "fbd5d85e75143444efdb810f6df7c7ef",
     "grade": false,
     "grade_id": "lessthan20",
     "locked": false,
     "solution": true
    }
   },
   "outputs": [],
   "source": [
    "# YOUR CODE HERE\n",
    "raise NotImplementedError()"
   ]
  },
  {
   "cell_type": "code",
   "execution_count": null,
   "metadata": {
    "collapsed": true,
    "deletable": false,
    "nbgrader": {
     "checksum": "b6d5cdb08cd849096485246f21830a4a",
     "grade": true,
     "grade_id": "lessthan20_tests",
     "locked": true,
     "points": 1,
     "solution": false
    }
   },
   "outputs": [],
   "source": [
    "from nose.tools import assert_almost_equal\n",
    "assert_almost_equal(np.fabs(prob_lt_20-0.02),0,places=1)"
   ]
  },
  {
   "cell_type": "markdown",
   "metadata": {},
   "source": [
    "<section class=\"panel panel-warning\"> \n",
    "<div class=\"panel-heading\">\n",
    "<h2><span class=\"fa fa-question\"></span>Extra Credit (4 points)</h2>\n",
    "</div>\n",
    "</section>\n",
    "\n",
    "> Extra credit questions allow you to make up for marks dropped in this and other homeworks. You can't score more than 100% overall, but if you get 4 extra credit points this week, and lose 4 points next week, you'd still be on course for 100% marks. I don't expect you to answer extra credit questions, *unless you want to*.\n",
    "\n",
    "> For extra credit this week write a simulation to solve the following problem (fair warning - this one is tough). You are a contestant on a game show...\n",
    "\n",
    "> - There are 3 doors, behind which are two goats and a car.\n",
    "- You pick a door (call it door A). You’re hoping for the car of course.\n",
    "- The game show host examines the other doors (B & C) and always opens one of them with a goat (both doors might have goats; he’ll randomly pick one to open).\n",
    "- You are given a choice to stick with your original door, or switch to the other door.\n",
    "\n",
    "> Should you stick, or switch?\n",
    "\n",
    "> You'll need to write a function that simulates a single game, and then call this function many times whilst sticking, and again whilst switching to see how your success rate depends on the strategy.\n",
    "\n",
    "> *Hint: you'll want to use the ```randint``` function in the ```numpy.random``` module to choose a door*"
   ]
  },
  {
   "cell_type": "code",
   "execution_count": null,
   "metadata": {
    "collapsed": false,
    "deletable": false,
    "nbgrader": {
     "checksum": "053d2811cf3d858c6fd81f1e2fc31dee",
     "grade": true,
     "grade_id": "monty_hall",
     "locked": false,
     "points": 4,
     "solution": true
    },
    "scrolled": true
   },
   "outputs": [],
   "source": [
    "# YOUR CODE HERE\n",
    "raise NotImplementedError()"
   ]
  }
 ],
 "metadata": {
  "kernelspec": {
   "display_name": "Python 3",
   "language": "python",
   "name": "python3"
  },
  "language_info": {
   "codemirror_mode": {
    "name": "ipython",
    "version": 3
   },
   "file_extension": ".py",
   "mimetype": "text/x-python",
   "name": "python",
   "nbconvert_exporter": "python",
   "pygments_lexer": "ipython3",
   "version": "3.5.0"
  }
 },
 "nbformat": 4,
 "nbformat_minor": 0
}